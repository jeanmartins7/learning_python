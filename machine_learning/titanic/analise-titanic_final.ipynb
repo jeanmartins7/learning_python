{
 "cells": [
  {
   "cell_type": "code",
   "execution_count": 1,
   "metadata": {
    "id": "veUoqI_btyzI",
    "ExecuteTime": {
     "end_time": "2023-06-20T22:00:46.239734172Z",
     "start_time": "2023-06-20T22:00:46.236819764Z"
    }
   },
   "outputs": [],
   "source": [
    "### ------------------------------------------------------------------------\n",
    "### Trabalho Final  Inteligência Artificial\n",
    "### Adriano G e Jean M.\n",
    "### -------------------------------------------------------------------------"
   ]
  },
  {
   "cell_type": "code",
   "execution_count": 2,
   "outputs": [],
   "source": [
    "#import h1 as h1\n",
    "import numpy as np\n",
    "import pandas as pd\n",
    "import matplotlib.pyplot as plt\n",
    "#import seaborn as sns\n",
    "import statistics  as sts\n",
    "from sklearn.model_selection import train_test_split\n",
    "from sklearn.preprocessing import StandardScaler\n",
    "from sklearn.model_selection import cross_val_score\n",
    "from sklearn.svm import SVC\n",
    "from sklearn.ensemble import RandomForestClassifier\n",
    "from sklearn.metrics import accuracy_score\n",
    "from sklearn.metrics import confusion_matrix\n",
    "from sklearn.metrics import classification_report\n",
    "\n",
    "from sklearn.neighbors import KNeighborsClassifier\n",
    "from sklearn.model_selection import train_test_split\n",
    "from sklearn import metrics\n",
    "from sklearn.model_selection import GridSearchCV\n",
    "from sklearn.model_selection import RandomizedSearchCV"
   ],
   "metadata": {
    "collapsed": false,
    "ExecuteTime": {
     "end_time": "2023-06-20T22:00:46.563400843Z",
     "start_time": "2023-06-20T22:00:46.240191555Z"
    }
   }
  },
  {
   "cell_type": "markdown",
   "source": [],
   "metadata": {
    "collapsed": false
   }
  },
  {
   "cell_type": "markdown",
   "source": [],
   "metadata": {
    "collapsed": false
   }
  },
  {
   "cell_type": "code",
   "execution_count": 3,
   "metadata": {
    "colab": {
     "base_uri": "https://localhost:8080/",
     "height": 423
    },
    "id": "lh7ZNrdatyzI",
    "outputId": "be3941cc-0cf1-4c1f-ee26-7dd28df38683",
    "ExecuteTime": {
     "end_time": "2023-06-20T22:00:46.591494716Z",
     "start_time": "2023-06-20T22:00:46.565202444Z"
    }
   },
   "outputs": [
    {
     "data": {
      "text/plain": "     PassengerId  Survived  Pclass  \\\n0              1         0       3   \n1              2         1       1   \n2              3         1       3   \n3              4         1       1   \n4              5         0       3   \n..           ...       ...     ...   \n886          887         0       2   \n887          888         1       1   \n888          889         0       3   \n889          890         1       1   \n890          891         0       3   \n\n                                                  Name     Sex   Age  SibSp  \\\n0                              Braund, Mr. Owen Harris    male  22.0      1   \n1    Cumings, Mrs. John Bradley (Florence Briggs Th...  female  38.0      1   \n2                               Heikkinen, Miss. Laina  female  26.0      0   \n3         Futrelle, Mrs. Jacques Heath (Lily May Peel)  female  35.0      1   \n4                             Allen, Mr. William Henry    male  35.0      0   \n..                                                 ...     ...   ...    ...   \n886                              Montvila, Rev. Juozas    male  27.0      0   \n887                       Graham, Miss. Margaret Edith  female  19.0      0   \n888           Johnston, Miss. Catherine Helen \"Carrie\"  female   NaN      1   \n889                              Behr, Mr. Karl Howell    male  26.0      0   \n890                                Dooley, Mr. Patrick    male  32.0      0   \n\n     Parch            Ticket     Fare Cabin Embarked  \n0        0         A/5 21171   7.2500   NaN        S  \n1        0          PC 17599  71.2833   C85        C  \n2        0  STON/O2. 3101282   7.9250   NaN        S  \n3        0            113803  53.1000  C123        S  \n4        0            373450   8.0500   NaN        S  \n..     ...               ...      ...   ...      ...  \n886      0            211536  13.0000   NaN        S  \n887      0            112053  30.0000   B42        S  \n888      2        W./C. 6607  23.4500   NaN        S  \n889      0            111369  30.0000  C148        C  \n890      0            370376   7.7500   NaN        Q  \n\n[891 rows x 12 columns]",
      "text/html": "<div>\n<style scoped>\n    .dataframe tbody tr th:only-of-type {\n        vertical-align: middle;\n    }\n\n    .dataframe tbody tr th {\n        vertical-align: top;\n    }\n\n    .dataframe thead th {\n        text-align: right;\n    }\n</style>\n<table border=\"1\" class=\"dataframe\">\n  <thead>\n    <tr style=\"text-align: right;\">\n      <th></th>\n      <th>PassengerId</th>\n      <th>Survived</th>\n      <th>Pclass</th>\n      <th>Name</th>\n      <th>Sex</th>\n      <th>Age</th>\n      <th>SibSp</th>\n      <th>Parch</th>\n      <th>Ticket</th>\n      <th>Fare</th>\n      <th>Cabin</th>\n      <th>Embarked</th>\n    </tr>\n  </thead>\n  <tbody>\n    <tr>\n      <th>0</th>\n      <td>1</td>\n      <td>0</td>\n      <td>3</td>\n      <td>Braund, Mr. Owen Harris</td>\n      <td>male</td>\n      <td>22.0</td>\n      <td>1</td>\n      <td>0</td>\n      <td>A/5 21171</td>\n      <td>7.2500</td>\n      <td>NaN</td>\n      <td>S</td>\n    </tr>\n    <tr>\n      <th>1</th>\n      <td>2</td>\n      <td>1</td>\n      <td>1</td>\n      <td>Cumings, Mrs. John Bradley (Florence Briggs Th...</td>\n      <td>female</td>\n      <td>38.0</td>\n      <td>1</td>\n      <td>0</td>\n      <td>PC 17599</td>\n      <td>71.2833</td>\n      <td>C85</td>\n      <td>C</td>\n    </tr>\n    <tr>\n      <th>2</th>\n      <td>3</td>\n      <td>1</td>\n      <td>3</td>\n      <td>Heikkinen, Miss. Laina</td>\n      <td>female</td>\n      <td>26.0</td>\n      <td>0</td>\n      <td>0</td>\n      <td>STON/O2. 3101282</td>\n      <td>7.9250</td>\n      <td>NaN</td>\n      <td>S</td>\n    </tr>\n    <tr>\n      <th>3</th>\n      <td>4</td>\n      <td>1</td>\n      <td>1</td>\n      <td>Futrelle, Mrs. Jacques Heath (Lily May Peel)</td>\n      <td>female</td>\n      <td>35.0</td>\n      <td>1</td>\n      <td>0</td>\n      <td>113803</td>\n      <td>53.1000</td>\n      <td>C123</td>\n      <td>S</td>\n    </tr>\n    <tr>\n      <th>4</th>\n      <td>5</td>\n      <td>0</td>\n      <td>3</td>\n      <td>Allen, Mr. William Henry</td>\n      <td>male</td>\n      <td>35.0</td>\n      <td>0</td>\n      <td>0</td>\n      <td>373450</td>\n      <td>8.0500</td>\n      <td>NaN</td>\n      <td>S</td>\n    </tr>\n    <tr>\n      <th>...</th>\n      <td>...</td>\n      <td>...</td>\n      <td>...</td>\n      <td>...</td>\n      <td>...</td>\n      <td>...</td>\n      <td>...</td>\n      <td>...</td>\n      <td>...</td>\n      <td>...</td>\n      <td>...</td>\n      <td>...</td>\n    </tr>\n    <tr>\n      <th>886</th>\n      <td>887</td>\n      <td>0</td>\n      <td>2</td>\n      <td>Montvila, Rev. Juozas</td>\n      <td>male</td>\n      <td>27.0</td>\n      <td>0</td>\n      <td>0</td>\n      <td>211536</td>\n      <td>13.0000</td>\n      <td>NaN</td>\n      <td>S</td>\n    </tr>\n    <tr>\n      <th>887</th>\n      <td>888</td>\n      <td>1</td>\n      <td>1</td>\n      <td>Graham, Miss. Margaret Edith</td>\n      <td>female</td>\n      <td>19.0</td>\n      <td>0</td>\n      <td>0</td>\n      <td>112053</td>\n      <td>30.0000</td>\n      <td>B42</td>\n      <td>S</td>\n    </tr>\n    <tr>\n      <th>888</th>\n      <td>889</td>\n      <td>0</td>\n      <td>3</td>\n      <td>Johnston, Miss. Catherine Helen \"Carrie\"</td>\n      <td>female</td>\n      <td>NaN</td>\n      <td>1</td>\n      <td>2</td>\n      <td>W./C. 6607</td>\n      <td>23.4500</td>\n      <td>NaN</td>\n      <td>S</td>\n    </tr>\n    <tr>\n      <th>889</th>\n      <td>890</td>\n      <td>1</td>\n      <td>1</td>\n      <td>Behr, Mr. Karl Howell</td>\n      <td>male</td>\n      <td>26.0</td>\n      <td>0</td>\n      <td>0</td>\n      <td>111369</td>\n      <td>30.0000</td>\n      <td>C148</td>\n      <td>C</td>\n    </tr>\n    <tr>\n      <th>890</th>\n      <td>891</td>\n      <td>0</td>\n      <td>3</td>\n      <td>Dooley, Mr. Patrick</td>\n      <td>male</td>\n      <td>32.0</td>\n      <td>0</td>\n      <td>0</td>\n      <td>370376</td>\n      <td>7.7500</td>\n      <td>NaN</td>\n      <td>Q</td>\n    </tr>\n  </tbody>\n</table>\n<p>891 rows × 12 columns</p>\n</div>"
     },
     "execution_count": 3,
     "metadata": {},
     "output_type": "execute_result"
    }
   ],
   "source": [
    "df=pd.read_csv('Titanic-Dataset.csv')\n",
    "df"
   ]
  },
  {
   "cell_type": "code",
   "execution_count": 4,
   "metadata": {
    "colab": {
     "base_uri": "https://localhost:8080/"
    },
    "id": "MuDz6McLtyzJ",
    "outputId": "29c5b617-16bf-4e37-8091-d011b3fc5409",
    "ExecuteTime": {
     "end_time": "2023-06-20T22:00:49.122005078Z",
     "start_time": "2023-06-20T22:00:49.092033202Z"
    }
   },
   "outputs": [
    {
     "name": "stdout",
     "output_type": "stream",
     "text": [
      "<class 'pandas.core.frame.DataFrame'>\n",
      "RangeIndex: 891 entries, 0 to 890\n",
      "Data columns (total 12 columns):\n",
      " #   Column       Non-Null Count  Dtype  \n",
      "---  ------       --------------  -----  \n",
      " 0   PassengerId  891 non-null    int64  \n",
      " 1   Survived     891 non-null    int64  \n",
      " 2   Pclass       891 non-null    int64  \n",
      " 3   Name         891 non-null    object \n",
      " 4   Sex          891 non-null    object \n",
      " 5   Age          714 non-null    float64\n",
      " 6   SibSp        891 non-null    int64  \n",
      " 7   Parch        891 non-null    int64  \n",
      " 8   Ticket       891 non-null    object \n",
      " 9   Fare         891 non-null    float64\n",
      " 10  Cabin        204 non-null    object \n",
      " 11  Embarked     889 non-null    object \n",
      "dtypes: float64(2), int64(5), object(5)\n",
      "memory usage: 83.7+ KB\n"
     ]
    }
   ],
   "source": [
    "df.info()"
   ]
  },
  {
   "cell_type": "code",
   "execution_count": 5,
   "metadata": {
    "colab": {
     "base_uri": "https://localhost:8080/",
     "height": 300
    },
    "id": "DpoJkgpQtyzK",
    "outputId": "f0b9b12f-c857-470b-8db9-92d484a162bd",
    "ExecuteTime": {
     "end_time": "2023-06-20T22:00:51.463983922Z",
     "start_time": "2023-06-20T22:00:51.430874534Z"
    }
   },
   "outputs": [
    {
     "data": {
      "text/plain": "       PassengerId    Survived      Pclass         Age       SibSp  \\\ncount   891.000000  891.000000  891.000000  714.000000  891.000000   \nmean    446.000000    0.383838    2.308642   29.699118    0.523008   \nstd     257.353842    0.486592    0.836071   14.526497    1.102743   \nmin       1.000000    0.000000    1.000000    0.420000    0.000000   \n25%     223.500000    0.000000    2.000000   20.125000    0.000000   \n50%     446.000000    0.000000    3.000000   28.000000    0.000000   \n75%     668.500000    1.000000    3.000000   38.000000    1.000000   \nmax     891.000000    1.000000    3.000000   80.000000    8.000000   \n\n            Parch        Fare  \ncount  891.000000  891.000000  \nmean     0.381594   32.204208  \nstd      0.806057   49.693429  \nmin      0.000000    0.000000  \n25%      0.000000    7.910400  \n50%      0.000000   14.454200  \n75%      0.000000   31.000000  \nmax      6.000000  512.329200  ",
      "text/html": "<div>\n<style scoped>\n    .dataframe tbody tr th:only-of-type {\n        vertical-align: middle;\n    }\n\n    .dataframe tbody tr th {\n        vertical-align: top;\n    }\n\n    .dataframe thead th {\n        text-align: right;\n    }\n</style>\n<table border=\"1\" class=\"dataframe\">\n  <thead>\n    <tr style=\"text-align: right;\">\n      <th></th>\n      <th>PassengerId</th>\n      <th>Survived</th>\n      <th>Pclass</th>\n      <th>Age</th>\n      <th>SibSp</th>\n      <th>Parch</th>\n      <th>Fare</th>\n    </tr>\n  </thead>\n  <tbody>\n    <tr>\n      <th>count</th>\n      <td>891.000000</td>\n      <td>891.000000</td>\n      <td>891.000000</td>\n      <td>714.000000</td>\n      <td>891.000000</td>\n      <td>891.000000</td>\n      <td>891.000000</td>\n    </tr>\n    <tr>\n      <th>mean</th>\n      <td>446.000000</td>\n      <td>0.383838</td>\n      <td>2.308642</td>\n      <td>29.699118</td>\n      <td>0.523008</td>\n      <td>0.381594</td>\n      <td>32.204208</td>\n    </tr>\n    <tr>\n      <th>std</th>\n      <td>257.353842</td>\n      <td>0.486592</td>\n      <td>0.836071</td>\n      <td>14.526497</td>\n      <td>1.102743</td>\n      <td>0.806057</td>\n      <td>49.693429</td>\n    </tr>\n    <tr>\n      <th>min</th>\n      <td>1.000000</td>\n      <td>0.000000</td>\n      <td>1.000000</td>\n      <td>0.420000</td>\n      <td>0.000000</td>\n      <td>0.000000</td>\n      <td>0.000000</td>\n    </tr>\n    <tr>\n      <th>25%</th>\n      <td>223.500000</td>\n      <td>0.000000</td>\n      <td>2.000000</td>\n      <td>20.125000</td>\n      <td>0.000000</td>\n      <td>0.000000</td>\n      <td>7.910400</td>\n    </tr>\n    <tr>\n      <th>50%</th>\n      <td>446.000000</td>\n      <td>0.000000</td>\n      <td>3.000000</td>\n      <td>28.000000</td>\n      <td>0.000000</td>\n      <td>0.000000</td>\n      <td>14.454200</td>\n    </tr>\n    <tr>\n      <th>75%</th>\n      <td>668.500000</td>\n      <td>1.000000</td>\n      <td>3.000000</td>\n      <td>38.000000</td>\n      <td>1.000000</td>\n      <td>0.000000</td>\n      <td>31.000000</td>\n    </tr>\n    <tr>\n      <th>max</th>\n      <td>891.000000</td>\n      <td>1.000000</td>\n      <td>3.000000</td>\n      <td>80.000000</td>\n      <td>8.000000</td>\n      <td>6.000000</td>\n      <td>512.329200</td>\n    </tr>\n  </tbody>\n</table>\n</div>"
     },
     "execution_count": 5,
     "metadata": {},
     "output_type": "execute_result"
    }
   ],
   "source": [
    "df.describe()"
   ]
  },
  {
   "cell_type": "markdown",
   "metadata": {
    "id": "WC00H8hItyzK"
   },
   "source": [
    "## Resumo geral da base de dados"
   ]
  },
  {
   "cell_type": "code",
   "execution_count": 6,
   "metadata": {
    "colab": {
     "base_uri": "https://localhost:8080/"
    },
    "id": "ZDzfcA6PtyzL",
    "outputId": "8737c87c-f1f8-406a-fca8-bef3bda7f5a8",
    "ExecuteTime": {
     "end_time": "2023-06-20T22:00:55.708080209Z",
     "start_time": "2023-06-20T22:00:55.671061004Z"
    }
   },
   "outputs": [
    {
     "name": "stdout",
     "output_type": "stream",
     "text": [
      "Linhas:  891\n",
      "Colunas:  12\n",
      "\n",
      "Atributos : \n",
      " ['PassengerId', 'Survived', 'Pclass', 'Name', 'Sex', 'Age', 'SibSp', 'Parch', 'Ticket', 'Fare', 'Cabin', 'Embarked']\n",
      "\n",
      "Valores faltantes :   866\n",
      "\n",
      "Valores únicos :  \n",
      " PassengerId    891\n",
      "Survived         2\n",
      "Pclass           3\n",
      "Name           891\n",
      "Sex              2\n",
      "Age             88\n",
      "SibSp            7\n",
      "Parch            7\n",
      "Ticket         681\n",
      "Fare           248\n",
      "Cabin          147\n",
      "Embarked         3\n",
      "dtype: int64\n"
     ]
    }
   ],
   "source": [
    "print (\"Linhas: \" , df.shape[0])\n",
    "print (\"Colunas: \" , df.shape[1])\n",
    "print (\"\\nAtributos : \\n\" , df.columns.tolist())\n",
    "print (\"\\nValores faltantes :  \", df.isnull().sum().values.sum())\n",
    "print (\"\\nValores únicos :  \\n\",df.nunique())"
   ]
  },
  {
   "cell_type": "markdown",
   "metadata": {
    "id": "QY3yTsWptyzL"
   },
   "source": [
    "## Pré-processamento"
   ]
  },
  {
   "cell_type": "markdown",
   "metadata": {
    "id": "_vkNCzAatyzL"
   },
   "source": [
    "### Remoção ID feature e verificação de dados faltantes"
   ]
  },
  {
   "cell_type": "code",
   "execution_count": 7,
   "metadata": {
    "colab": {
     "base_uri": "https://localhost:8080/"
    },
    "id": "uNtgVs6etyzL",
    "outputId": "475773d1-7aa7-4265-b508-ff6b29eb6c92",
    "ExecuteTime": {
     "end_time": "2023-06-20T22:01:13.363954516Z",
     "start_time": "2023-06-20T22:01:13.348931318Z"
    }
   },
   "outputs": [
    {
     "data": {
      "text/plain": "PassengerId      0\nSurvived         0\nPclass           0\nName             0\nSex              0\nAge            177\nSibSp            0\nParch            0\nTicket           0\nFare             0\nCabin          687\nEmbarked         2\ndtype: int64"
     },
     "execution_count": 7,
     "metadata": {},
     "output_type": "execute_result"
    }
   ],
   "source": [
    "# Verifica a quantidade de dados faltrantes\n",
    "df.isna().sum()\n"
   ]
  },
  {
   "cell_type": "code",
   "execution_count": 8,
   "metadata": {
    "id": "4AvVbnAutyzM",
    "ExecuteTime": {
     "end_time": "2023-06-20T22:01:13.886016928Z",
     "start_time": "2023-06-20T22:01:13.863440140Z"
    }
   },
   "outputs": [
    {
     "data": {
      "text/plain": "0"
     },
     "execution_count": 8,
     "metadata": {},
     "output_type": "execute_result"
    }
   ],
   "source": [
    "### Substituição NAs Age pela mediana\n",
    "mediana = df['Age'].median()\n",
    "#preenche NAs\n",
    "df['Age'].fillna(mediana, inplace=True)\n",
    "df['Age'].isna().sum()"
   ]
  },
  {
   "cell_type": "code",
   "execution_count": 9,
   "outputs": [
    {
     "data": {
      "text/plain": "0"
     },
     "execution_count": 9,
     "metadata": {},
     "output_type": "execute_result"
    }
   ],
   "source": [
    "df['Embarked'].fillna('S', inplace=True)\n",
    "df['Embarked'].isna().sum()"
   ],
   "metadata": {
    "collapsed": false,
    "ExecuteTime": {
     "end_time": "2023-06-20T22:01:14.976485610Z",
     "start_time": "2023-06-20T22:01:14.934457175Z"
    }
   }
  },
  {
   "cell_type": "code",
   "execution_count": 10,
   "outputs": [
    {
     "data": {
      "text/plain": "0"
     },
     "execution_count": 10,
     "metadata": {},
     "output_type": "execute_result"
    }
   ],
   "source": [
    "###Troca Cabines vazias pela moda\n",
    "cabin_mode = df['Cabin'].mode()[0]\n",
    "df['Cabin'].fillna(cabin_mode, inplace=True)\n",
    "df['Cabin'].isna().sum()"
   ],
   "metadata": {
    "collapsed": false,
    "ExecuteTime": {
     "end_time": "2023-06-20T22:01:16.584208192Z",
     "start_time": "2023-06-20T22:01:16.558713100Z"
    }
   }
  },
  {
   "cell_type": "markdown",
   "source": [
    "### Carregar dados para previsao da Cabine com um treino de random forest"
   ],
   "metadata": {
    "collapsed": false
   }
  },
  {
   "cell_type": "code",
   "execution_count": 211,
   "outputs": [],
   "source": [
    "### crio uma nova variavel com as colunas relevantes para previsao\n",
    "###df_cabines = df[['Pclass','Sex','Age','Fare','Cabin','Embarked']]\n",
    "#df_cabines\n"
   ],
   "metadata": {
    "collapsed": false,
    "ExecuteTime": {
     "end_time": "2023-06-20T19:06:08.692701100Z",
     "start_time": "2023-06-20T19:06:07.302133700Z"
    }
   }
  },
  {
   "cell_type": "code",
   "execution_count": 212,
   "outputs": [],
   "source": [
    "### separo em cabines conhecidas e cabines desconhecidas\n",
    "#df_conhecidas = df_cabines.dropna(subset=['Cabin'])\n",
    "#df_desconhecidas = df_cabines[df_cabines['Cabin'].isna()]\n",
    "#df_desconhecidas\n"
   ],
   "metadata": {
    "collapsed": false,
    "ExecuteTime": {
     "end_time": "2023-06-20T19:06:08.747071800Z",
     "start_time": "2023-06-20T19:06:07.318093400Z"
    }
   }
  },
  {
   "cell_type": "code",
   "execution_count": 213,
   "outputs": [],
   "source": [
    "#df_conhecidas"
   ],
   "metadata": {
    "collapsed": false,
    "ExecuteTime": {
     "end_time": "2023-06-20T19:06:08.747071800Z",
     "start_time": "2023-06-20T19:06:07.332565200Z"
    }
   }
  },
  {
   "cell_type": "code",
   "execution_count": 214,
   "outputs": [],
   "source": [
    "### removendo a coluna cabin para separarmos atributos e rotulos\n",
    "### Separar os dados conhecidos em atributos e rótulos\n",
    "#atributos_conhecidos = df_conhecidas.drop('Cabin', axis=1)\n",
    "#cabines_conhecidas = df_conhecidas['Cabin']\n"
   ],
   "metadata": {
    "collapsed": false,
    "ExecuteTime": {
     "end_time": "2023-06-20T19:06:08.824867800Z",
     "start_time": "2023-06-20T19:06:07.347549900Z"
    }
   }
  },
  {
   "cell_type": "code",
   "execution_count": 215,
   "outputs": [],
   "source": [
    "### convertendo para Dummy\n",
    "#atributos_conhecidos = pd.get_dummies(atributos_conhecidos)\n",
    "#cabines_conhecidas = pd.get_dummies(cabines_conhecidas)\n"
   ],
   "metadata": {
    "collapsed": false,
    "ExecuteTime": {
     "end_time": "2023-06-20T19:06:08.825864600Z",
     "start_time": "2023-06-20T19:06:07.363482800Z"
    }
   }
  },
  {
   "cell_type": "code",
   "execution_count": 216,
   "outputs": [],
   "source": [
    "###treinar com o modelo random forest\n",
    "#modelo = RandomForestClassifier()\n",
    "#modelo.fit(atributos_conhecidos,cabines_conhecidas)"
   ],
   "metadata": {
    "collapsed": false,
    "ExecuteTime": {
     "end_time": "2023-06-20T19:06:08.825864600Z",
     "start_time": "2023-06-20T19:06:07.379440400Z"
    }
   }
  },
  {
   "cell_type": "code",
   "execution_count": 217,
   "outputs": [],
   "source": [
    "###prever valores faltantes na coluna cabin\n",
    "#atributos_desconhecidos = df_desconhecidas.drop('Cabin',axis=1)\n",
    "#atributos_desconhecidos = pd.get_dummies(atributos_desconhecidos)\n",
    "#prever_cabine = modelo.predict(atributos_desconhecidos)\n",
    "#prever_cabine = prever_cabine[:, 0]\n",
    "\n",
    "\n",
    "#prever_cabine"
   ],
   "metadata": {
    "collapsed": false,
    "ExecuteTime": {
     "end_time": "2023-06-20T19:06:08.860285800Z",
     "start_time": "2023-06-20T19:06:07.395397300Z"
    }
   }
  },
  {
   "cell_type": "code",
   "execution_count": 218,
   "outputs": [],
   "source": [
    "# Criar DataFrame com as previsões codificadas\n",
    "#df_previsoes = pd.DataFrame(prever_cabine, columns=[f'Cabin_{i}' for i in range(len(modelo.classes_))])\n",
    "\n",
    "#df_previsoes_revertidas = df_previsoes.idxmax(axis=1)\n",
    "\n",
    "#df.loc[df['Cabin'].isna(), 'Cabin'] = df_previsoes_revertidas.values\n",
    "\n",
    "\n",
    "\n"
   ],
   "metadata": {
    "collapsed": false,
    "ExecuteTime": {
     "end_time": "2023-06-20T19:06:08.860285800Z",
     "start_time": "2023-06-20T19:06:07.411354300Z"
    }
   }
  },
  {
   "cell_type": "code",
   "execution_count": 219,
   "outputs": [],
   "source": [
    "# Verifica a quantidade de dados faltantes\n",
    "#df.isna().sum()"
   ],
   "metadata": {
    "collapsed": false,
    "ExecuteTime": {
     "end_time": "2023-06-20T19:06:08.916135700Z",
     "start_time": "2023-06-20T19:06:07.424322600Z"
    }
   }
  },
  {
   "cell_type": "code",
   "execution_count": 220,
   "outputs": [],
   "source": [
    "#df"
   ],
   "metadata": {
    "collapsed": false,
    "ExecuteTime": {
     "end_time": "2023-06-20T19:06:08.916135700Z",
     "start_time": "2023-06-20T19:06:07.440845700Z"
    }
   }
  },
  {
   "cell_type": "markdown",
   "metadata": {
    "id": "aWVquZILtyzM"
   },
   "source": [
    "##################################################################\n"
   ]
  },
  {
   "cell_type": "code",
   "execution_count": 11,
   "outputs": [
    {
     "data": {
      "text/plain": "     Survived  Pclass     Sex   Age  SibSp  Parch     Fare    Cabin Embarked\n0           0       3    male  22.0      1      0   7.2500  B96 B98        S\n1           1       1  female  38.0      1      0  71.2833      C85        C\n2           1       3  female  26.0      0      0   7.9250  B96 B98        S\n3           1       1  female  35.0      1      0  53.1000     C123        S\n4           0       3    male  35.0      0      0   8.0500  B96 B98        S\n..        ...     ...     ...   ...    ...    ...      ...      ...      ...\n886         0       2    male  27.0      0      0  13.0000  B96 B98        S\n887         1       1  female  19.0      0      0  30.0000      B42        S\n888         0       3  female  28.0      1      2  23.4500  B96 B98        S\n889         1       1    male  26.0      0      0  30.0000     C148        C\n890         0       3    male  32.0      0      0   7.7500  B96 B98        Q\n\n[891 rows x 9 columns]",
      "text/html": "<div>\n<style scoped>\n    .dataframe tbody tr th:only-of-type {\n        vertical-align: middle;\n    }\n\n    .dataframe tbody tr th {\n        vertical-align: top;\n    }\n\n    .dataframe thead th {\n        text-align: right;\n    }\n</style>\n<table border=\"1\" class=\"dataframe\">\n  <thead>\n    <tr style=\"text-align: right;\">\n      <th></th>\n      <th>Survived</th>\n      <th>Pclass</th>\n      <th>Sex</th>\n      <th>Age</th>\n      <th>SibSp</th>\n      <th>Parch</th>\n      <th>Fare</th>\n      <th>Cabin</th>\n      <th>Embarked</th>\n    </tr>\n  </thead>\n  <tbody>\n    <tr>\n      <th>0</th>\n      <td>0</td>\n      <td>3</td>\n      <td>male</td>\n      <td>22.0</td>\n      <td>1</td>\n      <td>0</td>\n      <td>7.2500</td>\n      <td>B96 B98</td>\n      <td>S</td>\n    </tr>\n    <tr>\n      <th>1</th>\n      <td>1</td>\n      <td>1</td>\n      <td>female</td>\n      <td>38.0</td>\n      <td>1</td>\n      <td>0</td>\n      <td>71.2833</td>\n      <td>C85</td>\n      <td>C</td>\n    </tr>\n    <tr>\n      <th>2</th>\n      <td>1</td>\n      <td>3</td>\n      <td>female</td>\n      <td>26.0</td>\n      <td>0</td>\n      <td>0</td>\n      <td>7.9250</td>\n      <td>B96 B98</td>\n      <td>S</td>\n    </tr>\n    <tr>\n      <th>3</th>\n      <td>1</td>\n      <td>1</td>\n      <td>female</td>\n      <td>35.0</td>\n      <td>1</td>\n      <td>0</td>\n      <td>53.1000</td>\n      <td>C123</td>\n      <td>S</td>\n    </tr>\n    <tr>\n      <th>4</th>\n      <td>0</td>\n      <td>3</td>\n      <td>male</td>\n      <td>35.0</td>\n      <td>0</td>\n      <td>0</td>\n      <td>8.0500</td>\n      <td>B96 B98</td>\n      <td>S</td>\n    </tr>\n    <tr>\n      <th>...</th>\n      <td>...</td>\n      <td>...</td>\n      <td>...</td>\n      <td>...</td>\n      <td>...</td>\n      <td>...</td>\n      <td>...</td>\n      <td>...</td>\n      <td>...</td>\n    </tr>\n    <tr>\n      <th>886</th>\n      <td>0</td>\n      <td>2</td>\n      <td>male</td>\n      <td>27.0</td>\n      <td>0</td>\n      <td>0</td>\n      <td>13.0000</td>\n      <td>B96 B98</td>\n      <td>S</td>\n    </tr>\n    <tr>\n      <th>887</th>\n      <td>1</td>\n      <td>1</td>\n      <td>female</td>\n      <td>19.0</td>\n      <td>0</td>\n      <td>0</td>\n      <td>30.0000</td>\n      <td>B42</td>\n      <td>S</td>\n    </tr>\n    <tr>\n      <th>888</th>\n      <td>0</td>\n      <td>3</td>\n      <td>female</td>\n      <td>28.0</td>\n      <td>1</td>\n      <td>2</td>\n      <td>23.4500</td>\n      <td>B96 B98</td>\n      <td>S</td>\n    </tr>\n    <tr>\n      <th>889</th>\n      <td>1</td>\n      <td>1</td>\n      <td>male</td>\n      <td>26.0</td>\n      <td>0</td>\n      <td>0</td>\n      <td>30.0000</td>\n      <td>C148</td>\n      <td>C</td>\n    </tr>\n    <tr>\n      <th>890</th>\n      <td>0</td>\n      <td>3</td>\n      <td>male</td>\n      <td>32.0</td>\n      <td>0</td>\n      <td>0</td>\n      <td>7.7500</td>\n      <td>B96 B98</td>\n      <td>Q</td>\n    </tr>\n  </tbody>\n</table>\n<p>891 rows × 9 columns</p>\n</div>"
     },
     "execution_count": 11,
     "metadata": {},
     "output_type": "execute_result"
    }
   ],
   "source": [
    "df=df.drop(columns='PassengerId',axis=1)\n",
    "df=df.drop(columns='Ticket',axis=1)\n",
    "df=df.drop(columns='Name',axis=1)\n",
    "df"
   ],
   "metadata": {
    "collapsed": false,
    "ExecuteTime": {
     "end_time": "2023-06-20T22:01:20.887356569Z",
     "start_time": "2023-06-20T22:01:20.833221887Z"
    }
   }
  },
  {
   "cell_type": "code",
   "execution_count": 12,
   "outputs": [
    {
     "data": {
      "text/plain": "Survived  Sex   \n0         male      468\n1         female    233\n          male      109\n0         female     81\nName: count, dtype: int64"
     },
     "execution_count": 12,
     "metadata": {},
     "output_type": "execute_result"
    }
   ],
   "source": [
    "df[[\"Survived\",\"Sex\"]].value_counts()"
   ],
   "metadata": {
    "collapsed": false,
    "ExecuteTime": {
     "end_time": "2023-06-20T22:01:22.688992025Z",
     "start_time": "2023-06-20T22:01:22.674845363Z"
    }
   }
  },
  {
   "cell_type": "code",
   "execution_count": 13,
   "outputs": [],
   "source": [
    "from sklearn.preprocessing import LabelEncoder\n",
    "\n",
    "labelencoder = LabelEncoder()\n",
    "df[[\"Survived\",\"Sex\"]] = \\\n",
    "df[[\"Survived\",\"Sex\"]].apply(labelencoder.fit_transform)"
   ],
   "metadata": {
    "collapsed": false,
    "ExecuteTime": {
     "end_time": "2023-06-20T22:01:25.460994310Z",
     "start_time": "2023-06-20T22:01:25.452195661Z"
    }
   }
  },
  {
   "cell_type": "markdown",
   "source": [
    "Atributos com mais de 2 valores,\n"
   ],
   "metadata": {
    "collapsed": false
   }
  },
  {
   "cell_type": "code",
   "execution_count": 14,
   "outputs": [],
   "source": [
    "df = pd.get_dummies(data=df, columns=['Pclass'])\n",
    "df = pd.get_dummies(data=df, columns=['SibSp'])\n",
    "df = pd.get_dummies(data=df, columns=['Parch'])\n",
    "df = pd.get_dummies(data=df, columns=['Cabin'])\n",
    "df = pd.get_dummies(data=df, columns=['Embarked'])\n"
   ],
   "metadata": {
    "collapsed": false,
    "ExecuteTime": {
     "end_time": "2023-06-20T22:01:28.390560788Z",
     "start_time": "2023-06-20T22:01:28.355803698Z"
    }
   }
  },
  {
   "cell_type": "code",
   "execution_count": 15,
   "outputs": [
    {
     "data": {
      "text/plain": "Index(['Survived', 'Sex', 'Age', 'Fare', 'Pclass_1', 'Pclass_2', 'Pclass_3',\n       'SibSp_0', 'SibSp_1', 'SibSp_2',\n       ...\n       'Cabin_F G73', 'Cabin_F2', 'Cabin_F33', 'Cabin_F38', 'Cabin_F4',\n       'Cabin_G6', 'Cabin_T', 'Embarked_C', 'Embarked_Q', 'Embarked_S'],\n      dtype='object', length=171)"
     },
     "execution_count": 15,
     "metadata": {},
     "output_type": "execute_result"
    }
   ],
   "source": [
    "df.columns"
   ],
   "metadata": {
    "collapsed": false,
    "ExecuteTime": {
     "end_time": "2023-06-20T22:01:31.871751063Z",
     "start_time": "2023-06-20T22:01:31.837447631Z"
    }
   }
  },
  {
   "cell_type": "code",
   "source": [
    "std=StandardScaler()\n",
    "columns = ['Age','Fare']\n",
    "scaled = std.fit_transform(df[['Age','Fare']])\n",
    "scaled = pd.DataFrame(scaled,columns=columns)\n",
    "df=df.drop(columns=columns,axis=1)"
   ],
   "metadata": {
    "colab": {
     "base_uri": "https://localhost:8080/"
    },
    "id": "eZt5CznzJtq8",
    "outputId": "c630407b-0efa-4716-af18-09bd37684dc8",
    "ExecuteTime": {
     "end_time": "2023-06-20T22:01:33.522317280Z",
     "start_time": "2023-06-20T22:01:33.492009967Z"
    }
   },
   "execution_count": 16,
   "outputs": []
  },
  {
   "cell_type": "code",
   "execution_count": 17,
   "metadata": {
    "id": "puzwFlBZtyzN",
    "ExecuteTime": {
     "end_time": "2023-06-20T22:01:39.388115384Z",
     "start_time": "2023-06-20T22:01:39.329772327Z"
    }
   },
   "outputs": [
    {
     "data": {
      "text/plain": "     Survived  Sex  Pclass_1  Pclass_2  Pclass_3  SibSp_0  SibSp_1  SibSp_2  \\\n0           0    1     False     False      True    False     True    False   \n1           1    0      True     False     False    False     True    False   \n2           1    0     False     False      True     True    False    False   \n3           1    0      True     False     False    False     True    False   \n4           0    1     False     False      True     True    False    False   \n..        ...  ...       ...       ...       ...      ...      ...      ...   \n886         0    1     False      True     False     True    False    False   \n887         1    0      True     False     False     True    False    False   \n888         0    0     False     False      True    False     True    False   \n889         1    1      True     False     False     True    False    False   \n890         0    1     False     False      True     True    False    False   \n\n     SibSp_3  SibSp_4  ...  Cabin_F33  Cabin_F38  Cabin_F4  Cabin_G6  Cabin_T  \\\n0      False    False  ...      False      False     False     False    False   \n1      False    False  ...      False      False     False     False    False   \n2      False    False  ...      False      False     False     False    False   \n3      False    False  ...      False      False     False     False    False   \n4      False    False  ...      False      False     False     False    False   \n..       ...      ...  ...        ...        ...       ...       ...      ...   \n886    False    False  ...      False      False     False     False    False   \n887    False    False  ...      False      False     False     False    False   \n888    False    False  ...      False      False     False     False    False   \n889    False    False  ...      False      False     False     False    False   \n890    False    False  ...      False      False     False     False    False   \n\n     Embarked_C  Embarked_Q  Embarked_S       Age      Fare  \n0         False       False        True -0.565736 -0.502445  \n1          True       False       False  0.663861  0.786845  \n2         False       False        True -0.258337 -0.488854  \n3         False       False        True  0.433312  0.420730  \n4         False       False        True  0.433312 -0.486337  \n..          ...         ...         ...       ...       ...  \n886       False       False        True -0.181487 -0.386671  \n887       False       False        True -0.796286 -0.044381  \n888       False       False        True -0.104637 -0.176263  \n889        True       False       False -0.258337 -0.044381  \n890       False        True       False  0.202762 -0.492378  \n\n[891 rows x 171 columns]",
      "text/html": "<div>\n<style scoped>\n    .dataframe tbody tr th:only-of-type {\n        vertical-align: middle;\n    }\n\n    .dataframe tbody tr th {\n        vertical-align: top;\n    }\n\n    .dataframe thead th {\n        text-align: right;\n    }\n</style>\n<table border=\"1\" class=\"dataframe\">\n  <thead>\n    <tr style=\"text-align: right;\">\n      <th></th>\n      <th>Survived</th>\n      <th>Sex</th>\n      <th>Pclass_1</th>\n      <th>Pclass_2</th>\n      <th>Pclass_3</th>\n      <th>SibSp_0</th>\n      <th>SibSp_1</th>\n      <th>SibSp_2</th>\n      <th>SibSp_3</th>\n      <th>SibSp_4</th>\n      <th>...</th>\n      <th>Cabin_F33</th>\n      <th>Cabin_F38</th>\n      <th>Cabin_F4</th>\n      <th>Cabin_G6</th>\n      <th>Cabin_T</th>\n      <th>Embarked_C</th>\n      <th>Embarked_Q</th>\n      <th>Embarked_S</th>\n      <th>Age</th>\n      <th>Fare</th>\n    </tr>\n  </thead>\n  <tbody>\n    <tr>\n      <th>0</th>\n      <td>0</td>\n      <td>1</td>\n      <td>False</td>\n      <td>False</td>\n      <td>True</td>\n      <td>False</td>\n      <td>True</td>\n      <td>False</td>\n      <td>False</td>\n      <td>False</td>\n      <td>...</td>\n      <td>False</td>\n      <td>False</td>\n      <td>False</td>\n      <td>False</td>\n      <td>False</td>\n      <td>False</td>\n      <td>False</td>\n      <td>True</td>\n      <td>-0.565736</td>\n      <td>-0.502445</td>\n    </tr>\n    <tr>\n      <th>1</th>\n      <td>1</td>\n      <td>0</td>\n      <td>True</td>\n      <td>False</td>\n      <td>False</td>\n      <td>False</td>\n      <td>True</td>\n      <td>False</td>\n      <td>False</td>\n      <td>False</td>\n      <td>...</td>\n      <td>False</td>\n      <td>False</td>\n      <td>False</td>\n      <td>False</td>\n      <td>False</td>\n      <td>True</td>\n      <td>False</td>\n      <td>False</td>\n      <td>0.663861</td>\n      <td>0.786845</td>\n    </tr>\n    <tr>\n      <th>2</th>\n      <td>1</td>\n      <td>0</td>\n      <td>False</td>\n      <td>False</td>\n      <td>True</td>\n      <td>True</td>\n      <td>False</td>\n      <td>False</td>\n      <td>False</td>\n      <td>False</td>\n      <td>...</td>\n      <td>False</td>\n      <td>False</td>\n      <td>False</td>\n      <td>False</td>\n      <td>False</td>\n      <td>False</td>\n      <td>False</td>\n      <td>True</td>\n      <td>-0.258337</td>\n      <td>-0.488854</td>\n    </tr>\n    <tr>\n      <th>3</th>\n      <td>1</td>\n      <td>0</td>\n      <td>True</td>\n      <td>False</td>\n      <td>False</td>\n      <td>False</td>\n      <td>True</td>\n      <td>False</td>\n      <td>False</td>\n      <td>False</td>\n      <td>...</td>\n      <td>False</td>\n      <td>False</td>\n      <td>False</td>\n      <td>False</td>\n      <td>False</td>\n      <td>False</td>\n      <td>False</td>\n      <td>True</td>\n      <td>0.433312</td>\n      <td>0.420730</td>\n    </tr>\n    <tr>\n      <th>4</th>\n      <td>0</td>\n      <td>1</td>\n      <td>False</td>\n      <td>False</td>\n      <td>True</td>\n      <td>True</td>\n      <td>False</td>\n      <td>False</td>\n      <td>False</td>\n      <td>False</td>\n      <td>...</td>\n      <td>False</td>\n      <td>False</td>\n      <td>False</td>\n      <td>False</td>\n      <td>False</td>\n      <td>False</td>\n      <td>False</td>\n      <td>True</td>\n      <td>0.433312</td>\n      <td>-0.486337</td>\n    </tr>\n    <tr>\n      <th>...</th>\n      <td>...</td>\n      <td>...</td>\n      <td>...</td>\n      <td>...</td>\n      <td>...</td>\n      <td>...</td>\n      <td>...</td>\n      <td>...</td>\n      <td>...</td>\n      <td>...</td>\n      <td>...</td>\n      <td>...</td>\n      <td>...</td>\n      <td>...</td>\n      <td>...</td>\n      <td>...</td>\n      <td>...</td>\n      <td>...</td>\n      <td>...</td>\n      <td>...</td>\n      <td>...</td>\n    </tr>\n    <tr>\n      <th>886</th>\n      <td>0</td>\n      <td>1</td>\n      <td>False</td>\n      <td>True</td>\n      <td>False</td>\n      <td>True</td>\n      <td>False</td>\n      <td>False</td>\n      <td>False</td>\n      <td>False</td>\n      <td>...</td>\n      <td>False</td>\n      <td>False</td>\n      <td>False</td>\n      <td>False</td>\n      <td>False</td>\n      <td>False</td>\n      <td>False</td>\n      <td>True</td>\n      <td>-0.181487</td>\n      <td>-0.386671</td>\n    </tr>\n    <tr>\n      <th>887</th>\n      <td>1</td>\n      <td>0</td>\n      <td>True</td>\n      <td>False</td>\n      <td>False</td>\n      <td>True</td>\n      <td>False</td>\n      <td>False</td>\n      <td>False</td>\n      <td>False</td>\n      <td>...</td>\n      <td>False</td>\n      <td>False</td>\n      <td>False</td>\n      <td>False</td>\n      <td>False</td>\n      <td>False</td>\n      <td>False</td>\n      <td>True</td>\n      <td>-0.796286</td>\n      <td>-0.044381</td>\n    </tr>\n    <tr>\n      <th>888</th>\n      <td>0</td>\n      <td>0</td>\n      <td>False</td>\n      <td>False</td>\n      <td>True</td>\n      <td>False</td>\n      <td>True</td>\n      <td>False</td>\n      <td>False</td>\n      <td>False</td>\n      <td>...</td>\n      <td>False</td>\n      <td>False</td>\n      <td>False</td>\n      <td>False</td>\n      <td>False</td>\n      <td>False</td>\n      <td>False</td>\n      <td>True</td>\n      <td>-0.104637</td>\n      <td>-0.176263</td>\n    </tr>\n    <tr>\n      <th>889</th>\n      <td>1</td>\n      <td>1</td>\n      <td>True</td>\n      <td>False</td>\n      <td>False</td>\n      <td>True</td>\n      <td>False</td>\n      <td>False</td>\n      <td>False</td>\n      <td>False</td>\n      <td>...</td>\n      <td>False</td>\n      <td>False</td>\n      <td>False</td>\n      <td>False</td>\n      <td>False</td>\n      <td>True</td>\n      <td>False</td>\n      <td>False</td>\n      <td>-0.258337</td>\n      <td>-0.044381</td>\n    </tr>\n    <tr>\n      <th>890</th>\n      <td>0</td>\n      <td>1</td>\n      <td>False</td>\n      <td>False</td>\n      <td>True</td>\n      <td>True</td>\n      <td>False</td>\n      <td>False</td>\n      <td>False</td>\n      <td>False</td>\n      <td>...</td>\n      <td>False</td>\n      <td>False</td>\n      <td>False</td>\n      <td>False</td>\n      <td>False</td>\n      <td>False</td>\n      <td>True</td>\n      <td>False</td>\n      <td>0.202762</td>\n      <td>-0.492378</td>\n    </tr>\n  </tbody>\n</table>\n<p>891 rows × 171 columns</p>\n</div>"
     },
     "execution_count": 17,
     "metadata": {},
     "output_type": "execute_result"
    }
   ],
   "source": [
    "df=df.merge(scaled, left_index=True, right_index=True, how = \"right\")\n",
    "df"
   ]
  },
  {
   "cell_type": "markdown",
   "metadata": {
    "id": "M7IdVmzityzN"
   },
   "source": [
    "### Separação entre treino e teste (70% e 30%)"
   ]
  },
  {
   "cell_type": "code",
   "source": [
    "X = df.drop(['Survived'], axis=1).values\n",
    "y = df['Survived'].values"
   ],
   "metadata": {
    "colab": {
     "base_uri": "https://localhost:8080/"
    },
    "id": "Dj6I4qzWKSI2",
    "outputId": "8401a3ce-83da-4999-ae56-29d4bcff453b",
    "ExecuteTime": {
     "end_time": "2023-06-20T22:01:41.741181768Z",
     "start_time": "2023-06-20T22:01:41.703066924Z"
    }
   },
   "execution_count": 18,
   "outputs": []
  },
  {
   "cell_type": "code",
   "source": [
    "X_train, X_test, y_train, y_test = train_test_split(X, y, test_size=0.3)"
   ],
   "metadata": {
    "colab": {
     "base_uri": "https://localhost:8080/"
    },
    "id": "bYwDbAkdvhNs",
    "outputId": "febeb8f6-6c04-4272-f795-8297a8fdba3a",
    "ExecuteTime": {
     "end_time": "2023-06-20T22:01:42.571278246Z",
     "start_time": "2023-06-20T22:01:42.561576489Z"
    }
   },
   "execution_count": 19,
   "outputs": []
  },
  {
   "cell_type": "markdown",
   "source": [
    "###Aplica balanceamento nas classes"
   ],
   "metadata": {
    "collapsed": false
   }
  },
  {
   "cell_type": "code",
   "execution_count": 20,
   "metadata": {
    "id": "tRpYqhmatyzO",
    "ExecuteTime": {
     "end_time": "2023-06-20T22:01:52.771660643Z",
     "start_time": "2023-06-20T22:01:52.727900073Z"
    }
   },
   "outputs": [],
   "source": [
    "from imblearn.over_sampling import SMOTE"
   ]
  },
  {
   "cell_type": "code",
   "execution_count": 21,
   "metadata": {
    "colab": {
     "base_uri": "https://localhost:8080/"
    },
    "id": "qtLcrtW7tyzO",
    "outputId": "fe15823c-3d15-4b54-c6a8-a7b4bc08c75b",
    "ExecuteTime": {
     "end_time": "2023-06-20T22:01:53.473334175Z",
     "start_time": "2023-06-20T22:01:53.374565938Z"
    }
   },
   "outputs": [],
   "source": [
    "sm = SMOTE()\n",
    "x_train_oversampled, y_train_oversampled = sm.fit_resample(X_train, y_train)"
   ]
  },
  {
   "cell_type": "code",
   "source": [
    "print(x_train_oversampled.shape)\n",
    "print(X_train.shape)"
   ],
   "metadata": {
    "colab": {
     "base_uri": "https://localhost:8080/",
     "height": 505
    },
    "id": "aBa0fD7awS4s",
    "outputId": "799cdf05-702a-40b6-a88c-cc6d21963d19",
    "ExecuteTime": {
     "end_time": "2023-06-20T22:01:54.283372941Z",
     "start_time": "2023-06-20T22:01:54.258477553Z"
    }
   },
   "execution_count": 22,
   "outputs": [
    {
     "name": "stdout",
     "output_type": "stream",
     "text": [
      "(772, 170)\n",
      "(623, 170)\n"
     ]
    }
   ]
  },
  {
   "cell_type": "markdown",
   "source": [
    "### KNN Classifier"
   ],
   "metadata": {
    "collapsed": false
   }
  },
  {
   "cell_type": "code",
   "execution_count": 23,
   "outputs": [
    {
     "data": {
      "text/plain": "Index(['Survived', 'Sex', 'Pclass_1', 'Pclass_2', 'Pclass_3', 'SibSp_0',\n       'SibSp_1', 'SibSp_2', 'SibSp_3', 'SibSp_4',\n       ...\n       'Cabin_F33', 'Cabin_F38', 'Cabin_F4', 'Cabin_G6', 'Cabin_T',\n       'Embarked_C', 'Embarked_Q', 'Embarked_S', 'Age', 'Fare'],\n      dtype='object', length=171)"
     },
     "execution_count": 23,
     "metadata": {},
     "output_type": "execute_result"
    }
   ],
   "source": [
    "df.columns"
   ],
   "metadata": {
    "collapsed": false,
    "ExecuteTime": {
     "end_time": "2023-06-20T22:02:07.075104267Z",
     "start_time": "2023-06-20T22:02:07.055344178Z"
    }
   }
  },
  {
   "cell_type": "code",
   "execution_count": 28,
   "outputs": [
    {
     "data": {
      "text/plain": "<Figure size 640x480 with 1 Axes>",
      "image/png": "[encoded data removed]"
     },
     "metadata": {},
     "output_type": "display_data"
    }
   ],
   "source": [
    "# Teste para diferentes valores de k\n",
    "k_range = list(range(1,51))\n",
    "scores = []\n",
    "for k in k_range:\n",
    "    X_train, X_test, y_train, y_test = train_test_split(X, y, test_size=0.3, random_state=8)\n",
    "    knn = KNeighborsClassifier(n_neighbors=k,metric = 'euclidean')\n",
    "    knn.fit(X_train, y_train)\n",
    "    y_pred = knn.predict(X_test)\n",
    "    scores.append(metrics.accuracy_score(y_test, y_pred))\n",
    "\n",
    "plt.plot(k_range, scores)\n",
    "plt.xlabel('Value of k for KNN')\n",
    "plt.ylabel('Accuracy Score')\n",
    "plt.title('Accuracy Scores for Values of k of k-Nearest-Neighbors')\n",
    "plt.show()"
   ],
   "metadata": {
    "collapsed": false,
    "ExecuteTime": {
     "end_time": "2023-06-20T22:02:20.527837691Z",
     "start_time": "2023-06-20T22:02:18.938387951Z"
    }
   }
  },
  {
   "cell_type": "code",
   "execution_count": 34,
   "outputs": [
    {
     "name": "stdout",
     "output_type": "stream",
     "text": [
      "(623, 170)\n",
      "(623,)\n",
      "(268, 170)\n",
      "(268,)\n"
     ]
    }
   ],
   "source": [
    "## Normalização dos dados\n",
    "\n",
    "X_train, X_test, y_train, y_test = train_test_split(X, y, test_size=0.3, random_state=8)\n",
    "print(X_train.shape)\n",
    "print(y_train.shape)\n",
    "print(X_test.shape)\n",
    "print(y_test.shape)"
   ],
   "metadata": {
    "collapsed": false,
    "ExecuteTime": {
     "end_time": "2023-06-20T22:05:32.564032554Z",
     "start_time": "2023-06-20T22:05:32.509658003Z"
    }
   }
  },
  {
   "cell_type": "code",
   "execution_count": 35,
   "outputs": [
    {
     "data": {
      "text/plain": "array([[0, False, False, ..., True, -0.10463740114712752,\n        -0.32425318983493084],\n       [1, False, True, ..., True, -0.2583370877897099,\n        -0.43700743807979686],\n       [0, True, False, ..., True, -0.5657364610748746,\n        2.4029901895877646],\n       ...,\n       [1, False, True, ..., False, -0.027787557825836348,\n        -0.09027201697708476],\n       [1, False, True, ..., True, -2.1027333275006983,\n        -0.12491978668775715],\n       [1, False, False, ..., True, -0.10463740114712752,\n        -0.2463983948905696]], dtype=object)"
     },
     "execution_count": 35,
     "metadata": {},
     "output_type": "execute_result"
    }
   ],
   "source": [
    "X_train"
   ],
   "metadata": {
    "collapsed": false,
    "ExecuteTime": {
     "end_time": "2023-06-20T22:05:33.521761547Z",
     "start_time": "2023-06-20T22:05:33.503811924Z"
    }
   }
  },
  {
   "cell_type": "code",
   "execution_count": 36,
   "outputs": [],
   "source": [
    "from sklearn.preprocessing import StandardScaler"
   ],
   "metadata": {
    "collapsed": false,
    "ExecuteTime": {
     "end_time": "2023-06-20T22:05:34.351606450Z",
     "start_time": "2023-06-20T22:05:34.337749898Z"
    }
   }
  },
  {
   "cell_type": "code",
   "execution_count": 37,
   "outputs": [],
   "source": [
    "scaler = StandardScaler()\n",
    "scaler.fit(X_train)\n",
    "\n",
    "X_train = scaler.transform(X_train)\n",
    "X_test = scaler.transform(X_test)"
   ],
   "metadata": {
    "collapsed": false,
    "ExecuteTime": {
     "end_time": "2023-06-20T22:05:35.036541896Z",
     "start_time": "2023-06-20T22:05:35.007126714Z"
    }
   }
  },
  {
   "cell_type": "code",
   "execution_count": 38,
   "outputs": [
    {
     "data": {
      "text/plain": "array([[-1.32079271, -0.59279843, -0.52098807, ...,  0.63245553,\n        -0.14762916, -0.33963155],\n       [ 0.75712108, -0.59279843,  1.91942974, ...,  0.63245553,\n        -0.29626272, -0.44159032],\n       [-1.32079271,  1.68691405, -0.52098807, ...,  0.63245553,\n        -0.59352985,  2.12649611],\n       ...,\n       [ 0.75712108, -0.59279843,  1.91942974, ..., -1.58113883,\n        -0.07331237, -0.12805254],\n       [ 0.75712108, -0.59279843,  1.91942974, ...,  0.63245553,\n        -2.0798655 , -0.15938302],\n       [ 0.75712108, -0.59279843, -0.52098807, ...,  0.63245553,\n        -0.14762916, -0.26923084]])"
     },
     "execution_count": 38,
     "metadata": {},
     "output_type": "execute_result"
    }
   ],
   "source": [
    "X_train"
   ],
   "metadata": {
    "collapsed": false,
    "ExecuteTime": {
     "end_time": "2023-06-20T22:05:35.582313208Z",
     "start_time": "2023-06-20T22:05:35.570200909Z"
    }
   }
  },
  {
   "cell_type": "code",
   "execution_count": 39,
   "outputs": [
    {
     "data": {
      "text/plain": "<Figure size 640x480 with 1 Axes>",
      "image/png": "[encoded data removed]"
     },
     "metadata": {},
     "output_type": "display_data"
    }
   ],
   "source": [
    "# experimenting with different n values\n",
    "k_range = list(range(1,51))\n",
    "scores = []\n",
    "for k in k_range:\n",
    "    knn = KNeighborsClassifier(n_neighbors=k, metric = 'euclidean')\n",
    "    knn.fit(X_train, y_train)\n",
    "    y_pred = knn.predict(X_test)\n",
    "    scores.append(metrics.accuracy_score(y_test, y_pred))\n",
    "\n",
    "plt.plot(k_range, scores)\n",
    "plt.xlabel('Value of k for KNN')\n",
    "plt.ylabel('Accuracy Score')\n",
    "plt.title('Accuracy Scores for Values of k of k-Nearest-Neighbors')\n",
    "plt.show()"
   ],
   "metadata": {
    "collapsed": false,
    "ExecuteTime": {
     "end_time": "2023-06-20T22:05:38.500325458Z",
     "start_time": "2023-06-20T22:05:36.448960170Z"
    }
   }
  },
  {
   "cell_type": "markdown",
   "metadata": {
    "id": "KEC1nss4tyzO"
   },
   "source": [
    "<h1 style=\"font-family:Georgia;font-size:175%;text-align:left\">Random Forest Classifier</h1>"
   ]
  },
  {
   "cell_type": "code",
   "execution_count": 40,
   "outputs": [],
   "source": [
    "forest = RandomForestClassifier()\n",
    "\n",
    "param_grid = {'criterion': ['gini', 'entropy', 'log_loss'],\n",
    "              'max_features':['sqrt','log2'],\n",
    "              'n_estimators': [10, 20, 30, 60]}"
   ],
   "metadata": {
    "collapsed": false,
    "ExecuteTime": {
     "end_time": "2023-06-20T22:05:50.784509888Z",
     "start_time": "2023-06-20T22:05:50.742154970Z"
    }
   }
  },
  {
   "cell_type": "code",
   "execution_count": 41,
   "outputs": [],
   "source": [
    "# cria o objeto g_search\n",
    "g_search = GridSearchCV(estimator = forest, param_grid = param_grid,\n",
    "                        refit=True, scoring='accuracy', cv = 10)"
   ],
   "metadata": {
    "collapsed": false,
    "ExecuteTime": {
     "end_time": "2023-06-20T22:05:52.794089401Z",
     "start_time": "2023-06-20T22:05:52.770574683Z"
    }
   }
  },
  {
   "cell_type": "code",
   "execution_count": 42,
   "outputs": [
    {
     "name": "stdout",
     "output_type": "stream",
     "text": [
      "{'criterion': 'entropy', 'max_features': 'sqrt', 'n_estimators': 60}\n"
     ]
    }
   ],
   "source": [
    "# Faz o treinamento\n",
    "g_search.fit(x_train_oversampled, y_train_oversampled);\n",
    "print(g_search.best_params_)"
   ],
   "metadata": {
    "collapsed": false,
    "ExecuteTime": {
     "end_time": "2023-06-20T22:06:06.822232351Z",
     "start_time": "2023-06-20T22:05:54.152892514Z"
    }
   }
  },
  {
   "cell_type": "code",
   "execution_count": 43,
   "outputs": [
    {
     "data": {
      "text/plain": "dict_keys(['mean_fit_time', 'std_fit_time', 'mean_score_time', 'std_score_time', 'param_criterion', 'param_max_features', 'param_n_estimators', 'params', 'split0_test_score', 'split1_test_score', 'split2_test_score', 'split3_test_score', 'split4_test_score', 'split5_test_score', 'split6_test_score', 'split7_test_score', 'split8_test_score', 'split9_test_score', 'mean_test_score', 'std_test_score', 'rank_test_score'])"
     },
     "execution_count": 43,
     "metadata": {},
     "output_type": "execute_result"
    }
   ],
   "source": [
    "# Carrega todos os dados do GridSearch em um Dataframe\n",
    "g_results =  pd.DataFrame(g_search.cv_results_)\n",
    "# Nome de todos atributos gerados pelo GridSearch\n",
    "g_search.cv_results_.keys()"
   ],
   "metadata": {
    "collapsed": false,
    "ExecuteTime": {
     "end_time": "2023-06-20T22:06:06.829534270Z",
     "start_time": "2023-06-20T22:06:06.823490184Z"
    }
   }
  },
  {
   "cell_type": "code",
   "execution_count": 44,
   "outputs": [
    {
     "data": {
      "text/plain": "0.8654179154179154"
     },
     "execution_count": 44,
     "metadata": {},
     "output_type": "execute_result"
    }
   ],
   "source": [
    "# Obtém a média das acurácias (10 folds) referente ao conjunto treino\n",
    "g_results.loc[g_search.best_index_,'mean_test_score']"
   ],
   "metadata": {
    "collapsed": false,
    "ExecuteTime": {
     "end_time": "2023-06-20T22:06:07.241426606Z",
     "start_time": "2023-06-20T22:06:06.828054285Z"
    }
   }
  },
  {
   "cell_type": "code",
   "execution_count": 45,
   "outputs": [
    {
     "data": {
      "text/plain": "0.44776119402985076"
     },
     "execution_count": 45,
     "metadata": {},
     "output_type": "execute_result"
    }
   ],
   "source": [
    "# Avalia o conjunto teste  com o melhor conjunto de parâmetros encontrado\n",
    "# best_estimator_ .Para tanto, o parâmetro refit precisa ser igual a True\n",
    "model = g_search.best_estimator_\n",
    "model.score(X_test,y_test)"
   ],
   "metadata": {
    "collapsed": false,
    "ExecuteTime": {
     "end_time": "2023-06-20T22:06:07.410179784Z",
     "start_time": "2023-06-20T22:06:07.241140241Z"
    }
   }
  },
  {
   "cell_type": "markdown",
   "source": [
    "Amostragem por validação cruzada estratificada"
   ],
   "metadata": {
    "collapsed": false
   }
  },
  {
   "cell_type": "code",
   "execution_count": 46,
   "outputs": [],
   "source": [
    "from sklearn.model_selection import cross_val_score, StratifiedKFold\n",
    "from sklearn.ensemble import RandomForestClassifier\n"
   ],
   "metadata": {
    "collapsed": false,
    "ExecuteTime": {
     "end_time": "2023-06-20T22:06:13.948196008Z",
     "start_time": "2023-06-20T22:06:13.875929057Z"
    }
   }
  },
  {
   "cell_type": "code",
   "execution_count": 47,
   "outputs": [
    {
     "data": {
      "text/plain": "0.80019975031211"
     },
     "execution_count": 47,
     "metadata": {},
     "output_type": "execute_result"
    }
   ],
   "source": [
    "model = RandomForestClassifier()\n",
    "skf = StratifiedKFold(n_splits=10, shuffle=True, random_state=42)\n",
    "scores = cross_val_score(model, X, y, cv=skf)\n",
    "mean_score = scores.mean()\n",
    "mean_score"
   ],
   "metadata": {
    "collapsed": false,
    "ExecuteTime": {
     "end_time": "2023-06-20T22:06:16.496457541Z",
     "start_time": "2023-06-20T22:06:14.613348578Z"
    }
   }
  },
  {
   "cell_type": "markdown",
   "source": [],
   "metadata": {
    "collapsed": false
   }
  },
  {
   "cell_type": "code",
   "execution_count": 48,
   "outputs": [
    {
     "data": {
      "text/plain": "0.8171641791044776"
     },
     "execution_count": 48,
     "metadata": {},
     "output_type": "execute_result"
    }
   ],
   "source": [
    "train_scores = cross_val_score(model, X_train, y_train, cv=skf)\n",
    "mean_train_accuracy = train_scores.mean()\n",
    "model.fit(X_train, y_train)\n",
    "y_pred = model.predict(X_test)\n",
    "test_accuracy = accuracy_score(y_test, y_pred)\n",
    "test_accuracy"
   ],
   "metadata": {
    "collapsed": false,
    "ExecuteTime": {
     "end_time": "2023-06-20T22:06:19.453882307Z",
     "start_time": "2023-06-20T22:06:17.791612670Z"
    }
   }
  },
  {
   "cell_type": "markdown",
   "source": [
    "Redes Neurais?"
   ],
   "metadata": {
    "collapsed": false
   }
  },
  {
   "cell_type": "code",
   "execution_count": 81,
   "outputs": [],
   "source": [
    "from sklearn.neural_network import MLPClassifier"
   ],
   "metadata": {
    "collapsed": false,
    "ExecuteTime": {
     "end_time": "2023-06-20T22:34:45.019577259Z",
     "start_time": "2023-06-20T22:34:44.963776336Z"
    }
   }
  },
  {
   "cell_type": "code",
   "execution_count": 82,
   "outputs": [
    {
     "name": "stdout",
     "output_type": "stream",
     "text": [
      "Iteration 1, loss = 0.67145487\n",
      "Iteration 2, loss = 0.67099706\n",
      "Iteration 3, loss = 0.67027239\n",
      "Iteration 4, loss = 0.66925550\n",
      "Iteration 5, loss = 0.66799033\n",
      "Iteration 6, loss = 0.66655698\n",
      "Iteration 7, loss = 0.66518815\n",
      "Iteration 8, loss = 0.66382538\n",
      "Iteration 9, loss = 0.66256233\n",
      "Iteration 10, loss = 0.66124234\n",
      "Iteration 11, loss = 0.65983154\n",
      "Iteration 12, loss = 0.65824093\n",
      "Iteration 13, loss = 0.65671758\n",
      "Iteration 14, loss = 0.65526609\n",
      "Iteration 15, loss = 0.65380661\n",
      "Iteration 16, loss = 0.65260234\n",
      "Iteration 17, loss = 0.65143065\n",
      "Iteration 18, loss = 0.65032130\n",
      "Iteration 19, loss = 0.64942780\n",
      "Iteration 20, loss = 0.64850545\n",
      "Iteration 21, loss = 0.64776365\n",
      "Iteration 22, loss = 0.64708682\n",
      "Iteration 23, loss = 0.64643215\n",
      "Iteration 24, loss = 0.64579651\n",
      "Iteration 25, loss = 0.64511742\n",
      "Iteration 26, loss = 0.64448010\n",
      "Iteration 27, loss = 0.64376328\n",
      "Iteration 28, loss = 0.64308842\n",
      "Iteration 29, loss = 0.64248080\n",
      "Iteration 30, loss = 0.64182538\n",
      "Iteration 31, loss = 0.64119216\n",
      "Iteration 32, loss = 0.64052061\n",
      "Iteration 33, loss = 0.63985296\n",
      "Iteration 34, loss = 0.63920933\n",
      "Iteration 35, loss = 0.63855072\n",
      "Iteration 36, loss = 0.63786753\n",
      "Iteration 37, loss = 0.63719039\n",
      "Iteration 38, loss = 0.63656041\n",
      "Iteration 39, loss = 0.63596623\n",
      "Iteration 40, loss = 0.63534838\n",
      "Iteration 41, loss = 0.63478247\n",
      "Iteration 42, loss = 0.63413037\n",
      "Iteration 43, loss = 0.63351641\n",
      "Iteration 44, loss = 0.63289265\n",
      "Iteration 45, loss = 0.63225689\n",
      "Iteration 46, loss = 0.63164502\n",
      "Iteration 47, loss = 0.63102053\n",
      "Iteration 48, loss = 0.63037903\n",
      "Iteration 49, loss = 0.62970201\n",
      "Iteration 50, loss = 0.62903096\n",
      "Iteration 51, loss = 0.62839546\n",
      "Iteration 52, loss = 0.62773101\n",
      "Iteration 53, loss = 0.62703347\n",
      "Iteration 54, loss = 0.62636412\n",
      "Iteration 55, loss = 0.62570258\n",
      "Iteration 56, loss = 0.62501471\n",
      "Iteration 57, loss = 0.62433732\n",
      "Iteration 58, loss = 0.62359741\n",
      "Iteration 59, loss = 0.62280220\n",
      "Iteration 60, loss = 0.62208911\n",
      "Iteration 61, loss = 0.62135834\n",
      "Iteration 62, loss = 0.62056254\n",
      "Iteration 63, loss = 0.61973175\n",
      "Iteration 64, loss = 0.61890111\n",
      "Iteration 65, loss = 0.61809176\n",
      "Iteration 66, loss = 0.61722596\n",
      "Iteration 67, loss = 0.61636653\n",
      "Iteration 68, loss = 0.61555786\n",
      "Iteration 69, loss = 0.61468966\n",
      "Iteration 70, loss = 0.61385587\n",
      "Iteration 71, loss = 0.61300624\n",
      "Iteration 72, loss = 0.61213171\n",
      "Iteration 73, loss = 0.61128530\n",
      "Iteration 74, loss = 0.61046752\n",
      "Iteration 75, loss = 0.60959054\n",
      "Iteration 76, loss = 0.60867686\n",
      "Iteration 77, loss = 0.60781566\n",
      "Iteration 78, loss = 0.60686836\n",
      "Iteration 79, loss = 0.60597767\n",
      "Iteration 80, loss = 0.60503895\n",
      "Iteration 81, loss = 0.60404477\n",
      "Iteration 82, loss = 0.60308705\n",
      "Iteration 83, loss = 0.60218493\n",
      "Iteration 84, loss = 0.60122819\n",
      "Iteration 85, loss = 0.60035258\n",
      "Iteration 86, loss = 0.59951911\n",
      "Iteration 87, loss = 0.59866740\n",
      "Iteration 88, loss = 0.59772472\n",
      "Iteration 89, loss = 0.59679925\n",
      "Iteration 90, loss = 0.59582697\n",
      "Iteration 91, loss = 0.59475792\n",
      "Iteration 92, loss = 0.59375412\n",
      "Iteration 93, loss = 0.59273064\n",
      "Iteration 94, loss = 0.59184059\n",
      "Iteration 95, loss = 0.59081138\n",
      "Iteration 96, loss = 0.58986070\n",
      "Iteration 97, loss = 0.58895414\n",
      "Iteration 98, loss = 0.58803148\n",
      "Iteration 99, loss = 0.58720095\n",
      "Iteration 100, loss = 0.58639768\n",
      "Iteration 101, loss = 0.58566520\n",
      "Iteration 102, loss = 0.58480394\n",
      "Iteration 103, loss = 0.58396743\n",
      "Iteration 104, loss = 0.58311079\n",
      "Iteration 105, loss = 0.58218479\n",
      "Iteration 106, loss = 0.58131984\n",
      "Iteration 107, loss = 0.58030548\n",
      "Iteration 108, loss = 0.57940531\n",
      "Iteration 109, loss = 0.57852096\n",
      "Iteration 110, loss = 0.57765768\n",
      "Iteration 111, loss = 0.57678621\n",
      "Iteration 112, loss = 0.57594360\n",
      "Iteration 113, loss = 0.57516423\n",
      "Iteration 114, loss = 0.57434054\n",
      "Iteration 115, loss = 0.57349075\n",
      "Iteration 116, loss = 0.57262369\n",
      "Iteration 117, loss = 0.57178356\n",
      "Iteration 118, loss = 0.57092639\n",
      "Iteration 119, loss = 0.57000301\n",
      "Iteration 120, loss = 0.56912894\n",
      "Iteration 121, loss = 0.56819983\n",
      "Iteration 122, loss = 0.56732186\n",
      "Iteration 123, loss = 0.56641886\n",
      "Iteration 124, loss = 0.56553219\n",
      "Iteration 125, loss = 0.56463388\n",
      "Iteration 126, loss = 0.56373849\n",
      "Iteration 127, loss = 0.56284916\n",
      "Iteration 128, loss = 0.56196452\n",
      "Iteration 129, loss = 0.56106948\n",
      "Iteration 130, loss = 0.56012847\n",
      "Iteration 131, loss = 0.55927766\n",
      "Iteration 132, loss = 0.55837685\n",
      "Iteration 133, loss = 0.55744953\n",
      "Iteration 134, loss = 0.55648965\n",
      "Iteration 135, loss = 0.55559630\n",
      "Iteration 136, loss = 0.55474651\n",
      "Iteration 137, loss = 0.55383882\n",
      "Iteration 138, loss = 0.55301300\n",
      "Iteration 139, loss = 0.55215296\n",
      "Iteration 140, loss = 0.55129363\n",
      "Iteration 141, loss = 0.55047143\n",
      "Iteration 142, loss = 0.54963620\n",
      "Iteration 143, loss = 0.54880013\n",
      "Iteration 144, loss = 0.54794028\n",
      "Iteration 145, loss = 0.54726869\n",
      "Iteration 146, loss = 0.54646917\n",
      "Iteration 147, loss = 0.54555498\n",
      "Iteration 148, loss = 0.54472618\n",
      "Iteration 149, loss = 0.54385105\n",
      "Iteration 150, loss = 0.54298363\n",
      "Iteration 151, loss = 0.54204561\n",
      "Iteration 152, loss = 0.54122877\n",
      "Iteration 153, loss = 0.54028929\n",
      "Iteration 154, loss = 0.53942054\n",
      "Iteration 155, loss = 0.53848421\n",
      "Iteration 156, loss = 0.53762540\n",
      "Iteration 157, loss = 0.53673801\n",
      "Iteration 158, loss = 0.53593470\n",
      "Iteration 159, loss = 0.53510925\n",
      "Iteration 160, loss = 0.53430467\n",
      "Iteration 161, loss = 0.53353336\n",
      "Iteration 162, loss = 0.53268929\n",
      "Iteration 163, loss = 0.53190212\n",
      "Iteration 164, loss = 0.53112895\n",
      "Iteration 165, loss = 0.53039681\n",
      "Iteration 166, loss = 0.52959078\n",
      "Iteration 167, loss = 0.52880614\n",
      "Iteration 168, loss = 0.52803688\n",
      "Iteration 169, loss = 0.52733095\n",
      "Iteration 170, loss = 0.52661256\n",
      "Iteration 171, loss = 0.52587978\n",
      "Iteration 172, loss = 0.52514577\n",
      "Iteration 173, loss = 0.52441622\n",
      "Iteration 174, loss = 0.52368535\n",
      "Iteration 175, loss = 0.52296430\n",
      "Iteration 176, loss = 0.52220082\n",
      "Iteration 177, loss = 0.52151851\n",
      "Iteration 178, loss = 0.52069986\n",
      "Iteration 179, loss = 0.51992858\n",
      "Iteration 180, loss = 0.51915478\n",
      "Iteration 181, loss = 0.51837019\n",
      "Iteration 182, loss = 0.51757808\n",
      "Iteration 183, loss = 0.51681081\n",
      "Iteration 184, loss = 0.51606932\n",
      "Iteration 185, loss = 0.51532145\n",
      "Iteration 186, loss = 0.51477541\n",
      "Iteration 187, loss = 0.51409702\n",
      "Iteration 188, loss = 0.51345898\n",
      "Iteration 189, loss = 0.51275297\n",
      "Iteration 190, loss = 0.51199067\n",
      "Iteration 191, loss = 0.51130709\n",
      "Iteration 192, loss = 0.51071877\n",
      "Iteration 193, loss = 0.50993374\n",
      "Iteration 194, loss = 0.50936680\n",
      "Iteration 195, loss = 0.50864649\n",
      "Iteration 196, loss = 0.50801561\n",
      "Iteration 197, loss = 0.50726639\n",
      "Iteration 198, loss = 0.50677676\n",
      "Iteration 199, loss = 0.50603849\n",
      "Iteration 200, loss = 0.50534178\n",
      "Iteration 201, loss = 0.50457844\n",
      "Iteration 202, loss = 0.50382864\n",
      "Iteration 203, loss = 0.50312901\n",
      "Iteration 204, loss = 0.50247024\n",
      "Iteration 205, loss = 0.50182656\n",
      "Iteration 206, loss = 0.50116788\n",
      "Iteration 207, loss = 0.50046622\n",
      "Iteration 208, loss = 0.49985716\n",
      "Iteration 209, loss = 0.49915846\n",
      "Iteration 210, loss = 0.49841535\n",
      "Iteration 211, loss = 0.49773902\n",
      "Iteration 212, loss = 0.49707877\n",
      "Iteration 213, loss = 0.49637612\n",
      "Iteration 214, loss = 0.49574061\n",
      "Iteration 215, loss = 0.49516761\n",
      "Iteration 216, loss = 0.49453746\n",
      "Iteration 217, loss = 0.49393185\n",
      "Iteration 218, loss = 0.49336456\n",
      "Iteration 219, loss = 0.49280242\n",
      "Iteration 220, loss = 0.49228318\n",
      "Iteration 221, loss = 0.49170774\n",
      "Iteration 222, loss = 0.49112472\n",
      "Iteration 223, loss = 0.49055076\n",
      "Iteration 224, loss = 0.49003790\n",
      "Iteration 225, loss = 0.48946114\n",
      "Iteration 226, loss = 0.48890250\n",
      "Iteration 227, loss = 0.48835571\n",
      "Iteration 228, loss = 0.48778670\n",
      "Iteration 229, loss = 0.48719198\n",
      "Iteration 230, loss = 0.48664281\n",
      "Iteration 231, loss = 0.48612420\n",
      "Iteration 232, loss = 0.48549137\n",
      "Iteration 233, loss = 0.48492709\n",
      "Iteration 234, loss = 0.48443499\n",
      "Iteration 235, loss = 0.48389081\n",
      "Iteration 236, loss = 0.48332985\n",
      "Iteration 237, loss = 0.48281695\n",
      "Iteration 238, loss = 0.48240756\n",
      "Iteration 239, loss = 0.48192689\n",
      "Iteration 240, loss = 0.48153232\n",
      "Iteration 241, loss = 0.48095737\n",
      "Iteration 242, loss = 0.48024439\n",
      "Iteration 243, loss = 0.47963806\n",
      "Iteration 244, loss = 0.47901999\n",
      "Iteration 245, loss = 0.47849317\n",
      "Iteration 246, loss = 0.47791143\n",
      "Iteration 247, loss = 0.47734184\n",
      "Iteration 248, loss = 0.47681554\n",
      "Iteration 249, loss = 0.47626487\n",
      "Iteration 250, loss = 0.47574039\n",
      "Iteration 251, loss = 0.47522968\n",
      "Iteration 252, loss = 0.47465145\n",
      "Iteration 253, loss = 0.47405343\n",
      "Iteration 254, loss = 0.47355127\n",
      "Iteration 255, loss = 0.47288899\n",
      "Iteration 256, loss = 0.47230032\n",
      "Iteration 257, loss = 0.47177451\n",
      "Iteration 258, loss = 0.47124410\n",
      "Iteration 259, loss = 0.47068875\n",
      "Iteration 260, loss = 0.47017575\n",
      "Iteration 261, loss = 0.46958078\n",
      "Iteration 262, loss = 0.46904553\n",
      "Iteration 263, loss = 0.46853884\n",
      "Iteration 264, loss = 0.46794661\n",
      "Iteration 265, loss = 0.46737747\n",
      "Iteration 266, loss = 0.46682827\n",
      "Iteration 267, loss = 0.46628147\n",
      "Iteration 268, loss = 0.46573563\n",
      "Iteration 269, loss = 0.46516194\n",
      "Iteration 270, loss = 0.46462158\n",
      "Iteration 271, loss = 0.46408491\n",
      "Iteration 272, loss = 0.46358195\n",
      "Iteration 273, loss = 0.46303148\n",
      "Iteration 274, loss = 0.46250709\n",
      "Iteration 275, loss = 0.46190492\n",
      "Iteration 276, loss = 0.46135675\n",
      "Iteration 277, loss = 0.46084416\n",
      "Iteration 278, loss = 0.46063763\n",
      "Iteration 279, loss = 0.45999908\n",
      "Iteration 280, loss = 0.45950645\n",
      "Iteration 281, loss = 0.45916439\n",
      "Iteration 282, loss = 0.45849614\n",
      "Iteration 283, loss = 0.45807065\n",
      "Iteration 284, loss = 0.45768596\n",
      "Iteration 285, loss = 0.45723206\n",
      "Iteration 286, loss = 0.45683764\n",
      "Iteration 287, loss = 0.45646595\n",
      "Iteration 288, loss = 0.45600153\n",
      "Iteration 289, loss = 0.45564781\n",
      "Iteration 290, loss = 0.45518251\n",
      "Iteration 291, loss = 0.45477580\n",
      "Iteration 292, loss = 0.45439748\n",
      "Iteration 293, loss = 0.45415316\n",
      "Iteration 294, loss = 0.45376944\n",
      "Iteration 295, loss = 0.45338249\n",
      "Iteration 296, loss = 0.45289465\n",
      "Iteration 297, loss = 0.45261935\n",
      "Iteration 298, loss = 0.45214469\n",
      "Iteration 299, loss = 0.45183936\n",
      "Iteration 300, loss = 0.45148377\n",
      "Iteration 301, loss = 0.45113658\n",
      "Iteration 302, loss = 0.45083229\n",
      "Iteration 303, loss = 0.45038318\n",
      "Iteration 304, loss = 0.45004849\n",
      "Iteration 305, loss = 0.44963614\n",
      "Iteration 306, loss = 0.44935071\n",
      "Iteration 307, loss = 0.44917969\n",
      "Iteration 308, loss = 0.44891202\n",
      "Iteration 309, loss = 0.44855504\n",
      "Iteration 310, loss = 0.44819727\n",
      "Iteration 311, loss = 0.44778967\n",
      "Iteration 312, loss = 0.44747876\n",
      "Iteration 313, loss = 0.44708686\n",
      "Iteration 314, loss = 0.44671619\n",
      "Iteration 315, loss = 0.44634845\n",
      "Iteration 316, loss = 0.44601998\n",
      "Iteration 317, loss = 0.44565224\n",
      "Iteration 318, loss = 0.44532740\n",
      "Iteration 319, loss = 0.44503496\n",
      "Iteration 320, loss = 0.44464912\n",
      "Iteration 321, loss = 0.44430055\n",
      "Iteration 322, loss = 0.44398797\n",
      "Iteration 323, loss = 0.44367171\n",
      "Iteration 324, loss = 0.44336646\n",
      "Iteration 325, loss = 0.44309965\n",
      "Iteration 326, loss = 0.44279152\n",
      "Iteration 327, loss = 0.44248893\n",
      "Iteration 328, loss = 0.44218599\n",
      "Iteration 329, loss = 0.44190429\n",
      "Iteration 330, loss = 0.44160063\n",
      "Iteration 331, loss = 0.44126878\n",
      "Iteration 332, loss = 0.44093905\n",
      "Iteration 333, loss = 0.44057943\n",
      "Iteration 334, loss = 0.44052668\n",
      "Iteration 335, loss = 0.44019076\n",
      "Iteration 336, loss = 0.43993452\n",
      "Iteration 337, loss = 0.43971455\n",
      "Iteration 338, loss = 0.43943383\n",
      "Iteration 339, loss = 0.43911315\n",
      "Iteration 340, loss = 0.43890525\n",
      "Iteration 341, loss = 0.43853740\n",
      "Iteration 342, loss = 0.43826695\n",
      "Iteration 343, loss = 0.43801185\n",
      "Iteration 344, loss = 0.43773823\n",
      "Iteration 345, loss = 0.43764324\n",
      "Iteration 346, loss = 0.43738410\n",
      "Iteration 347, loss = 0.43712365\n",
      "Iteration 348, loss = 0.43673119\n",
      "Iteration 349, loss = 0.43643526\n",
      "Iteration 350, loss = 0.43628774\n",
      "Iteration 351, loss = 0.43608502\n",
      "Iteration 352, loss = 0.43576578\n",
      "Iteration 353, loss = 0.43549738\n",
      "Iteration 354, loss = 0.43524737\n",
      "Iteration 355, loss = 0.43502232\n",
      "Iteration 356, loss = 0.43478042\n",
      "Iteration 357, loss = 0.43452003\n",
      "Iteration 358, loss = 0.43427209\n",
      "Iteration 359, loss = 0.43404622\n",
      "Iteration 360, loss = 0.43383070\n",
      "Iteration 361, loss = 0.43371114\n",
      "Iteration 362, loss = 0.43356374\n",
      "Iteration 363, loss = 0.43346516\n",
      "Iteration 364, loss = 0.43347868\n",
      "Iteration 365, loss = 0.43342343\n",
      "Iteration 366, loss = 0.43316355\n",
      "Iteration 367, loss = 0.43278704\n",
      "Iteration 368, loss = 0.43234796\n",
      "Iteration 369, loss = 0.43216271\n",
      "Iteration 370, loss = 0.43201406\n",
      "Iteration 371, loss = 0.43204092\n",
      "Iteration 372, loss = 0.43181989\n",
      "Iteration 373, loss = 0.43162365\n",
      "Iteration 374, loss = 0.43133537\n",
      "Iteration 375, loss = 0.43111643\n",
      "Iteration 376, loss = 0.43073087\n",
      "Iteration 377, loss = 0.43069928\n",
      "Iteration 378, loss = 0.43045395\n",
      "Iteration 379, loss = 0.43047756\n",
      "Iteration 380, loss = 0.43018321\n",
      "Iteration 381, loss = 0.42996842\n",
      "Iteration 382, loss = 0.42968880\n",
      "Iteration 383, loss = 0.42947653\n",
      "Iteration 384, loss = 0.42931118\n",
      "Iteration 385, loss = 0.42910927\n",
      "Iteration 386, loss = 0.42891463\n",
      "Iteration 387, loss = 0.42870224\n",
      "Iteration 388, loss = 0.42850704\n",
      "Iteration 389, loss = 0.42827648\n",
      "Iteration 390, loss = 0.42809588\n",
      "Iteration 391, loss = 0.42791389\n",
      "Iteration 392, loss = 0.42775609\n",
      "Iteration 393, loss = 0.42761506\n",
      "Iteration 394, loss = 0.42740677\n",
      "Iteration 395, loss = 0.42733314\n",
      "Iteration 396, loss = 0.42730295\n",
      "Iteration 397, loss = 0.42718286\n",
      "Iteration 398, loss = 0.42706613\n",
      "Iteration 399, loss = 0.42694214\n",
      "Iteration 400, loss = 0.42683061\n",
      "Iteration 401, loss = 0.42662102\n",
      "Iteration 402, loss = 0.42641007\n",
      "Iteration 403, loss = 0.42615385\n",
      "Iteration 404, loss = 0.42603554\n",
      "Iteration 405, loss = 0.42579871\n",
      "Iteration 406, loss = 0.42557377\n",
      "Iteration 407, loss = 0.42533663\n",
      "Iteration 408, loss = 0.42518784\n",
      "Iteration 409, loss = 0.42504549\n",
      "Iteration 410, loss = 0.42490193\n",
      "Iteration 411, loss = 0.42475478\n",
      "Iteration 412, loss = 0.42462829\n",
      "Iteration 413, loss = 0.42443645\n",
      "Iteration 414, loss = 0.42425425\n",
      "Iteration 415, loss = 0.42407510\n",
      "Iteration 416, loss = 0.42386790\n",
      "Iteration 417, loss = 0.42375318\n",
      "Iteration 418, loss = 0.42360886\n",
      "Iteration 419, loss = 0.42336748\n",
      "Iteration 420, loss = 0.42322001\n",
      "Iteration 421, loss = 0.42294941\n",
      "Iteration 422, loss = 0.42295929\n",
      "Iteration 423, loss = 0.42311115\n",
      "Iteration 424, loss = 0.42314223\n",
      "Iteration 425, loss = 0.42315027\n",
      "Iteration 426, loss = 0.42302410\n",
      "Iteration 427, loss = 0.42273331\n",
      "Iteration 428, loss = 0.42228353\n",
      "Iteration 429, loss = 0.42204810\n",
      "Iteration 430, loss = 0.42179575\n",
      "Iteration 431, loss = 0.42161986\n",
      "Iteration 432, loss = 0.42145778\n",
      "Iteration 433, loss = 0.42140220\n",
      "Iteration 434, loss = 0.42122949\n",
      "Iteration 435, loss = 0.42107235\n",
      "Iteration 436, loss = 0.42099715\n",
      "Iteration 437, loss = 0.42093680\n",
      "Iteration 438, loss = 0.42086352\n",
      "Iteration 439, loss = 0.42077682\n",
      "Iteration 440, loss = 0.42063310\n",
      "Iteration 441, loss = 0.42044577\n",
      "Iteration 442, loss = 0.42021880\n",
      "Iteration 443, loss = 0.42001301\n",
      "Iteration 444, loss = 0.41986532\n",
      "Iteration 445, loss = 0.41994414\n",
      "Iteration 446, loss = 0.41970742\n",
      "Iteration 447, loss = 0.41955934\n",
      "Iteration 448, loss = 0.41954258\n",
      "Iteration 449, loss = 0.41940144\n",
      "Iteration 450, loss = 0.41916531\n",
      "Iteration 451, loss = 0.41905341\n",
      "Iteration 452, loss = 0.41880933\n",
      "Iteration 453, loss = 0.41866694\n",
      "Iteration 454, loss = 0.41853389\n",
      "Iteration 455, loss = 0.41845020\n",
      "Iteration 456, loss = 0.41836422\n",
      "Iteration 457, loss = 0.41826780\n",
      "Iteration 458, loss = 0.41811086\n",
      "Iteration 459, loss = 0.41811692\n",
      "Iteration 460, loss = 0.41786621\n",
      "Iteration 461, loss = 0.41782550\n",
      "Iteration 462, loss = 0.41768694\n",
      "Iteration 463, loss = 0.41757914\n",
      "Iteration 464, loss = 0.41744073\n",
      "Iteration 465, loss = 0.41754857\n",
      "Iteration 466, loss = 0.41737648\n",
      "Iteration 467, loss = 0.41722208\n",
      "Iteration 468, loss = 0.41701891\n",
      "Iteration 469, loss = 0.41691421\n",
      "Iteration 470, loss = 0.41678457\n",
      "Iteration 471, loss = 0.41666324\n",
      "Iteration 472, loss = 0.41656300\n",
      "Iteration 473, loss = 0.41655838\n",
      "Iteration 474, loss = 0.41646293\n",
      "Iteration 475, loss = 0.41637570\n",
      "Iteration 476, loss = 0.41621968\n",
      "Iteration 477, loss = 0.41607721\n",
      "Iteration 478, loss = 0.41597392\n",
      "Iteration 479, loss = 0.41589296\n",
      "Iteration 480, loss = 0.41575577\n",
      "Iteration 481, loss = 0.41565065\n",
      "Iteration 482, loss = 0.41571134\n",
      "Iteration 483, loss = 0.41558680\n",
      "Iteration 484, loss = 0.41549532\n",
      "Iteration 485, loss = 0.41524852\n",
      "Iteration 486, loss = 0.41509761\n",
      "Iteration 487, loss = 0.41508474\n",
      "Iteration 488, loss = 0.41491745\n",
      "Iteration 489, loss = 0.41498059\n",
      "Iteration 490, loss = 0.41495744\n",
      "Iteration 491, loss = 0.41481261\n",
      "Iteration 492, loss = 0.41464447\n",
      "Iteration 493, loss = 0.41451265\n",
      "Iteration 494, loss = 0.41435184\n",
      "Iteration 495, loss = 0.41424607\n",
      "Iteration 496, loss = 0.41412778\n",
      "Iteration 497, loss = 0.41402267\n",
      "Iteration 498, loss = 0.41381866\n",
      "Iteration 499, loss = 0.41369638\n",
      "Iteration 500, loss = 0.41358236\n",
      "Iteration 501, loss = 0.41348937\n",
      "Iteration 502, loss = 0.41333329\n",
      "Iteration 503, loss = 0.41327220\n",
      "Iteration 504, loss = 0.41314830\n",
      "Iteration 505, loss = 0.41307275\n",
      "Iteration 506, loss = 0.41301661\n",
      "Iteration 507, loss = 0.41281784\n",
      "Iteration 508, loss = 0.41276124\n",
      "Iteration 509, loss = 0.41268042\n",
      "Iteration 510, loss = 0.41252197\n",
      "Iteration 511, loss = 0.41241457\n",
      "Iteration 512, loss = 0.41258023\n",
      "Iteration 513, loss = 0.41256181\n",
      "Iteration 514, loss = 0.41254060\n",
      "Iteration 515, loss = 0.41276602\n",
      "Iteration 516, loss = 0.41277606\n",
      "Iteration 517, loss = 0.41269863\n",
      "Iteration 518, loss = 0.41261037\n",
      "Iteration 519, loss = 0.41250035\n",
      "Iteration 520, loss = 0.41257467\n",
      "Iteration 521, loss = 0.41248021\n",
      "Iteration 522, loss = 0.41238334\n",
      "Training loss did not improve more than tol=0.000100 for 10 consecutive epochs. Stopping.\n"
     ]
    },
    {
     "data": {
      "text/plain": "MLPClassifier(hidden_layer_sizes=(10, 10, 10), max_iter=800, random_state=3,\n              solver='sgd', verbose=True)",
      "text/html": "<style>#sk-container-id-2 {color: black;background-color: white;}#sk-container-id-2 pre{padding: 0;}#sk-container-id-2 div.sk-toggleable {background-color: white;}#sk-container-id-2 label.sk-toggleable__label {cursor: pointer;display: block;width: 100%;margin-bottom: 0;padding: 0.3em;box-sizing: border-box;text-align: center;}#sk-container-id-2 label.sk-toggleable__label-arrow:before {content: \"▸\";float: left;margin-right: 0.25em;color: #696969;}#sk-container-id-2 label.sk-toggleable__label-arrow:hover:before {color: black;}#sk-container-id-2 div.sk-estimator:hover label.sk-toggleable__label-arrow:before {color: black;}#sk-container-id-2 div.sk-toggleable__content {max-height: 0;max-width: 0;overflow: hidden;text-align: left;background-color: #f0f8ff;}#sk-container-id-2 div.sk-toggleable__content pre {margin: 0.2em;color: black;border-radius: 0.25em;background-color: #f0f8ff;}#sk-container-id-2 input.sk-toggleable__control:checked~div.sk-toggleable__content {max-height: 200px;max-width: 100%;overflow: auto;}#sk-container-id-2 input.sk-toggleable__control:checked~label.sk-toggleable__label-arrow:before {content: \"▾\";}#sk-container-id-2 div.sk-estimator input.sk-toggleable__control:checked~label.sk-toggleable__label {background-color: #d4ebff;}#sk-container-id-2 div.sk-label input.sk-toggleable__control:checked~label.sk-toggleable__label {background-color: #d4ebff;}#sk-container-id-2 input.sk-hidden--visually {border: 0;clip: rect(1px 1px 1px 1px);clip: rect(1px, 1px, 1px, 1px);height: 1px;margin: -1px;overflow: hidden;padding: 0;position: absolute;width: 1px;}#sk-container-id-2 div.sk-estimator {font-family: monospace;background-color: #f0f8ff;border: 1px dotted black;border-radius: 0.25em;box-sizing: border-box;margin-bottom: 0.5em;}#sk-container-id-2 div.sk-estimator:hover {background-color: #d4ebff;}#sk-container-id-2 div.sk-parallel-item::after {content: \"\";width: 100%;border-bottom: 1px solid gray;flex-grow: 1;}#sk-container-id-2 div.sk-label:hover label.sk-toggleable__label {background-color: #d4ebff;}#sk-container-id-2 div.sk-serial::before {content: \"\";position: absolute;border-left: 1px solid gray;box-sizing: border-box;top: 0;bottom: 0;left: 50%;z-index: 0;}#sk-container-id-2 div.sk-serial {display: flex;flex-direction: column;align-items: center;background-color: white;padding-right: 0.2em;padding-left: 0.2em;position: relative;}#sk-container-id-2 div.sk-item {position: relative;z-index: 1;}#sk-container-id-2 div.sk-parallel {display: flex;align-items: stretch;justify-content: center;background-color: white;position: relative;}#sk-container-id-2 div.sk-item::before, #sk-container-id-2 div.sk-parallel-item::before {content: \"\";position: absolute;border-left: 1px solid gray;box-sizing: border-box;top: 0;bottom: 0;left: 50%;z-index: -1;}#sk-container-id-2 div.sk-parallel-item {display: flex;flex-direction: column;z-index: 1;position: relative;background-color: white;}#sk-container-id-2 div.sk-parallel-item:first-child::after {align-self: flex-end;width: 50%;}#sk-container-id-2 div.sk-parallel-item:last-child::after {align-self: flex-start;width: 50%;}#sk-container-id-2 div.sk-parallel-item:only-child::after {width: 0;}#sk-container-id-2 div.sk-dashed-wrapped {border: 1px dashed gray;margin: 0 0.4em 0.5em 0.4em;box-sizing: border-box;padding-bottom: 0.4em;background-color: white;}#sk-container-id-2 div.sk-label label {font-family: monospace;font-weight: bold;display: inline-block;line-height: 1.2em;}#sk-container-id-2 div.sk-label-container {text-align: center;}#sk-container-id-2 div.sk-container {/* jupyter's `normalize.less` sets `[hidden] { display: none; }` but bootstrap.min.css set `[hidden] { display: none !important; }` so we also need the `!important` here to be able to override the default hidden behavior on the sphinx rendered scikit-learn.org. See: https://github.com/scikit-learn/scikit-learn/issues/21755 */display: inline-block !important;position: relative;}#sk-container-id-2 div.sk-text-repr-fallback {display: none;}</style><div id=\"sk-container-id-2\" class=\"sk-top-container\"><div class=\"sk-text-repr-fallback\"><pre>MLPClassifier(hidden_layer_sizes=(10, 10, 10), max_iter=800, random_state=3,\n              solver=&#x27;sgd&#x27;, verbose=True)</pre><b>In a Jupyter environment, please rerun this cell to show the HTML representation or trust the notebook. <br />On GitHub, the HTML representation is unable to render, please try loading this page with nbviewer.org.</b></div><div class=\"sk-container\" hidden><div class=\"sk-item\"><div class=\"sk-estimator sk-toggleable\"><input class=\"sk-toggleable__control sk-hidden--visually\" id=\"sk-estimator-id-2\" type=\"checkbox\" checked><label for=\"sk-estimator-id-2\" class=\"sk-toggleable__label sk-toggleable__label-arrow\">MLPClassifier</label><div class=\"sk-toggleable__content\"><pre>MLPClassifier(hidden_layer_sizes=(10, 10, 10), max_iter=800, random_state=3,\n              solver=&#x27;sgd&#x27;, verbose=True)</pre></div></div></div></div></div>"
     },
     "execution_count": 82,
     "metadata": {},
     "output_type": "execute_result"
    }
   ],
   "source": [
    "X_train, X_test, y_train, y_test = train_test_split(X, y, test_size=0.3, random_state=8)\n",
    "rna = MLPClassifier(hidden_layer_sizes=(10,10, 10), activation='relu', solver='sgd', max_iter =800,\n",
    "                              tol=0.0001, random_state = 3, verbose = True)\n",
    "rna.fit(X_train, y_train)\n"
   ],
   "metadata": {
    "collapsed": false,
    "ExecuteTime": {
     "end_time": "2023-06-20T22:34:50.266332521Z",
     "start_time": "2023-06-20T22:34:45.581187023Z"
    }
   }
  },
  {
   "cell_type": "code",
   "execution_count": 83,
   "outputs": [
    {
     "data": {
      "text/plain": "array([0, 0, 0, 1, 1, 0, 0, 1, 0, 1, 0, 0, 0, 1, 0, 0, 0, 0, 1, 0, 1, 1,\n       0, 1, 0, 0, 1, 0, 0, 1, 0, 0, 1, 0, 0, 1, 1, 0, 0, 1, 0, 1, 1, 0,\n       1, 0, 0, 1, 0, 1, 0, 0, 0, 1, 0, 1, 1, 0, 0, 1, 1, 1, 0, 0, 1, 0,\n       1, 1, 1, 1, 1, 0, 0, 0, 0, 0, 1, 1, 0, 0, 1, 0, 1, 1, 1, 0, 0, 1,\n       0, 1, 1, 0, 0, 0, 0, 0, 1, 1, 0, 0, 0, 0, 0, 0, 0, 0, 0, 1, 0, 0,\n       0, 1, 0, 0, 0, 1, 0, 1, 0, 1, 0, 1, 0, 0, 0, 0, 0, 0, 1, 0, 1, 1,\n       0, 1, 0, 1, 1, 0, 1, 0, 0, 1, 0, 0, 0, 1, 0, 0, 0, 0, 0, 1, 0, 0,\n       0, 0, 1, 0, 1, 0, 0, 0, 0, 1, 0, 0, 1, 0, 1, 0, 1, 0, 0, 0, 0, 0,\n       0, 0, 0, 0, 1, 1, 0, 0, 0, 0, 0, 0, 0, 0, 0, 1, 0, 0, 1, 0, 0, 0,\n       1, 1, 0, 0, 0, 0, 0, 0, 1, 1, 0, 0, 1, 0, 1, 0, 0, 1, 1, 0, 1, 1,\n       0, 0, 0, 0, 0, 0, 0, 0, 0, 0, 0, 0, 0, 0, 1, 0, 1, 0, 0, 0, 0, 1,\n       0, 0, 0, 0, 1, 0, 1, 1, 0, 0, 1, 0, 0, 0, 0, 1, 0, 0, 1, 0, 0, 0,\n       0, 1, 0, 1])"
     },
     "execution_count": 83,
     "metadata": {},
     "output_type": "execute_result"
    }
   ],
   "source": [
    "previsoes = rna.predict(X_test)\n",
    "previsoes"
   ],
   "metadata": {
    "collapsed": false,
    "ExecuteTime": {
     "end_time": "2023-06-20T22:34:55.316526840Z",
     "start_time": "2023-06-20T22:34:55.271223563Z"
    }
   }
  },
  {
   "cell_type": "code",
   "execution_count": 84,
   "outputs": [],
   "source": [
    "from sklearn.metrics import accuracy_score, confusion_matrix, classification_report"
   ],
   "metadata": {
    "collapsed": false,
    "ExecuteTime": {
     "end_time": "2023-06-20T22:34:56.192793696Z",
     "start_time": "2023-06-20T22:34:56.179514954Z"
    }
   }
  },
  {
   "cell_type": "code",
   "execution_count": 85,
   "outputs": [
    {
     "name": "stdout",
     "output_type": "stream",
     "text": [
      "Acurácia: 81.34%\n"
     ]
    }
   ],
   "source": [
    "print(\"Acurácia: %.2f%%\" % (accuracy_score(y_test, previsoes) * 100.0))"
   ],
   "metadata": {
    "collapsed": false,
    "ExecuteTime": {
     "end_time": "2023-06-20T22:34:57.051005430Z",
     "start_time": "2023-06-20T22:34:57.018932785Z"
    }
   }
  },
  {
   "cell_type": "code",
   "execution_count": 86,
   "outputs": [
    {
     "data": {
      "text/plain": "array([[148,  20],\n       [ 30,  70]])"
     },
     "execution_count": 86,
     "metadata": {},
     "output_type": "execute_result"
    }
   ],
   "source": [
    "confusion_matrix(y_test, previsoes)"
   ],
   "metadata": {
    "collapsed": false,
    "ExecuteTime": {
     "end_time": "2023-06-20T22:34:57.574210626Z",
     "start_time": "2023-06-20T22:34:57.543417378Z"
    }
   }
  },
  {
   "cell_type": "code",
   "execution_count": 87,
   "outputs": [
    {
     "name": "stdout",
     "output_type": "stream",
     "text": [
      "              precision    recall  f1-score   support\n",
      "\n",
      "           0       0.83      0.88      0.86       168\n",
      "           1       0.78      0.70      0.74       100\n",
      "\n",
      "    accuracy                           0.81       268\n",
      "   macro avg       0.80      0.79      0.80       268\n",
      "weighted avg       0.81      0.81      0.81       268\n",
      "\n"
     ]
    }
   ],
   "source": [
    "print(classification_report(y_test, previsoes))"
   ],
   "metadata": {
    "collapsed": false,
    "ExecuteTime": {
     "end_time": "2023-06-20T22:34:58.083140729Z",
     "start_time": "2023-06-20T22:34:58.061288345Z"
    }
   }
  },
  {
   "cell_type": "code",
   "execution_count": 88,
   "outputs": [
    {
     "data": {
      "text/plain": "array([1, 0, 1, 1, 0, 0, 0, 0, 0, 1, 0, 1, 1, 1, 0, 1, 1, 0, 1, 1, 1, 1,\n       0, 1, 1, 1, 0, 0, 1, 0, 0, 0, 0, 1, 1, 1, 0, 0, 0, 1, 1, 0, 1, 0,\n       0, 0, 0, 1, 0, 0, 1, 0, 1, 1, 0, 0, 0, 1, 0, 0, 0, 0, 0, 1, 0, 1,\n       1, 1, 0, 0, 0, 0, 0, 0, 0, 0, 1, 0, 0, 0, 1, 0, 0, 0, 1, 1, 0, 0,\n       1, 0, 0, 1, 1, 1, 0, 1, 1, 0, 0, 0, 0, 1, 1, 0, 1, 1, 0, 0, 0, 1,\n       1, 0, 0, 0, 1, 0, 1, 1, 1, 0, 0, 1, 0, 0, 0, 0, 0, 0, 0, 0, 0, 0,\n       1, 0, 0, 0, 0, 0, 0, 0, 0, 0, 1, 0, 0, 0, 0, 1, 0, 1, 1, 1, 0, 0,\n       0, 1, 1, 0, 1, 1, 0, 0, 1, 1, 1, 1, 0, 1, 1, 1, 0, 0, 0, 1, 0, 0,\n       0, 0, 0, 0, 0, 0, 1, 0, 0, 0, 0, 1, 0, 1, 1, 0, 0, 0, 0, 1, 0, 0,\n       0, 0, 1, 0, 0, 1, 1, 0, 0, 0, 1, 0, 0, 0, 0, 0, 0, 1, 1, 0, 0, 0,\n       0, 0, 1, 1, 1, 0, 0, 0, 0, 1, 0, 0, 0, 0, 1, 1, 1, 0, 0, 0, 0, 1,\n       0, 0, 1, 0, 0, 1, 1, 0, 0, 0, 0, 0, 1, 0, 1, 1, 0, 1, 1, 0, 0, 0,\n       0, 0, 0, 1, 1, 0, 1, 0, 1, 0, 0, 0, 1, 1, 0, 0, 0, 1, 0, 1, 1, 0,\n       1, 0, 0, 0, 0, 0, 0, 0, 1, 0, 0, 1, 1, 0, 0, 0, 1, 0, 0, 0, 1, 0,\n       0, 0, 0, 0, 0, 0, 0, 1, 1, 1, 0, 0, 0, 0, 1, 0, 0, 0, 1, 1, 0, 0,\n       1, 0, 0, 0, 0, 0, 0, 0, 1, 1, 1, 1, 0, 0, 0, 1, 0, 0, 0, 0, 1, 0,\n       1, 0, 1, 1, 0, 0, 0, 1, 0, 0, 0, 0, 1, 0, 1, 0, 0, 1, 1, 0, 0, 0,\n       0, 1, 0, 0, 0, 0, 1, 0, 0, 0, 0, 1, 0, 1, 0, 0, 0, 0, 0, 0, 0, 1,\n       0, 1, 1, 1, 1, 1, 1, 0, 1, 0, 0, 0, 1, 0, 0, 0, 1, 0, 1, 0, 0, 1,\n       1, 0, 1, 0, 1, 0, 0, 0, 0, 1, 0, 1, 1, 0, 0, 0, 1, 1, 1, 0, 0, 1,\n       0, 0, 0, 0, 0, 1, 1, 0, 1, 1, 0, 0, 0, 0, 0, 0, 0, 1, 0, 0, 1, 0,\n       0, 0, 0, 1, 0, 1, 0, 0, 1, 0, 0, 1, 1, 1, 1, 1, 0, 0, 0, 0, 1, 1,\n       0, 1, 0, 1, 1, 0, 1, 1, 1, 0, 0, 0, 1, 0, 0, 1, 0, 0, 0, 0, 0, 1,\n       0, 1, 1, 1, 0, 1, 0, 1, 0, 0, 0, 0, 0, 0, 0, 1, 1, 1, 0, 0, 0, 1,\n       1, 1, 0, 0, 0, 0, 0, 0, 0, 0, 0, 0, 1, 1, 1, 1, 0, 0, 0, 0, 0, 0,\n       0, 1, 1, 1, 0, 0, 0, 1, 0, 0, 0, 1, 1, 0, 1, 0, 1, 0, 1, 1, 0, 1,\n       1, 1, 0, 0, 1, 0, 0, 0, 1, 0, 0, 0, 0, 1, 0, 1, 1, 0, 0, 1, 0, 0,\n       0, 1, 1, 1, 1, 0, 1, 1, 0, 0, 0, 1, 1, 0, 0, 1, 0, 0, 0, 0, 0, 0,\n       0, 0, 1, 1, 0, 1, 0])"
     },
     "execution_count": 88,
     "metadata": {},
     "output_type": "execute_result"
    }
   ],
   "source": [
    "previsoes_treino = rna.predict(X_train)\n",
    "previsoes_treino"
   ],
   "metadata": {
    "collapsed": false,
    "ExecuteTime": {
     "end_time": "2023-06-20T22:34:59.316502364Z",
     "start_time": "2023-06-20T22:34:59.230744367Z"
    }
   }
  },
  {
   "cell_type": "code",
   "execution_count": 89,
   "outputs": [
    {
     "data": {
      "text/plain": "0.8346709470304976"
     },
     "execution_count": 89,
     "metadata": {},
     "output_type": "execute_result"
    }
   ],
   "source": [
    "accuracy_score(y_train, previsoes_treino)\n"
   ],
   "metadata": {
    "collapsed": false,
    "ExecuteTime": {
     "end_time": "2023-06-20T22:35:00.406661643Z",
     "start_time": "2023-06-20T22:35:00.305263819Z"
    }
   }
  },
  {
   "cell_type": "code",
   "execution_count": 90,
   "outputs": [
    {
     "name": "stdout",
     "output_type": "stream",
     "text": [
      "Classes em y: [0 1]\n",
      "Classes em previsoes: [0 1]\n"
     ]
    }
   ],
   "source": [
    "unique_classes_y = np.unique(y)\n",
    "unique_classes_previsoes = np.unique(previsoes)\n",
    "print(\"Classes em y:\", unique_classes_y)\n",
    "print(\"Classes em previsoes:\", unique_classes_previsoes)"
   ],
   "metadata": {
    "collapsed": false,
    "ExecuteTime": {
     "end_time": "2023-06-20T22:35:01.043281218Z",
     "start_time": "2023-06-20T22:35:01.006296946Z"
    }
   }
  },
  {
   "cell_type": "markdown",
   "source": [
    "############################################################################"
   ],
   "metadata": {
    "collapsed": false
   }
  },
  {
   "cell_type": "code",
   "execution_count": 91,
   "metadata": {
    "id": "3MmSuLnZtyzO",
    "ExecuteTime": {
     "end_time": "2023-06-20T22:35:02.516577749Z",
     "start_time": "2023-06-20T22:35:02.258590997Z"
    }
   },
   "outputs": [
    {
     "name": "stdout",
     "output_type": "stream",
     "text": [
      "Training Score 0.989501312335958\n",
      "Testing Score \n",
      " 0.8059701492537313\n",
      "[[143  25]\n",
      " [ 27  73]]\n"
     ]
    }
   ],
   "source": [
    "forest = RandomForestClassifier(random_state=42)\n",
    "#==\n",
    "forest.fit(x_train_oversampled, y_train_oversampled)\n",
    "#==\n",
    "#Score\n",
    "#==\n",
    "forest_score = forest.score(x_train_oversampled, y_train_oversampled)\n",
    "forest_test = forest.score(X_test, y_test)\n",
    "#==\n",
    "#testing model\n",
    "#==\n",
    "y_pred = forest.predict(X_test)\n",
    "#==\n",
    "#evaluation\n",
    "#==\n",
    "cm = confusion_matrix(y_test,y_pred)\n",
    "print('Training Score',forest_score)\n",
    "print('Testing Score \\n',forest_test)\n",
    "print(cm)"
   ]
  },
  {
   "cell_type": "markdown",
   "metadata": {
    "id": "D-Ck0L80tyzP"
   },
   "source": [
    "###################################################################################################################################################"
   ]
  },
  {
   "cell_type": "code",
   "execution_count": 92,
   "outputs": [
    {
     "name": "stdout",
     "output_type": "stream",
     "text": [
      "(array([0, 1]), array([381, 381]))\n",
      "{'criterion': 'log_loss', 'max_features': 'log2', 'n_estimators': 30}\n",
      "0.8464969241285031\n"
     ]
    }
   ],
   "source": [
    "from sklearn.model_selection import GridSearchCV\n",
    "from sklearn.model_selection import RandomizedSearchCV\n",
    "from sklearn.ensemble import RandomForestClassifier\n",
    "forest = RandomForestClassifier()\n",
    "# param_grid = {'criterion': ['gini', 'entropy', 'log_loss'],\n",
    "#               'max_features':['sqrt','log2'],\n",
    "#               'n_estimators': [10, 20, 30, 40, 50, 60, 70, 80, 100, 200, 300]}\n",
    "param_grid = {'criterion': ['gini', 'entropy', 'log_loss'],\n",
    "              'max_features':['sqrt','log2'],\n",
    "              'n_estimators': [10, 20, 30, 40, 50, 60, 70, 80, 100, 200, 300]}\n",
    "#### Exemplo com GridSearchCV\n",
    "# - https://scikit-learn.org/stable/modules/generated/sklearn.model_selection.GridSearchCV.html\n",
    "g_search = GridSearchCV(estimator=forest, param_grid=param_grid,\n",
    "                        cv=10, return_train_score=True)\n",
    "sm = SMOTE()\n",
    "x_train_oversampled, y_train_oversampled = sm.fit_resample(X_train, y_train)\n",
    "print(np.unique(y_train_oversampled, return_counts=True))\n",
    "g_search.fit(x_train_oversampled, y_train_oversampled)\n",
    "print(g_search.best_params_)\n",
    "print(g_search.best_score_)"
   ],
   "metadata": {
    "collapsed": false,
    "ExecuteTime": {
     "end_time": "2023-06-20T22:36:51.029715564Z",
     "start_time": "2023-06-20T22:35:03.470042020Z"
    }
   }
  },
  {
   "cell_type": "code",
   "execution_count": 93,
   "outputs": [],
   "source": [
    "### **Validação Cruzada**"
   ],
   "metadata": {
    "collapsed": false,
    "ExecuteTime": {
     "end_time": "2023-06-20T22:36:51.030021883Z",
     "start_time": "2023-06-20T22:36:51.023492426Z"
    }
   }
  },
  {
   "cell_type": "code",
   "execution_count": 94,
   "outputs": [
    {
     "ename": "IndexError",
     "evalue": "index 268 is out of bounds for axis 0 with size 268",
     "output_type": "error",
     "traceback": [
      "\u001B[0;31m---------------------------------------------------------------------------\u001B[0m",
      "\u001B[0;31mIndexError\u001B[0m                                Traceback (most recent call last)",
      "Cell \u001B[0;32mIn[94], line 10\u001B[0m\n\u001B[1;32m      5\u001B[0m rna \u001B[38;5;241m=\u001B[39m MLPClassifier(hidden_layer_sizes\u001B[38;5;241m=\u001B[39m(\u001B[38;5;241m100\u001B[39m,), activation\u001B[38;5;241m=\u001B[39m\u001B[38;5;124m'\u001B[39m\u001B[38;5;124mrelu\u001B[39m\u001B[38;5;124m'\u001B[39m, solver\u001B[38;5;241m=\u001B[39m\u001B[38;5;124m'\u001B[39m\u001B[38;5;124madam\u001B[39m\u001B[38;5;124m'\u001B[39m, max_iter \u001B[38;5;241m=\u001B[39m\u001B[38;5;241m800\u001B[39m,\n\u001B[1;32m      6\u001B[0m                               tol\u001B[38;5;241m=\u001B[39m\u001B[38;5;241m0.0001\u001B[39m, random_state \u001B[38;5;241m=\u001B[39m \u001B[38;5;241m3\u001B[39m)\n\u001B[1;32m      9\u001B[0m \u001B[38;5;28;01mfor\u001B[39;00m train_index, test_index \u001B[38;5;129;01min\u001B[39;00m skf\u001B[38;5;241m.\u001B[39msplit(X_train, y_train):\n\u001B[0;32m---> 10\u001B[0m     x_train_fold, x_test_fold \u001B[38;5;241m=\u001B[39m \u001B[43mprevisoes\u001B[49m\u001B[43m[\u001B[49m\u001B[43mtrain_index\u001B[49m\u001B[43m]\u001B[49m, previsoes_treino[test_index]\n\u001B[1;32m     11\u001B[0m     y_train_fold, y_test_fold \u001B[38;5;241m=\u001B[39m alvo[train_index], alvo[test_index]\n\u001B[1;32m     12\u001B[0m     rna\u001B[38;5;241m.\u001B[39mfit(x_train_fold, y_train_fold)\n",
      "\u001B[0;31mIndexError\u001B[0m: index 268 is out of bounds for axis 0 with size 268"
     ]
    }
   ],
   "source": [
    "# Create StratifiedKFold object.\n",
    "skf = StratifiedKFold(n_splits=10, shuffle=True, random_state=1)\n",
    "lst_accu_stratified = []\n",
    "\n",
    "rna = MLPClassifier(hidden_layer_sizes=(100,), activation='relu', solver='adam', max_iter =800,\n",
    "                              tol=0.0001, random_state = 3)\n",
    "\n",
    "\n",
    "for train_index, test_index in skf.split(X_train, y_train):\n",
    "    x_train_fold, x_test_fold = previsoes[train_index], previsoes_treino[test_index]\n",
    "    y_train_fold, y_test_fold = alvo[train_index], alvo[test_index]\n",
    "    rna.fit(x_train_fold, y_train_fold)\n",
    "    lst_accu_stratified.append(rna.score(x_test_fold, y_test_fold))\n",
    "\n",
    "# Print the output.\n",
    "print('Lista de ACC:', lst_accu_stratified)\n",
    "print('\\nMaior ACC:',\n",
    "      max(lst_accu_stratified)*100, '%')\n",
    "print('\\nMenor ACC:',\n",
    "      min(lst_accu_stratified)*100, '%')\n",
    "print('\\nMédia ACC:',\n",
    "      sts.mean(lst_accu_stratified)*100, '%')\n",
    "print('\\nDesvio Padrão:', sts.stdev(lst_accu_stratified))"
   ],
   "metadata": {
    "collapsed": false,
    "ExecuteTime": {
     "end_time": "2023-06-20T22:36:51.175828951Z",
     "start_time": "2023-06-20T22:36:51.023624846Z"
    }
   }
  },
  {
   "cell_type": "code",
   "execution_count": 78,
   "outputs": [],
   "source": [],
   "metadata": {
    "collapsed": false,
    "ExecuteTime": {
     "end_time": "2023-06-20T22:34:02.789496328Z",
     "start_time": "2023-06-20T22:34:02.754190395Z"
    }
   }
  },
  {
   "cell_type": "code",
   "execution_count": null,
   "outputs": [],
   "source": [],
   "metadata": {
    "collapsed": false
   }
  }
 ],
 "metadata": {
  "colab": {
   "provenance": []
  },
  "kernelspec": {
   "name": "python3",
   "language": "python",
   "display_name": "Python 3 (ipykernel)"
  },
  "language_info": {
   "codemirror_mode": {
    "name": "ipython",
    "version": 3
   },
   "file_extension": ".py",
   "mimetype": "text/x-python",
   "name": "python",
   "nbconvert_exporter": "python",
   "pygments_lexer": "ipython3",
   "version": "3.10.4"
  },
  "papermill": {
   "default_parameters": {},
   "duration": 75.527883,
   "end_time": "2021-02-15T11:44:10.398430",
   "environment_variables": {},
   "exception": null,
   "input_path": "__notebook__.ipynb",
   "output_path": "__notebook__.ipynb",
   "parameters": {},
   "start_time": "2021-02-15T11:42:54.870547",
   "version": "2.2.2"
  }
 },
 "nbformat": 4,
 "nbformat_minor": 0
}
