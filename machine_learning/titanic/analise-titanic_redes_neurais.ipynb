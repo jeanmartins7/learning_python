{
 "cells": [
  {
   "cell_type": "code",
   "execution_count": 2,
   "metadata": {
    "id": "veUoqI_btyzI",
    "ExecuteTime": {
     "end_time": "2023-06-20T03:39:24.689016381Z",
     "start_time": "2023-06-20T03:39:24.676388311Z"
    }
   },
   "outputs": [],
   "source": [
    "### ------------------------------------------------------------------------\n",
    "### Trabalho Final  Inteligência Artificial\n",
    "### Adriano G e Jean M.\n",
    "### -------------------------------------------------------------------------"
   ]
  },
  {
   "cell_type": "code",
   "execution_count": 81,
   "outputs": [],
   "source": [
    "import h1 as h1\n",
    "import numpy as np\n",
    "import pandas as pd\n",
    "import matplotlib.pyplot as plt\n",
    "import seaborn as sns\n",
    "import statistics  as sts\n",
    "from sklearn.model_selection import train_test_split\n",
    "from sklearn.preprocessing import StandardScaler\n",
    "from sklearn.model_selection import cross_val_score\n",
    "from sklearn.svm import SVC\n",
    "from sklearn.ensemble import RandomForestClassifier\n",
    "from sklearn.metrics import accuracy_score\n",
    "from sklearn.metrics import confusion_matrix\n",
    "from sklearn.metrics import classification_report\n",
    "\n",
    "from sklearn.neighbors import KNeighborsClassifier\n",
    "from sklearn.model_selection import train_test_split\n",
    "from sklearn import metrics\n",
    "\n",
    "#Aplica balanceamento nas classes\n",
    "from imblearn.over_sampling import SMOTE\n",
    "\n",
    "from sklearn.neural_network import MLPClassifier"
   ],
   "metadata": {
    "collapsed": false,
    "ExecuteTime": {
     "end_time": "2023-06-20T16:32:02.930856226Z",
     "start_time": "2023-06-20T16:32:02.845709500Z"
    }
   }
  },
  {
   "cell_type": "markdown",
   "source": [],
   "metadata": {
    "collapsed": false
   }
  },
  {
   "cell_type": "markdown",
   "source": [],
   "metadata": {
    "collapsed": false
   }
  },
  {
   "cell_type": "code",
   "execution_count": 33,
   "metadata": {
    "colab": {
     "base_uri": "https://localhost:8080/",
     "height": 423
    },
    "id": "lh7ZNrdatyzI",
    "outputId": "be3941cc-0cf1-4c1f-ee26-7dd28df38683",
    "ExecuteTime": {
     "end_time": "2023-06-20T03:49:35.383950764Z",
     "start_time": "2023-06-20T03:49:35.338401118Z"
    }
   },
   "outputs": [
    {
     "data": {
      "text/plain": "     PassengerId  Survived  Pclass  \\\n0              1         0       3   \n1              2         1       1   \n2              3         1       3   \n3              4         1       1   \n4              5         0       3   \n..           ...       ...     ...   \n886          887         0       2   \n887          888         1       1   \n888          889         0       3   \n889          890         1       1   \n890          891         0       3   \n\n                                                  Name     Sex   Age  SibSp  \\\n0                              Braund, Mr. Owen Harris    male  22.0      1   \n1    Cumings, Mrs. John Bradley (Florence Briggs Th...  female  38.0      1   \n2                               Heikkinen, Miss. Laina  female  26.0      0   \n3         Futrelle, Mrs. Jacques Heath (Lily May Peel)  female  35.0      1   \n4                             Allen, Mr. William Henry    male  35.0      0   \n..                                                 ...     ...   ...    ...   \n886                              Montvila, Rev. Juozas    male  27.0      0   \n887                       Graham, Miss. Margaret Edith  female  19.0      0   \n888           Johnston, Miss. Catherine Helen \"Carrie\"  female   NaN      1   \n889                              Behr, Mr. Karl Howell    male  26.0      0   \n890                                Dooley, Mr. Patrick    male  32.0      0   \n\n     Parch            Ticket     Fare Cabin Embarked  \n0        0         A/5 21171   7.2500   NaN        S  \n1        0          PC 17599  71.2833   C85        C  \n2        0  STON/O2. 3101282   7.9250   NaN        S  \n3        0            113803  53.1000  C123        S  \n4        0            373450   8.0500   NaN        S  \n..     ...               ...      ...   ...      ...  \n886      0            211536  13.0000   NaN        S  \n887      0            112053  30.0000   B42        S  \n888      2        W./C. 6607  23.4500   NaN        S  \n889      0            111369  30.0000  C148        C  \n890      0            370376   7.7500   NaN        Q  \n\n[891 rows x 12 columns]",
      "text/html": "<div>\n<style scoped>\n    .dataframe tbody tr th:only-of-type {\n        vertical-align: middle;\n    }\n\n    .dataframe tbody tr th {\n        vertical-align: top;\n    }\n\n    .dataframe thead th {\n        text-align: right;\n    }\n</style>\n<table border=\"1\" class=\"dataframe\">\n  <thead>\n    <tr style=\"text-align: right;\">\n      <th></th>\n      <th>PassengerId</th>\n      <th>Survived</th>\n      <th>Pclass</th>\n      <th>Name</th>\n      <th>Sex</th>\n      <th>Age</th>\n      <th>SibSp</th>\n      <th>Parch</th>\n      <th>Ticket</th>\n      <th>Fare</th>\n      <th>Cabin</th>\n      <th>Embarked</th>\n    </tr>\n  </thead>\n  <tbody>\n    <tr>\n      <th>0</th>\n      <td>1</td>\n      <td>0</td>\n      <td>3</td>\n      <td>Braund, Mr. Owen Harris</td>\n      <td>male</td>\n      <td>22.0</td>\n      <td>1</td>\n      <td>0</td>\n      <td>A/5 21171</td>\n      <td>7.2500</td>\n      <td>NaN</td>\n      <td>S</td>\n    </tr>\n    <tr>\n      <th>1</th>\n      <td>2</td>\n      <td>1</td>\n      <td>1</td>\n      <td>Cumings, Mrs. John Bradley (Florence Briggs Th...</td>\n      <td>female</td>\n      <td>38.0</td>\n      <td>1</td>\n      <td>0</td>\n      <td>PC 17599</td>\n      <td>71.2833</td>\n      <td>C85</td>\n      <td>C</td>\n    </tr>\n    <tr>\n      <th>2</th>\n      <td>3</td>\n      <td>1</td>\n      <td>3</td>\n      <td>Heikkinen, Miss. Laina</td>\n      <td>female</td>\n      <td>26.0</td>\n      <td>0</td>\n      <td>0</td>\n      <td>STON/O2. 3101282</td>\n      <td>7.9250</td>\n      <td>NaN</td>\n      <td>S</td>\n    </tr>\n    <tr>\n      <th>3</th>\n      <td>4</td>\n      <td>1</td>\n      <td>1</td>\n      <td>Futrelle, Mrs. Jacques Heath (Lily May Peel)</td>\n      <td>female</td>\n      <td>35.0</td>\n      <td>1</td>\n      <td>0</td>\n      <td>113803</td>\n      <td>53.1000</td>\n      <td>C123</td>\n      <td>S</td>\n    </tr>\n    <tr>\n      <th>4</th>\n      <td>5</td>\n      <td>0</td>\n      <td>3</td>\n      <td>Allen, Mr. William Henry</td>\n      <td>male</td>\n      <td>35.0</td>\n      <td>0</td>\n      <td>0</td>\n      <td>373450</td>\n      <td>8.0500</td>\n      <td>NaN</td>\n      <td>S</td>\n    </tr>\n    <tr>\n      <th>...</th>\n      <td>...</td>\n      <td>...</td>\n      <td>...</td>\n      <td>...</td>\n      <td>...</td>\n      <td>...</td>\n      <td>...</td>\n      <td>...</td>\n      <td>...</td>\n      <td>...</td>\n      <td>...</td>\n      <td>...</td>\n    </tr>\n    <tr>\n      <th>886</th>\n      <td>887</td>\n      <td>0</td>\n      <td>2</td>\n      <td>Montvila, Rev. Juozas</td>\n      <td>male</td>\n      <td>27.0</td>\n      <td>0</td>\n      <td>0</td>\n      <td>211536</td>\n      <td>13.0000</td>\n      <td>NaN</td>\n      <td>S</td>\n    </tr>\n    <tr>\n      <th>887</th>\n      <td>888</td>\n      <td>1</td>\n      <td>1</td>\n      <td>Graham, Miss. Margaret Edith</td>\n      <td>female</td>\n      <td>19.0</td>\n      <td>0</td>\n      <td>0</td>\n      <td>112053</td>\n      <td>30.0000</td>\n      <td>B42</td>\n      <td>S</td>\n    </tr>\n    <tr>\n      <th>888</th>\n      <td>889</td>\n      <td>0</td>\n      <td>3</td>\n      <td>Johnston, Miss. Catherine Helen \"Carrie\"</td>\n      <td>female</td>\n      <td>NaN</td>\n      <td>1</td>\n      <td>2</td>\n      <td>W./C. 6607</td>\n      <td>23.4500</td>\n      <td>NaN</td>\n      <td>S</td>\n    </tr>\n    <tr>\n      <th>889</th>\n      <td>890</td>\n      <td>1</td>\n      <td>1</td>\n      <td>Behr, Mr. Karl Howell</td>\n      <td>male</td>\n      <td>26.0</td>\n      <td>0</td>\n      <td>0</td>\n      <td>111369</td>\n      <td>30.0000</td>\n      <td>C148</td>\n      <td>C</td>\n    </tr>\n    <tr>\n      <th>890</th>\n      <td>891</td>\n      <td>0</td>\n      <td>3</td>\n      <td>Dooley, Mr. Patrick</td>\n      <td>male</td>\n      <td>32.0</td>\n      <td>0</td>\n      <td>0</td>\n      <td>370376</td>\n      <td>7.7500</td>\n      <td>NaN</td>\n      <td>Q</td>\n    </tr>\n  </tbody>\n</table>\n<p>891 rows × 12 columns</p>\n</div>"
     },
     "execution_count": 33,
     "metadata": {},
     "output_type": "execute_result"
    }
   ],
   "source": [
    "df=pd.read_csv('Titanic-Dataset.csv')\n",
    "df"
   ]
  },
  {
   "cell_type": "code",
   "execution_count": 34,
   "metadata": {
    "colab": {
     "base_uri": "https://localhost:8080/"
    },
    "id": "MuDz6McLtyzJ",
    "outputId": "29c5b617-16bf-4e37-8091-d011b3fc5409",
    "ExecuteTime": {
     "end_time": "2023-06-20T03:49:36.315525737Z",
     "start_time": "2023-06-20T03:49:36.225610095Z"
    }
   },
   "outputs": [
    {
     "name": "stdout",
     "output_type": "stream",
     "text": [
      "<class 'pandas.core.frame.DataFrame'>\n",
      "RangeIndex: 891 entries, 0 to 890\n",
      "Data columns (total 12 columns):\n",
      " #   Column       Non-Null Count  Dtype  \n",
      "---  ------       --------------  -----  \n",
      " 0   PassengerId  891 non-null    int64  \n",
      " 1   Survived     891 non-null    int64  \n",
      " 2   Pclass       891 non-null    int64  \n",
      " 3   Name         891 non-null    object \n",
      " 4   Sex          891 non-null    object \n",
      " 5   Age          714 non-null    float64\n",
      " 6   SibSp        891 non-null    int64  \n",
      " 7   Parch        891 non-null    int64  \n",
      " 8   Ticket       891 non-null    object \n",
      " 9   Fare         891 non-null    float64\n",
      " 10  Cabin        204 non-null    object \n",
      " 11  Embarked     889 non-null    object \n",
      "dtypes: float64(2), int64(5), object(5)\n",
      "memory usage: 83.7+ KB\n"
     ]
    }
   ],
   "source": [
    "df.info()"
   ]
  },
  {
   "cell_type": "code",
   "execution_count": 35,
   "metadata": {
    "colab": {
     "base_uri": "https://localhost:8080/",
     "height": 300
    },
    "id": "DpoJkgpQtyzK",
    "outputId": "f0b9b12f-c857-470b-8db9-92d484a162bd",
    "ExecuteTime": {
     "end_time": "2023-06-20T03:49:37.038079483Z",
     "start_time": "2023-06-20T03:49:37.002047398Z"
    }
   },
   "outputs": [
    {
     "data": {
      "text/plain": "       PassengerId    Survived      Pclass         Age       SibSp  \\\ncount   891.000000  891.000000  891.000000  714.000000  891.000000   \nmean    446.000000    0.383838    2.308642   29.699118    0.523008   \nstd     257.353842    0.486592    0.836071   14.526497    1.102743   \nmin       1.000000    0.000000    1.000000    0.420000    0.000000   \n25%     223.500000    0.000000    2.000000   20.125000    0.000000   \n50%     446.000000    0.000000    3.000000   28.000000    0.000000   \n75%     668.500000    1.000000    3.000000   38.000000    1.000000   \nmax     891.000000    1.000000    3.000000   80.000000    8.000000   \n\n            Parch        Fare  \ncount  891.000000  891.000000  \nmean     0.381594   32.204208  \nstd      0.806057   49.693429  \nmin      0.000000    0.000000  \n25%      0.000000    7.910400  \n50%      0.000000   14.454200  \n75%      0.000000   31.000000  \nmax      6.000000  512.329200  ",
      "text/html": "<div>\n<style scoped>\n    .dataframe tbody tr th:only-of-type {\n        vertical-align: middle;\n    }\n\n    .dataframe tbody tr th {\n        vertical-align: top;\n    }\n\n    .dataframe thead th {\n        text-align: right;\n    }\n</style>\n<table border=\"1\" class=\"dataframe\">\n  <thead>\n    <tr style=\"text-align: right;\">\n      <th></th>\n      <th>PassengerId</th>\n      <th>Survived</th>\n      <th>Pclass</th>\n      <th>Age</th>\n      <th>SibSp</th>\n      <th>Parch</th>\n      <th>Fare</th>\n    </tr>\n  </thead>\n  <tbody>\n    <tr>\n      <th>count</th>\n      <td>891.000000</td>\n      <td>891.000000</td>\n      <td>891.000000</td>\n      <td>714.000000</td>\n      <td>891.000000</td>\n      <td>891.000000</td>\n      <td>891.000000</td>\n    </tr>\n    <tr>\n      <th>mean</th>\n      <td>446.000000</td>\n      <td>0.383838</td>\n      <td>2.308642</td>\n      <td>29.699118</td>\n      <td>0.523008</td>\n      <td>0.381594</td>\n      <td>32.204208</td>\n    </tr>\n    <tr>\n      <th>std</th>\n      <td>257.353842</td>\n      <td>0.486592</td>\n      <td>0.836071</td>\n      <td>14.526497</td>\n      <td>1.102743</td>\n      <td>0.806057</td>\n      <td>49.693429</td>\n    </tr>\n    <tr>\n      <th>min</th>\n      <td>1.000000</td>\n      <td>0.000000</td>\n      <td>1.000000</td>\n      <td>0.420000</td>\n      <td>0.000000</td>\n      <td>0.000000</td>\n      <td>0.000000</td>\n    </tr>\n    <tr>\n      <th>25%</th>\n      <td>223.500000</td>\n      <td>0.000000</td>\n      <td>2.000000</td>\n      <td>20.125000</td>\n      <td>0.000000</td>\n      <td>0.000000</td>\n      <td>7.910400</td>\n    </tr>\n    <tr>\n      <th>50%</th>\n      <td>446.000000</td>\n      <td>0.000000</td>\n      <td>3.000000</td>\n      <td>28.000000</td>\n      <td>0.000000</td>\n      <td>0.000000</td>\n      <td>14.454200</td>\n    </tr>\n    <tr>\n      <th>75%</th>\n      <td>668.500000</td>\n      <td>1.000000</td>\n      <td>3.000000</td>\n      <td>38.000000</td>\n      <td>1.000000</td>\n      <td>0.000000</td>\n      <td>31.000000</td>\n    </tr>\n    <tr>\n      <th>max</th>\n      <td>891.000000</td>\n      <td>1.000000</td>\n      <td>3.000000</td>\n      <td>80.000000</td>\n      <td>8.000000</td>\n      <td>6.000000</td>\n      <td>512.329200</td>\n    </tr>\n  </tbody>\n</table>\n</div>"
     },
     "execution_count": 35,
     "metadata": {},
     "output_type": "execute_result"
    }
   ],
   "source": [
    "df.describe()"
   ]
  },
  {
   "cell_type": "markdown",
   "metadata": {
    "id": "WC00H8hItyzK"
   },
   "source": [
    "## Resumo geral da base de dados"
   ]
  },
  {
   "cell_type": "code",
   "execution_count": 36,
   "metadata": {
    "colab": {
     "base_uri": "https://localhost:8080/"
    },
    "id": "ZDzfcA6PtyzL",
    "outputId": "8737c87c-f1f8-406a-fca8-bef3bda7f5a8",
    "ExecuteTime": {
     "end_time": "2023-06-20T03:49:38.315750449Z",
     "start_time": "2023-06-20T03:49:38.299798276Z"
    }
   },
   "outputs": [
    {
     "name": "stdout",
     "output_type": "stream",
     "text": [
      "Linhas:  891\n",
      "Colunas:  12\n",
      "\n",
      "Atributos : \n",
      " ['PassengerId', 'Survived', 'Pclass', 'Name', 'Sex', 'Age', 'SibSp', 'Parch', 'Ticket', 'Fare', 'Cabin', 'Embarked']\n",
      "\n",
      "Valores faltantes :   866\n",
      "\n",
      "Valores únicos :  \n",
      " PassengerId    891\n",
      "Survived         2\n",
      "Pclass           3\n",
      "Name           891\n",
      "Sex              2\n",
      "Age             88\n",
      "SibSp            7\n",
      "Parch            7\n",
      "Ticket         681\n",
      "Fare           248\n",
      "Cabin          147\n",
      "Embarked         3\n",
      "dtype: int64\n"
     ]
    }
   ],
   "source": [
    "print (\"Linhas: \" , df.shape[0])\n",
    "print (\"Colunas: \" , df.shape[1])\n",
    "print (\"\\nAtributos : \\n\" , df.columns.tolist())\n",
    "print (\"\\nValores faltantes :  \", df.isnull().sum().values.sum())\n",
    "print (\"\\nValores únicos :  \\n\",df.nunique())"
   ]
  },
  {
   "cell_type": "markdown",
   "metadata": {
    "id": "QY3yTsWptyzL"
   },
   "source": [
    "## Pré-processamento"
   ]
  },
  {
   "cell_type": "markdown",
   "metadata": {
    "id": "_vkNCzAatyzL"
   },
   "source": [
    "### Remoção ID feature e verificação de dados faltantes"
   ]
  },
  {
   "cell_type": "code",
   "execution_count": 37,
   "metadata": {
    "colab": {
     "base_uri": "https://localhost:8080/"
    },
    "id": "uNtgVs6etyzL",
    "outputId": "475773d1-7aa7-4265-b508-ff6b29eb6c92",
    "ExecuteTime": {
     "end_time": "2023-06-20T03:49:39.890299813Z",
     "start_time": "2023-06-20T03:49:39.851712851Z"
    }
   },
   "outputs": [
    {
     "data": {
      "text/plain": "PassengerId      0\nSurvived         0\nPclass           0\nName             0\nSex              0\nAge            177\nSibSp            0\nParch            0\nTicket           0\nFare             0\nCabin          687\nEmbarked         2\ndtype: int64"
     },
     "execution_count": 37,
     "metadata": {},
     "output_type": "execute_result"
    }
   ],
   "source": [
    "# Verifica a quantidade de dados faltrantes\n",
    "df.isna().sum()\n"
   ]
  },
  {
   "cell_type": "code",
   "execution_count": 38,
   "metadata": {
    "id": "4AvVbnAutyzM",
    "ExecuteTime": {
     "end_time": "2023-06-20T03:49:40.603424560Z",
     "start_time": "2023-06-20T03:49:40.587008739Z"
    }
   },
   "outputs": [],
   "source": [
    "### Substituição NAs Age pela mediana\n",
    "mediana = df['Age'].median()\n",
    "#preenche NAs\n",
    "df['Age'].fillna(mediana, inplace=True)"
   ]
  },
  {
   "cell_type": "code",
   "execution_count": 39,
   "metadata": {
    "colab": {
     "base_uri": "https://localhost:8080/"
    },
    "id": "vAGSNisHtyzM",
    "outputId": "ef4b3c69-3242-4d69-ce60-e8ebbd8e1f32",
    "ExecuteTime": {
     "end_time": "2023-06-20T03:49:41.404249708Z",
     "start_time": "2023-06-20T03:49:41.379705724Z"
    }
   },
   "outputs": [
    {
     "data": {
      "text/plain": "PassengerId      0\nSurvived         0\nPclass           0\nName             0\nSex              0\nAge              0\nSibSp            0\nParch            0\nTicket           0\nFare             0\nCabin          687\nEmbarked         2\ndtype: int64"
     },
     "execution_count": 39,
     "metadata": {},
     "output_type": "execute_result"
    }
   ],
   "source": [
    "df.isna().sum()"
   ]
  },
  {
   "cell_type": "code",
   "execution_count": 40,
   "outputs": [],
   "source": [
    "df['Embarked'].fillna('S', inplace=True)"
   ],
   "metadata": {
    "collapsed": false,
    "ExecuteTime": {
     "end_time": "2023-06-20T03:49:43.591016422Z",
     "start_time": "2023-06-20T03:49:43.549975190Z"
    }
   }
  },
  {
   "cell_type": "code",
   "execution_count": 41,
   "outputs": [],
   "source": [
    "### Carregar dados para previsao da Cabine utilizando moda"
   ],
   "metadata": {
    "collapsed": false,
    "ExecuteTime": {
     "end_time": "2023-06-20T03:49:44.562564284Z",
     "start_time": "2023-06-20T03:49:44.548357524Z"
    }
   }
  },
  {
   "cell_type": "code",
   "execution_count": 42,
   "outputs": [],
   "source": [
    "# Preencher os valores ausentes na coluna 'cabin' com base na primeira letra da cabine disponível\n",
    "df['Cabin'].fillna(df['Cabin'].mode()[0], inplace=True)\n"
   ],
   "metadata": {
    "collapsed": false,
    "ExecuteTime": {
     "end_time": "2023-06-20T03:49:51.591251753Z",
     "start_time": "2023-06-20T03:49:51.529371473Z"
    }
   }
  },
  {
   "cell_type": "markdown",
   "source": [
    "### Carregar dados para previsao da Cabine com um treino de random forest"
   ],
   "metadata": {
    "collapsed": false
   }
  },
  {
   "cell_type": "code",
   "execution_count": null,
   "outputs": [],
   "source": [
    "### crio uma nova variavel com as colunas relevantes para previsao\n",
    "df_cabines = df[['Pclass','Sex','Age','Fare','Cabin','Embarked']]\n",
    "df_cabines\n"
   ],
   "metadata": {
    "collapsed": false
   }
  },
  {
   "cell_type": "code",
   "execution_count": null,
   "outputs": [],
   "source": [
    "### separo em cabines conhecidas e cabines desconhecidas\n",
    "df_conhecidas = df_cabines.dropna(subset=['Cabin'])\n",
    "df_desconhecidas = df_cabines[df_cabines['Cabin'].isna()]\n",
    "df_desconhecidas\n"
   ],
   "metadata": {
    "collapsed": false
   }
  },
  {
   "cell_type": "code",
   "execution_count": null,
   "outputs": [],
   "source": [
    "df_conhecidas"
   ],
   "metadata": {
    "collapsed": false
   }
  },
  {
   "cell_type": "code",
   "execution_count": null,
   "outputs": [],
   "source": [
    "### removendo a coluna cabin para separarmos atributos e rotulos\n",
    "### Separar os dados conhecidos em atributos e rótulos\n",
    "atributos_conhecidos = df_conhecidas.drop('Cabin', axis=1)\n",
    "cabines_conhecidas = df_conhecidas['Cabin']\n"
   ],
   "metadata": {
    "collapsed": false
   }
  },
  {
   "cell_type": "code",
   "execution_count": null,
   "outputs": [],
   "source": [
    "### convertendo para Dummy\n",
    "atributos_conhecidos = pd.get_dummies(atributos_conhecidos)\n",
    "cabines_conhecidas = pd.get_dummies(cabines_conhecidas)\n"
   ],
   "metadata": {
    "collapsed": false
   }
  },
  {
   "cell_type": "code",
   "execution_count": null,
   "outputs": [],
   "source": [
    "###treinar com o modelo random forest\n",
    "modelo = RandomForestClassifier()\n",
    "modelo.fit(atributos_conhecidos,cabines_conhecidas)"
   ],
   "metadata": {
    "collapsed": false
   }
  },
  {
   "cell_type": "code",
   "execution_count": null,
   "outputs": [],
   "source": [
    "###prever valores faltantes na coluna cabin\n",
    "atributos_desconhecidos = df_desconhecidas.drop('Cabin',axis=1)\n",
    "atributos_desconhecidos = pd.get_dummies(atributos_desconhecidos)\n",
    "prever_cabine = modelo.predict(atributos_desconhecidos)\n",
    "#prever_cabine = prever_cabine[:, 0]\n",
    "\n",
    "\n",
    "prever_cabine"
   ],
   "metadata": {
    "collapsed": false
   }
  },
  {
   "cell_type": "code",
   "execution_count": null,
   "outputs": [],
   "source": [
    "# Criar DataFrame com as previsões codificadas\n",
    "df_previsoes = pd.DataFrame(prever_cabine, columns=[f'Cabin_{i}' for i in range(len(modelo.classes_))])\n",
    "\n",
    "df_previsoes_revertidas = df_previsoes.idxmax(axis=1)\n",
    "\n",
    "df.loc[df['Cabin'].isna(), 'Cabin'] = df_previsoes_revertidas.values\n",
    "\n",
    "\n",
    "\n"
   ],
   "metadata": {
    "collapsed": false
   }
  },
  {
   "cell_type": "code",
   "execution_count": 44,
   "outputs": [
    {
     "data": {
      "text/plain": "PassengerId    0\nSurvived       0\nPclass         0\nName           0\nSex            0\nAge            0\nSibSp          0\nParch          0\nTicket         0\nFare           0\nCabin          0\nEmbarked       0\ndtype: int64"
     },
     "execution_count": 44,
     "metadata": {},
     "output_type": "execute_result"
    }
   ],
   "source": [
    "# Verifica a quantidade de dados faltrantes\n",
    "df.isna().sum()"
   ],
   "metadata": {
    "collapsed": false,
    "ExecuteTime": {
     "end_time": "2023-06-20T03:50:09.107169514Z",
     "start_time": "2023-06-20T03:50:09.071996600Z"
    }
   }
  },
  {
   "cell_type": "code",
   "execution_count": 43,
   "outputs": [
    {
     "data": {
      "text/plain": "     PassengerId  Survived  Pclass  \\\n0              1         0       3   \n1              2         1       1   \n2              3         1       3   \n3              4         1       1   \n4              5         0       3   \n..           ...       ...     ...   \n886          887         0       2   \n887          888         1       1   \n888          889         0       3   \n889          890         1       1   \n890          891         0       3   \n\n                                                  Name     Sex   Age  SibSp  \\\n0                              Braund, Mr. Owen Harris    male  22.0      1   \n1    Cumings, Mrs. John Bradley (Florence Briggs Th...  female  38.0      1   \n2                               Heikkinen, Miss. Laina  female  26.0      0   \n3         Futrelle, Mrs. Jacques Heath (Lily May Peel)  female  35.0      1   \n4                             Allen, Mr. William Henry    male  35.0      0   \n..                                                 ...     ...   ...    ...   \n886                              Montvila, Rev. Juozas    male  27.0      0   \n887                       Graham, Miss. Margaret Edith  female  19.0      0   \n888           Johnston, Miss. Catherine Helen \"Carrie\"  female  28.0      1   \n889                              Behr, Mr. Karl Howell    male  26.0      0   \n890                                Dooley, Mr. Patrick    male  32.0      0   \n\n     Parch            Ticket     Fare    Cabin Embarked  \n0        0         A/5 21171   7.2500  B96 B98        S  \n1        0          PC 17599  71.2833      C85        C  \n2        0  STON/O2. 3101282   7.9250  B96 B98        S  \n3        0            113803  53.1000     C123        S  \n4        0            373450   8.0500  B96 B98        S  \n..     ...               ...      ...      ...      ...  \n886      0            211536  13.0000  B96 B98        S  \n887      0            112053  30.0000      B42        S  \n888      2        W./C. 6607  23.4500  B96 B98        S  \n889      0            111369  30.0000     C148        C  \n890      0            370376   7.7500  B96 B98        Q  \n\n[891 rows x 12 columns]",
      "text/html": "<div>\n<style scoped>\n    .dataframe tbody tr th:only-of-type {\n        vertical-align: middle;\n    }\n\n    .dataframe tbody tr th {\n        vertical-align: top;\n    }\n\n    .dataframe thead th {\n        text-align: right;\n    }\n</style>\n<table border=\"1\" class=\"dataframe\">\n  <thead>\n    <tr style=\"text-align: right;\">\n      <th></th>\n      <th>PassengerId</th>\n      <th>Survived</th>\n      <th>Pclass</th>\n      <th>Name</th>\n      <th>Sex</th>\n      <th>Age</th>\n      <th>SibSp</th>\n      <th>Parch</th>\n      <th>Ticket</th>\n      <th>Fare</th>\n      <th>Cabin</th>\n      <th>Embarked</th>\n    </tr>\n  </thead>\n  <tbody>\n    <tr>\n      <th>0</th>\n      <td>1</td>\n      <td>0</td>\n      <td>3</td>\n      <td>Braund, Mr. Owen Harris</td>\n      <td>male</td>\n      <td>22.0</td>\n      <td>1</td>\n      <td>0</td>\n      <td>A/5 21171</td>\n      <td>7.2500</td>\n      <td>B96 B98</td>\n      <td>S</td>\n    </tr>\n    <tr>\n      <th>1</th>\n      <td>2</td>\n      <td>1</td>\n      <td>1</td>\n      <td>Cumings, Mrs. John Bradley (Florence Briggs Th...</td>\n      <td>female</td>\n      <td>38.0</td>\n      <td>1</td>\n      <td>0</td>\n      <td>PC 17599</td>\n      <td>71.2833</td>\n      <td>C85</td>\n      <td>C</td>\n    </tr>\n    <tr>\n      <th>2</th>\n      <td>3</td>\n      <td>1</td>\n      <td>3</td>\n      <td>Heikkinen, Miss. Laina</td>\n      <td>female</td>\n      <td>26.0</td>\n      <td>0</td>\n      <td>0</td>\n      <td>STON/O2. 3101282</td>\n      <td>7.9250</td>\n      <td>B96 B98</td>\n      <td>S</td>\n    </tr>\n    <tr>\n      <th>3</th>\n      <td>4</td>\n      <td>1</td>\n      <td>1</td>\n      <td>Futrelle, Mrs. Jacques Heath (Lily May Peel)</td>\n      <td>female</td>\n      <td>35.0</td>\n      <td>1</td>\n      <td>0</td>\n      <td>113803</td>\n      <td>53.1000</td>\n      <td>C123</td>\n      <td>S</td>\n    </tr>\n    <tr>\n      <th>4</th>\n      <td>5</td>\n      <td>0</td>\n      <td>3</td>\n      <td>Allen, Mr. William Henry</td>\n      <td>male</td>\n      <td>35.0</td>\n      <td>0</td>\n      <td>0</td>\n      <td>373450</td>\n      <td>8.0500</td>\n      <td>B96 B98</td>\n      <td>S</td>\n    </tr>\n    <tr>\n      <th>...</th>\n      <td>...</td>\n      <td>...</td>\n      <td>...</td>\n      <td>...</td>\n      <td>...</td>\n      <td>...</td>\n      <td>...</td>\n      <td>...</td>\n      <td>...</td>\n      <td>...</td>\n      <td>...</td>\n      <td>...</td>\n    </tr>\n    <tr>\n      <th>886</th>\n      <td>887</td>\n      <td>0</td>\n      <td>2</td>\n      <td>Montvila, Rev. Juozas</td>\n      <td>male</td>\n      <td>27.0</td>\n      <td>0</td>\n      <td>0</td>\n      <td>211536</td>\n      <td>13.0000</td>\n      <td>B96 B98</td>\n      <td>S</td>\n    </tr>\n    <tr>\n      <th>887</th>\n      <td>888</td>\n      <td>1</td>\n      <td>1</td>\n      <td>Graham, Miss. Margaret Edith</td>\n      <td>female</td>\n      <td>19.0</td>\n      <td>0</td>\n      <td>0</td>\n      <td>112053</td>\n      <td>30.0000</td>\n      <td>B42</td>\n      <td>S</td>\n    </tr>\n    <tr>\n      <th>888</th>\n      <td>889</td>\n      <td>0</td>\n      <td>3</td>\n      <td>Johnston, Miss. Catherine Helen \"Carrie\"</td>\n      <td>female</td>\n      <td>28.0</td>\n      <td>1</td>\n      <td>2</td>\n      <td>W./C. 6607</td>\n      <td>23.4500</td>\n      <td>B96 B98</td>\n      <td>S</td>\n    </tr>\n    <tr>\n      <th>889</th>\n      <td>890</td>\n      <td>1</td>\n      <td>1</td>\n      <td>Behr, Mr. Karl Howell</td>\n      <td>male</td>\n      <td>26.0</td>\n      <td>0</td>\n      <td>0</td>\n      <td>111369</td>\n      <td>30.0000</td>\n      <td>C148</td>\n      <td>C</td>\n    </tr>\n    <tr>\n      <th>890</th>\n      <td>891</td>\n      <td>0</td>\n      <td>3</td>\n      <td>Dooley, Mr. Patrick</td>\n      <td>male</td>\n      <td>32.0</td>\n      <td>0</td>\n      <td>0</td>\n      <td>370376</td>\n      <td>7.7500</td>\n      <td>B96 B98</td>\n      <td>Q</td>\n    </tr>\n  </tbody>\n</table>\n<p>891 rows × 12 columns</p>\n</div>"
     },
     "execution_count": 43,
     "metadata": {},
     "output_type": "execute_result"
    }
   ],
   "source": [
    "df"
   ],
   "metadata": {
    "collapsed": false,
    "ExecuteTime": {
     "end_time": "2023-06-20T03:49:58.630717013Z",
     "start_time": "2023-06-20T03:49:58.595258119Z"
    }
   }
  },
  {
   "cell_type": "markdown",
   "metadata": {
    "id": "aWVquZILtyzM"
   },
   "source": []
  },
  {
   "cell_type": "code",
   "execution_count": 45,
   "outputs": [
    {
     "data": {
      "text/plain": "     Survived  Pclass     Sex   Age  SibSp  Parch     Fare    Cabin Embarked\n0           0       3    male  22.0      1      0   7.2500  B96 B98        S\n1           1       1  female  38.0      1      0  71.2833      C85        C\n2           1       3  female  26.0      0      0   7.9250  B96 B98        S\n3           1       1  female  35.0      1      0  53.1000     C123        S\n4           0       3    male  35.0      0      0   8.0500  B96 B98        S\n..        ...     ...     ...   ...    ...    ...      ...      ...      ...\n886         0       2    male  27.0      0      0  13.0000  B96 B98        S\n887         1       1  female  19.0      0      0  30.0000      B42        S\n888         0       3  female  28.0      1      2  23.4500  B96 B98        S\n889         1       1    male  26.0      0      0  30.0000     C148        C\n890         0       3    male  32.0      0      0   7.7500  B96 B98        Q\n\n[891 rows x 9 columns]",
      "text/html": "<div>\n<style scoped>\n    .dataframe tbody tr th:only-of-type {\n        vertical-align: middle;\n    }\n\n    .dataframe tbody tr th {\n        vertical-align: top;\n    }\n\n    .dataframe thead th {\n        text-align: right;\n    }\n</style>\n<table border=\"1\" class=\"dataframe\">\n  <thead>\n    <tr style=\"text-align: right;\">\n      <th></th>\n      <th>Survived</th>\n      <th>Pclass</th>\n      <th>Sex</th>\n      <th>Age</th>\n      <th>SibSp</th>\n      <th>Parch</th>\n      <th>Fare</th>\n      <th>Cabin</th>\n      <th>Embarked</th>\n    </tr>\n  </thead>\n  <tbody>\n    <tr>\n      <th>0</th>\n      <td>0</td>\n      <td>3</td>\n      <td>male</td>\n      <td>22.0</td>\n      <td>1</td>\n      <td>0</td>\n      <td>7.2500</td>\n      <td>B96 B98</td>\n      <td>S</td>\n    </tr>\n    <tr>\n      <th>1</th>\n      <td>1</td>\n      <td>1</td>\n      <td>female</td>\n      <td>38.0</td>\n      <td>1</td>\n      <td>0</td>\n      <td>71.2833</td>\n      <td>C85</td>\n      <td>C</td>\n    </tr>\n    <tr>\n      <th>2</th>\n      <td>1</td>\n      <td>3</td>\n      <td>female</td>\n      <td>26.0</td>\n      <td>0</td>\n      <td>0</td>\n      <td>7.9250</td>\n      <td>B96 B98</td>\n      <td>S</td>\n    </tr>\n    <tr>\n      <th>3</th>\n      <td>1</td>\n      <td>1</td>\n      <td>female</td>\n      <td>35.0</td>\n      <td>1</td>\n      <td>0</td>\n      <td>53.1000</td>\n      <td>C123</td>\n      <td>S</td>\n    </tr>\n    <tr>\n      <th>4</th>\n      <td>0</td>\n      <td>3</td>\n      <td>male</td>\n      <td>35.0</td>\n      <td>0</td>\n      <td>0</td>\n      <td>8.0500</td>\n      <td>B96 B98</td>\n      <td>S</td>\n    </tr>\n    <tr>\n      <th>...</th>\n      <td>...</td>\n      <td>...</td>\n      <td>...</td>\n      <td>...</td>\n      <td>...</td>\n      <td>...</td>\n      <td>...</td>\n      <td>...</td>\n      <td>...</td>\n    </tr>\n    <tr>\n      <th>886</th>\n      <td>0</td>\n      <td>2</td>\n      <td>male</td>\n      <td>27.0</td>\n      <td>0</td>\n      <td>0</td>\n      <td>13.0000</td>\n      <td>B96 B98</td>\n      <td>S</td>\n    </tr>\n    <tr>\n      <th>887</th>\n      <td>1</td>\n      <td>1</td>\n      <td>female</td>\n      <td>19.0</td>\n      <td>0</td>\n      <td>0</td>\n      <td>30.0000</td>\n      <td>B42</td>\n      <td>S</td>\n    </tr>\n    <tr>\n      <th>888</th>\n      <td>0</td>\n      <td>3</td>\n      <td>female</td>\n      <td>28.0</td>\n      <td>1</td>\n      <td>2</td>\n      <td>23.4500</td>\n      <td>B96 B98</td>\n      <td>S</td>\n    </tr>\n    <tr>\n      <th>889</th>\n      <td>1</td>\n      <td>1</td>\n      <td>male</td>\n      <td>26.0</td>\n      <td>0</td>\n      <td>0</td>\n      <td>30.0000</td>\n      <td>C148</td>\n      <td>C</td>\n    </tr>\n    <tr>\n      <th>890</th>\n      <td>0</td>\n      <td>3</td>\n      <td>male</td>\n      <td>32.0</td>\n      <td>0</td>\n      <td>0</td>\n      <td>7.7500</td>\n      <td>B96 B98</td>\n      <td>Q</td>\n    </tr>\n  </tbody>\n</table>\n<p>891 rows × 9 columns</p>\n</div>"
     },
     "execution_count": 45,
     "metadata": {},
     "output_type": "execute_result"
    }
   ],
   "source": [
    "df=df.drop(columns='PassengerId',axis=1)\n",
    "df=df.drop(columns='Ticket',axis=1)\n",
    "df=df.drop(columns='Name',axis=1)\n",
    "df"
   ],
   "metadata": {
    "collapsed": false,
    "ExecuteTime": {
     "end_time": "2023-06-20T03:50:47.390744024Z",
     "start_time": "2023-06-20T03:50:47.350437277Z"
    }
   }
  },
  {
   "cell_type": "markdown",
   "source": [
    "Atributos com mais de 2 valores,\n"
   ],
   "metadata": {
    "collapsed": false
   }
  },
  {
   "cell_type": "code",
   "execution_count": 46,
   "outputs": [],
   "source": [
    "df = pd.get_dummies(df)\n",
    "\n"
   ],
   "metadata": {
    "collapsed": false,
    "ExecuteTime": {
     "end_time": "2023-06-20T03:51:09.732855460Z",
     "start_time": "2023-06-20T03:51:09.703394783Z"
    }
   }
  },
  {
   "cell_type": "code",
   "execution_count": 47,
   "outputs": [
    {
     "data": {
      "text/plain": "Index(['Survived', 'Pclass', 'Age', 'SibSp', 'Parch', 'Fare', 'Sex_female',\n       'Sex_male', 'Cabin_A10', 'Cabin_A14',\n       ...\n       'Cabin_F G73', 'Cabin_F2', 'Cabin_F33', 'Cabin_F38', 'Cabin_F4',\n       'Cabin_G6', 'Cabin_T', 'Embarked_C', 'Embarked_Q', 'Embarked_S'],\n      dtype='object', length=158)"
     },
     "execution_count": 47,
     "metadata": {},
     "output_type": "execute_result"
    }
   ],
   "source": [
    "df.columns"
   ],
   "metadata": {
    "collapsed": false,
    "ExecuteTime": {
     "end_time": "2023-06-20T03:51:11.598340342Z",
     "start_time": "2023-06-20T03:51:11.531356034Z"
    }
   }
  },
  {
   "cell_type": "code",
   "source": [
    "std=StandardScaler()\n",
    "columns = ['Age','Fare']\n",
    "scaled = std.fit_transform(df[['Age','Fare']])\n",
    "scaled = pd.DataFrame(scaled,columns=columns)\n",
    "df=df.drop(columns=columns,axis=1)"
   ],
   "metadata": {
    "colab": {
     "base_uri": "https://localhost:8080/"
    },
    "id": "eZt5CznzJtq8",
    "outputId": "c630407b-0efa-4716-af18-09bd37684dc8",
    "ExecuteTime": {
     "end_time": "2023-06-20T03:51:34.328017556Z",
     "start_time": "2023-06-20T03:51:34.282967301Z"
    }
   },
   "execution_count": 48,
   "outputs": []
  },
  {
   "cell_type": "code",
   "execution_count": 49,
   "metadata": {
    "id": "puzwFlBZtyzN",
    "ExecuteTime": {
     "end_time": "2023-06-20T03:51:35.207370660Z",
     "start_time": "2023-06-20T03:51:35.142281587Z"
    }
   },
   "outputs": [
    {
     "data": {
      "text/plain": "     Survived  Pclass  SibSp  Parch  Sex_female  Sex_male  Cabin_A10  \\\n0           0       3      1      0       False      True      False   \n1           1       1      1      0        True     False      False   \n2           1       3      0      0        True     False      False   \n3           1       1      1      0        True     False      False   \n4           0       3      0      0       False      True      False   \n..        ...     ...    ...    ...         ...       ...        ...   \n886         0       2      0      0       False      True      False   \n887         1       1      0      0        True     False      False   \n888         0       3      1      2        True     False      False   \n889         1       1      0      0       False      True      False   \n890         0       3      0      0       False      True      False   \n\n     Cabin_A14  Cabin_A16  Cabin_A19  ...  Cabin_F33  Cabin_F38  Cabin_F4  \\\n0        False      False      False  ...      False      False     False   \n1        False      False      False  ...      False      False     False   \n2        False      False      False  ...      False      False     False   \n3        False      False      False  ...      False      False     False   \n4        False      False      False  ...      False      False     False   \n..         ...        ...        ...  ...        ...        ...       ...   \n886      False      False      False  ...      False      False     False   \n887      False      False      False  ...      False      False     False   \n888      False      False      False  ...      False      False     False   \n889      False      False      False  ...      False      False     False   \n890      False      False      False  ...      False      False     False   \n\n     Cabin_G6  Cabin_T  Embarked_C  Embarked_Q  Embarked_S       Age      Fare  \n0       False    False       False       False        True -0.565736 -0.502445  \n1       False    False        True       False       False  0.663861  0.786845  \n2       False    False       False       False        True -0.258337 -0.488854  \n3       False    False       False       False        True  0.433312  0.420730  \n4       False    False       False       False        True  0.433312 -0.486337  \n..        ...      ...         ...         ...         ...       ...       ...  \n886     False    False       False       False        True -0.181487 -0.386671  \n887     False    False       False       False        True -0.796286 -0.044381  \n888     False    False       False       False        True -0.104637 -0.176263  \n889     False    False        True       False       False -0.258337 -0.044381  \n890     False    False       False        True       False  0.202762 -0.492378  \n\n[891 rows x 158 columns]",
      "text/html": "<div>\n<style scoped>\n    .dataframe tbody tr th:only-of-type {\n        vertical-align: middle;\n    }\n\n    .dataframe tbody tr th {\n        vertical-align: top;\n    }\n\n    .dataframe thead th {\n        text-align: right;\n    }\n</style>\n<table border=\"1\" class=\"dataframe\">\n  <thead>\n    <tr style=\"text-align: right;\">\n      <th></th>\n      <th>Survived</th>\n      <th>Pclass</th>\n      <th>SibSp</th>\n      <th>Parch</th>\n      <th>Sex_female</th>\n      <th>Sex_male</th>\n      <th>Cabin_A10</th>\n      <th>Cabin_A14</th>\n      <th>Cabin_A16</th>\n      <th>Cabin_A19</th>\n      <th>...</th>\n      <th>Cabin_F33</th>\n      <th>Cabin_F38</th>\n      <th>Cabin_F4</th>\n      <th>Cabin_G6</th>\n      <th>Cabin_T</th>\n      <th>Embarked_C</th>\n      <th>Embarked_Q</th>\n      <th>Embarked_S</th>\n      <th>Age</th>\n      <th>Fare</th>\n    </tr>\n  </thead>\n  <tbody>\n    <tr>\n      <th>0</th>\n      <td>0</td>\n      <td>3</td>\n      <td>1</td>\n      <td>0</td>\n      <td>False</td>\n      <td>True</td>\n      <td>False</td>\n      <td>False</td>\n      <td>False</td>\n      <td>False</td>\n      <td>...</td>\n      <td>False</td>\n      <td>False</td>\n      <td>False</td>\n      <td>False</td>\n      <td>False</td>\n      <td>False</td>\n      <td>False</td>\n      <td>True</td>\n      <td>-0.565736</td>\n      <td>-0.502445</td>\n    </tr>\n    <tr>\n      <th>1</th>\n      <td>1</td>\n      <td>1</td>\n      <td>1</td>\n      <td>0</td>\n      <td>True</td>\n      <td>False</td>\n      <td>False</td>\n      <td>False</td>\n      <td>False</td>\n      <td>False</td>\n      <td>...</td>\n      <td>False</td>\n      <td>False</td>\n      <td>False</td>\n      <td>False</td>\n      <td>False</td>\n      <td>True</td>\n      <td>False</td>\n      <td>False</td>\n      <td>0.663861</td>\n      <td>0.786845</td>\n    </tr>\n    <tr>\n      <th>2</th>\n      <td>1</td>\n      <td>3</td>\n      <td>0</td>\n      <td>0</td>\n      <td>True</td>\n      <td>False</td>\n      <td>False</td>\n      <td>False</td>\n      <td>False</td>\n      <td>False</td>\n      <td>...</td>\n      <td>False</td>\n      <td>False</td>\n      <td>False</td>\n      <td>False</td>\n      <td>False</td>\n      <td>False</td>\n      <td>False</td>\n      <td>True</td>\n      <td>-0.258337</td>\n      <td>-0.488854</td>\n    </tr>\n    <tr>\n      <th>3</th>\n      <td>1</td>\n      <td>1</td>\n      <td>1</td>\n      <td>0</td>\n      <td>True</td>\n      <td>False</td>\n      <td>False</td>\n      <td>False</td>\n      <td>False</td>\n      <td>False</td>\n      <td>...</td>\n      <td>False</td>\n      <td>False</td>\n      <td>False</td>\n      <td>False</td>\n      <td>False</td>\n      <td>False</td>\n      <td>False</td>\n      <td>True</td>\n      <td>0.433312</td>\n      <td>0.420730</td>\n    </tr>\n    <tr>\n      <th>4</th>\n      <td>0</td>\n      <td>3</td>\n      <td>0</td>\n      <td>0</td>\n      <td>False</td>\n      <td>True</td>\n      <td>False</td>\n      <td>False</td>\n      <td>False</td>\n      <td>False</td>\n      <td>...</td>\n      <td>False</td>\n      <td>False</td>\n      <td>False</td>\n      <td>False</td>\n      <td>False</td>\n      <td>False</td>\n      <td>False</td>\n      <td>True</td>\n      <td>0.433312</td>\n      <td>-0.486337</td>\n    </tr>\n    <tr>\n      <th>...</th>\n      <td>...</td>\n      <td>...</td>\n      <td>...</td>\n      <td>...</td>\n      <td>...</td>\n      <td>...</td>\n      <td>...</td>\n      <td>...</td>\n      <td>...</td>\n      <td>...</td>\n      <td>...</td>\n      <td>...</td>\n      <td>...</td>\n      <td>...</td>\n      <td>...</td>\n      <td>...</td>\n      <td>...</td>\n      <td>...</td>\n      <td>...</td>\n      <td>...</td>\n      <td>...</td>\n    </tr>\n    <tr>\n      <th>886</th>\n      <td>0</td>\n      <td>2</td>\n      <td>0</td>\n      <td>0</td>\n      <td>False</td>\n      <td>True</td>\n      <td>False</td>\n      <td>False</td>\n      <td>False</td>\n      <td>False</td>\n      <td>...</td>\n      <td>False</td>\n      <td>False</td>\n      <td>False</td>\n      <td>False</td>\n      <td>False</td>\n      <td>False</td>\n      <td>False</td>\n      <td>True</td>\n      <td>-0.181487</td>\n      <td>-0.386671</td>\n    </tr>\n    <tr>\n      <th>887</th>\n      <td>1</td>\n      <td>1</td>\n      <td>0</td>\n      <td>0</td>\n      <td>True</td>\n      <td>False</td>\n      <td>False</td>\n      <td>False</td>\n      <td>False</td>\n      <td>False</td>\n      <td>...</td>\n      <td>False</td>\n      <td>False</td>\n      <td>False</td>\n      <td>False</td>\n      <td>False</td>\n      <td>False</td>\n      <td>False</td>\n      <td>True</td>\n      <td>-0.796286</td>\n      <td>-0.044381</td>\n    </tr>\n    <tr>\n      <th>888</th>\n      <td>0</td>\n      <td>3</td>\n      <td>1</td>\n      <td>2</td>\n      <td>True</td>\n      <td>False</td>\n      <td>False</td>\n      <td>False</td>\n      <td>False</td>\n      <td>False</td>\n      <td>...</td>\n      <td>False</td>\n      <td>False</td>\n      <td>False</td>\n      <td>False</td>\n      <td>False</td>\n      <td>False</td>\n      <td>False</td>\n      <td>True</td>\n      <td>-0.104637</td>\n      <td>-0.176263</td>\n    </tr>\n    <tr>\n      <th>889</th>\n      <td>1</td>\n      <td>1</td>\n      <td>0</td>\n      <td>0</td>\n      <td>False</td>\n      <td>True</td>\n      <td>False</td>\n      <td>False</td>\n      <td>False</td>\n      <td>False</td>\n      <td>...</td>\n      <td>False</td>\n      <td>False</td>\n      <td>False</td>\n      <td>False</td>\n      <td>False</td>\n      <td>True</td>\n      <td>False</td>\n      <td>False</td>\n      <td>-0.258337</td>\n      <td>-0.044381</td>\n    </tr>\n    <tr>\n      <th>890</th>\n      <td>0</td>\n      <td>3</td>\n      <td>0</td>\n      <td>0</td>\n      <td>False</td>\n      <td>True</td>\n      <td>False</td>\n      <td>False</td>\n      <td>False</td>\n      <td>False</td>\n      <td>...</td>\n      <td>False</td>\n      <td>False</td>\n      <td>False</td>\n      <td>False</td>\n      <td>False</td>\n      <td>False</td>\n      <td>True</td>\n      <td>False</td>\n      <td>0.202762</td>\n      <td>-0.492378</td>\n    </tr>\n  </tbody>\n</table>\n<p>891 rows × 158 columns</p>\n</div>"
     },
     "execution_count": 49,
     "metadata": {},
     "output_type": "execute_result"
    }
   ],
   "source": [
    "df=df.merge(scaled, left_index=True, right_index=True, how = \"right\")\n",
    "df"
   ]
  },
  {
   "cell_type": "markdown",
   "metadata": {
    "id": "M7IdVmzityzN"
   },
   "source": []
  },
  {
   "cell_type": "code",
   "source": [
    "X = df.drop(['Survived'], axis=1).values\n",
    "y = df['Survived'].values"
   ],
   "metadata": {
    "colab": {
     "base_uri": "https://localhost:8080/"
    },
    "id": "Dj6I4qzWKSI2",
    "outputId": "8401a3ce-83da-4999-ae56-29d4bcff453b",
    "ExecuteTime": {
     "end_time": "2023-06-20T03:52:23.935743593Z",
     "start_time": "2023-06-20T03:52:23.884902174Z"
    }
   },
   "execution_count": 53,
   "outputs": []
  },
  {
   "cell_type": "code",
   "source": [
    "X_train, X_test, y_train, y_test = train_test_split(X, y, test_size=0.3)"
   ],
   "metadata": {
    "colab": {
     "base_uri": "https://localhost:8080/"
    },
    "id": "bYwDbAkdvhNs",
    "outputId": "febeb8f6-6c04-4272-f795-8297a8fdba3a",
    "ExecuteTime": {
     "end_time": "2023-06-20T03:52:24.884682119Z",
     "start_time": "2023-06-20T03:52:24.863487361Z"
    }
   },
   "execution_count": 54,
   "outputs": []
  },
  {
   "cell_type": "code",
   "execution_count": 55,
   "metadata": {
    "colab": {
     "base_uri": "https://localhost:8080/"
    },
    "id": "qtLcrtW7tyzO",
    "outputId": "fe15823c-3d15-4b54-c6a8-a7b4bc08c75b",
    "ExecuteTime": {
     "end_time": "2023-06-20T03:52:26.215043535Z",
     "start_time": "2023-06-20T03:52:26.123804241Z"
    }
   },
   "outputs": [],
   "source": [
    "sm = SMOTE()\n",
    "x_train_oversampled, y_train_oversampled = sm.fit_resample(X_train, y_train)"
   ]
  },
  {
   "cell_type": "code",
   "source": [
    "print(x_train_oversampled.shape)\n",
    "print(X_train.shape)"
   ],
   "metadata": {
    "colab": {
     "base_uri": "https://localhost:8080/",
     "height": 505
    },
    "id": "aBa0fD7awS4s",
    "outputId": "799cdf05-702a-40b6-a88c-cc6d21963d19",
    "ExecuteTime": {
     "end_time": "2023-06-20T03:52:28.076030479Z",
     "start_time": "2023-06-20T03:52:28.064732698Z"
    }
   },
   "execution_count": 56,
   "outputs": [
    {
     "name": "stdout",
     "output_type": "stream",
     "text": [
      "(780, 157)\n",
      "(623, 157)\n"
     ]
    }
   ]
  },
  {
   "cell_type": "code",
   "execution_count": null,
   "outputs": [],
   "source": [
    "### Redes Neurais"
   ],
   "metadata": {
    "collapsed": false
   }
  },
  {
   "cell_type": "code",
   "execution_count": 80,
   "outputs": [],
   "source": [
    "# **CRIAÇÃO DO ALGORITMO**"
   ],
   "metadata": {
    "collapsed": false,
    "ExecuteTime": {
     "end_time": "2023-06-20T16:31:42.208517481Z",
     "start_time": "2023-06-20T16:31:42.179964338Z"
    }
   }
  },
  {
   "cell_type": "code",
   "execution_count": 82,
   "outputs": [],
   "source": [
    "rna = MLPClassifier(hidden_layer_sizes=(10,10, 10), activation='relu', solver='sgd', max_iter =800,\n",
    "                              tol=0.0001, random_state = 3, verbose = True)\n"
   ],
   "metadata": {
    "collapsed": false,
    "ExecuteTime": {
     "end_time": "2023-06-20T16:32:39.562400017Z",
     "start_time": "2023-06-20T16:32:39.527912593Z"
    }
   }
  },
  {
   "cell_type": "code",
   "execution_count": 83,
   "outputs": [
    {
     "name": "stdout",
     "output_type": "stream",
     "text": [
      "Iteration 1, loss = 0.73566116\n",
      "Iteration 2, loss = 0.73356643\n",
      "Iteration 3, loss = 0.73039927\n",
      "Iteration 4, loss = 0.72687166\n",
      "Iteration 5, loss = 0.72377451\n",
      "Iteration 6, loss = 0.72049024\n",
      "Iteration 7, loss = 0.71758291\n",
      "Iteration 8, loss = 0.71465967\n",
      "Iteration 9, loss = 0.71177401\n",
      "Iteration 10, loss = 0.70900164\n",
      "Iteration 11, loss = 0.70626689\n",
      "Iteration 12, loss = 0.70361272\n",
      "Iteration 13, loss = 0.70124485\n",
      "Iteration 14, loss = 0.69885854\n",
      "Iteration 15, loss = 0.69651877\n",
      "Iteration 16, loss = 0.69437628\n",
      "Iteration 17, loss = 0.69218162\n",
      "Iteration 18, loss = 0.69023377\n",
      "Iteration 19, loss = 0.68829969\n",
      "Iteration 20, loss = 0.68657476\n",
      "Iteration 21, loss = 0.68492629\n",
      "Iteration 22, loss = 0.68333596\n",
      "Iteration 23, loss = 0.68174487\n",
      "Iteration 24, loss = 0.68019986\n",
      "Iteration 25, loss = 0.67859538\n",
      "Iteration 26, loss = 0.67707499\n",
      "Iteration 27, loss = 0.67554858\n",
      "Iteration 28, loss = 0.67440561\n",
      "Iteration 29, loss = 0.67316902\n",
      "Iteration 30, loss = 0.67208640\n",
      "Iteration 31, loss = 0.67114416\n",
      "Iteration 32, loss = 0.67003626\n",
      "Iteration 33, loss = 0.66908657\n",
      "Iteration 34, loss = 0.66816215\n",
      "Iteration 35, loss = 0.66729845\n",
      "Iteration 36, loss = 0.66634871\n",
      "Iteration 37, loss = 0.66553845\n",
      "Iteration 38, loss = 0.66475452\n",
      "Iteration 39, loss = 0.66398011\n",
      "Iteration 40, loss = 0.66331505\n",
      "Iteration 41, loss = 0.66263895\n",
      "Iteration 42, loss = 0.66204762\n",
      "Iteration 43, loss = 0.66132378\n",
      "Iteration 44, loss = 0.66061054\n",
      "Iteration 45, loss = 0.65998078\n",
      "Iteration 46, loss = 0.65939483\n",
      "Iteration 47, loss = 0.65879822\n",
      "Iteration 48, loss = 0.65812312\n",
      "Iteration 49, loss = 0.65754176\n",
      "Iteration 50, loss = 0.65689779\n",
      "Iteration 51, loss = 0.65632414\n",
      "Iteration 52, loss = 0.65571161\n",
      "Iteration 53, loss = 0.65521531\n",
      "Iteration 54, loss = 0.65470412\n",
      "Iteration 55, loss = 0.65419851\n",
      "Iteration 56, loss = 0.65372456\n",
      "Iteration 57, loss = 0.65330384\n",
      "Iteration 58, loss = 0.65285885\n",
      "Iteration 59, loss = 0.65245928\n",
      "Iteration 60, loss = 0.65203349\n",
      "Iteration 61, loss = 0.65161275\n",
      "Iteration 62, loss = 0.65118602\n",
      "Iteration 63, loss = 0.65080658\n",
      "Iteration 64, loss = 0.65044332\n",
      "Iteration 65, loss = 0.65008209\n",
      "Iteration 66, loss = 0.64972361\n",
      "Iteration 67, loss = 0.64934087\n",
      "Iteration 68, loss = 0.64895986\n",
      "Iteration 69, loss = 0.64855953\n",
      "Iteration 70, loss = 0.64816736\n",
      "Iteration 71, loss = 0.64772800\n",
      "Iteration 72, loss = 0.64732626\n",
      "Iteration 73, loss = 0.64699273\n",
      "Iteration 74, loss = 0.64658551\n",
      "Iteration 75, loss = 0.64623352\n",
      "Iteration 76, loss = 0.64591085\n",
      "Iteration 77, loss = 0.64555108\n",
      "Iteration 78, loss = 0.64521409\n",
      "Iteration 79, loss = 0.64485836\n",
      "Iteration 80, loss = 0.64452087\n",
      "Iteration 81, loss = 0.64418471\n",
      "Iteration 82, loss = 0.64384716\n",
      "Iteration 83, loss = 0.64347648\n",
      "Iteration 84, loss = 0.64311025\n",
      "Iteration 85, loss = 0.64274110\n",
      "Iteration 86, loss = 0.64241179\n",
      "Iteration 87, loss = 0.64201699\n",
      "Iteration 88, loss = 0.64164717\n",
      "Iteration 89, loss = 0.64129414\n",
      "Iteration 90, loss = 0.64096346\n",
      "Iteration 91, loss = 0.64062623\n",
      "Iteration 92, loss = 0.64029871\n",
      "Iteration 93, loss = 0.63997498\n",
      "Iteration 94, loss = 0.63963296\n",
      "Iteration 95, loss = 0.63933536\n",
      "Iteration 96, loss = 0.63892546\n",
      "Iteration 97, loss = 0.63855511\n",
      "Iteration 98, loss = 0.63819622\n",
      "Iteration 99, loss = 0.63780068\n",
      "Iteration 100, loss = 0.63739724\n",
      "Iteration 101, loss = 0.63702863\n",
      "Iteration 102, loss = 0.63663738\n",
      "Iteration 103, loss = 0.63623745\n",
      "Iteration 104, loss = 0.63583621\n",
      "Iteration 105, loss = 0.63544356\n",
      "Iteration 106, loss = 0.63503011\n",
      "Iteration 107, loss = 0.63466035\n",
      "Iteration 108, loss = 0.63425567\n",
      "Iteration 109, loss = 0.63383577\n",
      "Iteration 110, loss = 0.63340929\n",
      "Iteration 111, loss = 0.63298220\n",
      "Iteration 112, loss = 0.63255540\n",
      "Iteration 113, loss = 0.63209897\n",
      "Iteration 114, loss = 0.63165594\n",
      "Iteration 115, loss = 0.63120046\n",
      "Iteration 116, loss = 0.63075531\n",
      "Iteration 117, loss = 0.63028978\n",
      "Iteration 118, loss = 0.62984360\n",
      "Iteration 119, loss = 0.62933910\n",
      "Iteration 120, loss = 0.62887406\n",
      "Iteration 121, loss = 0.62838572\n",
      "Iteration 122, loss = 0.62791909\n",
      "Iteration 123, loss = 0.62742016\n",
      "Iteration 124, loss = 0.62692785\n",
      "Iteration 125, loss = 0.62643339\n",
      "Iteration 126, loss = 0.62592961\n",
      "Iteration 127, loss = 0.62543841\n",
      "Iteration 128, loss = 0.62493978\n",
      "Iteration 129, loss = 0.62444131\n",
      "Iteration 130, loss = 0.62392606\n",
      "Iteration 131, loss = 0.62340674\n",
      "Iteration 132, loss = 0.62287731\n",
      "Iteration 133, loss = 0.62233088\n",
      "Iteration 134, loss = 0.62179065\n",
      "Iteration 135, loss = 0.62123512\n",
      "Iteration 136, loss = 0.62064813\n",
      "Iteration 137, loss = 0.62008850\n",
      "Iteration 138, loss = 0.61947303\n",
      "Iteration 139, loss = 0.61886733\n",
      "Iteration 140, loss = 0.61827081\n",
      "Iteration 141, loss = 0.61766938\n",
      "Iteration 142, loss = 0.61706034\n",
      "Iteration 143, loss = 0.61641700\n",
      "Iteration 144, loss = 0.61579631\n",
      "Iteration 145, loss = 0.61515326\n",
      "Iteration 146, loss = 0.61448305\n",
      "Iteration 147, loss = 0.61385145\n",
      "Iteration 148, loss = 0.61323748\n",
      "Iteration 149, loss = 0.61259866\n",
      "Iteration 150, loss = 0.61198326\n",
      "Iteration 151, loss = 0.61134713\n",
      "Iteration 152, loss = 0.61069887\n",
      "Iteration 153, loss = 0.61000745\n",
      "Iteration 154, loss = 0.60928015\n",
      "Iteration 155, loss = 0.60853234\n",
      "Iteration 156, loss = 0.60779484\n",
      "Iteration 157, loss = 0.60699449\n",
      "Iteration 158, loss = 0.60621555\n",
      "Iteration 159, loss = 0.60542725\n",
      "Iteration 160, loss = 0.60463020\n",
      "Iteration 161, loss = 0.60384169\n",
      "Iteration 162, loss = 0.60308880\n",
      "Iteration 163, loss = 0.60229130\n",
      "Iteration 164, loss = 0.60151481\n",
      "Iteration 165, loss = 0.60077382\n",
      "Iteration 166, loss = 0.59992453\n",
      "Iteration 167, loss = 0.59916642\n",
      "Iteration 168, loss = 0.59838071\n",
      "Iteration 169, loss = 0.59753222\n",
      "Iteration 170, loss = 0.59662267\n",
      "Iteration 171, loss = 0.59576239\n",
      "Iteration 172, loss = 0.59492702\n",
      "Iteration 173, loss = 0.59406135\n",
      "Iteration 174, loss = 0.59317374\n",
      "Iteration 175, loss = 0.59223313\n",
      "Iteration 176, loss = 0.59127357\n",
      "Iteration 177, loss = 0.59031260\n",
      "Iteration 178, loss = 0.58928582\n",
      "Iteration 179, loss = 0.58827792\n",
      "Iteration 180, loss = 0.58725444\n",
      "Iteration 181, loss = 0.58627974\n",
      "Iteration 182, loss = 0.58526531\n",
      "Iteration 183, loss = 0.58424395\n",
      "Iteration 184, loss = 0.58316374\n",
      "Iteration 185, loss = 0.58212949\n",
      "Iteration 186, loss = 0.58102216\n",
      "Iteration 187, loss = 0.58000185\n",
      "Iteration 188, loss = 0.57889152\n",
      "Iteration 189, loss = 0.57773546\n",
      "Iteration 190, loss = 0.57657178\n",
      "Iteration 191, loss = 0.57544067\n",
      "Iteration 192, loss = 0.57429906\n",
      "Iteration 193, loss = 0.57306312\n",
      "Iteration 194, loss = 0.57184646\n",
      "Iteration 195, loss = 0.57054487\n",
      "Iteration 196, loss = 0.56927061\n",
      "Iteration 197, loss = 0.56789641\n",
      "Iteration 198, loss = 0.56656376\n",
      "Iteration 199, loss = 0.56501315\n",
      "Iteration 200, loss = 0.56361775\n",
      "Iteration 201, loss = 0.56224774\n",
      "Iteration 202, loss = 0.56094727\n",
      "Iteration 203, loss = 0.55948760\n",
      "Iteration 204, loss = 0.55805906\n",
      "Iteration 205, loss = 0.55663310\n",
      "Iteration 206, loss = 0.55513190\n",
      "Iteration 207, loss = 0.55365286\n",
      "Iteration 208, loss = 0.55222084\n",
      "Iteration 209, loss = 0.55071686\n",
      "Iteration 210, loss = 0.54920120\n",
      "Iteration 211, loss = 0.54762789\n",
      "Iteration 212, loss = 0.54614102\n",
      "Iteration 213, loss = 0.54460997\n",
      "Iteration 214, loss = 0.54302485\n",
      "Iteration 215, loss = 0.54141449\n",
      "Iteration 216, loss = 0.53991979\n",
      "Iteration 217, loss = 0.53839505\n",
      "Iteration 218, loss = 0.53685962\n",
      "Iteration 219, loss = 0.53529784\n",
      "Iteration 220, loss = 0.53363953\n",
      "Iteration 221, loss = 0.53196072\n",
      "Iteration 222, loss = 0.53020523\n",
      "Iteration 223, loss = 0.52853262\n",
      "Iteration 224, loss = 0.52686139\n",
      "Iteration 225, loss = 0.52510499\n",
      "Iteration 226, loss = 0.52335978\n",
      "Iteration 227, loss = 0.52154248\n",
      "Iteration 228, loss = 0.51972000\n",
      "Iteration 229, loss = 0.51785709\n",
      "Iteration 230, loss = 0.51612144\n",
      "Iteration 231, loss = 0.51432177\n",
      "Iteration 232, loss = 0.51251433\n",
      "Iteration 233, loss = 0.51073724\n",
      "Iteration 234, loss = 0.50901525\n",
      "Iteration 235, loss = 0.50727692\n",
      "Iteration 236, loss = 0.50570822\n",
      "Iteration 237, loss = 0.50416356\n",
      "Iteration 238, loss = 0.50270271\n",
      "Iteration 239, loss = 0.50126483\n",
      "Iteration 240, loss = 0.49976430\n",
      "Iteration 241, loss = 0.49833409\n",
      "Iteration 242, loss = 0.49691762\n",
      "Iteration 243, loss = 0.49560726\n",
      "Iteration 244, loss = 0.49444800\n",
      "Iteration 245, loss = 0.49310054\n",
      "Iteration 246, loss = 0.49186009\n",
      "Iteration 247, loss = 0.49056810\n",
      "Iteration 248, loss = 0.48925226\n",
      "Iteration 249, loss = 0.48804055\n",
      "Iteration 250, loss = 0.48675553\n",
      "Iteration 251, loss = 0.48571549\n",
      "Iteration 252, loss = 0.48457020\n",
      "Iteration 253, loss = 0.48354243\n",
      "Iteration 254, loss = 0.48232553\n",
      "Iteration 255, loss = 0.48109790\n",
      "Iteration 256, loss = 0.47990396\n",
      "Iteration 257, loss = 0.47882871\n",
      "Iteration 258, loss = 0.47776329\n",
      "Iteration 259, loss = 0.47676380\n",
      "Iteration 260, loss = 0.47571891\n",
      "Iteration 261, loss = 0.47482935\n",
      "Iteration 262, loss = 0.47381059\n",
      "Iteration 263, loss = 0.47286737\n",
      "Iteration 264, loss = 0.47197238\n",
      "Iteration 265, loss = 0.47115325\n",
      "Iteration 266, loss = 0.47023724\n",
      "Iteration 267, loss = 0.46928122\n",
      "Iteration 268, loss = 0.46845780\n",
      "Iteration 269, loss = 0.46752689\n",
      "Iteration 270, loss = 0.46651511\n",
      "Iteration 271, loss = 0.46567327\n",
      "Iteration 272, loss = 0.46486376\n",
      "Iteration 273, loss = 0.46404678\n",
      "Iteration 274, loss = 0.46313675\n",
      "Iteration 275, loss = 0.46235228\n",
      "Iteration 276, loss = 0.46154824\n",
      "Iteration 277, loss = 0.46070280\n",
      "Iteration 278, loss = 0.45991245\n",
      "Iteration 279, loss = 0.45921681\n",
      "Iteration 280, loss = 0.45849676\n",
      "Iteration 281, loss = 0.45780077\n",
      "Iteration 282, loss = 0.45706628\n",
      "Iteration 283, loss = 0.45636974\n",
      "Iteration 284, loss = 0.45568456\n",
      "Iteration 285, loss = 0.45508730\n",
      "Iteration 286, loss = 0.45443924\n",
      "Iteration 287, loss = 0.45365161\n",
      "Iteration 288, loss = 0.45302366\n",
      "Iteration 289, loss = 0.45228966\n",
      "Iteration 290, loss = 0.45161841\n",
      "Iteration 291, loss = 0.45098890\n",
      "Iteration 292, loss = 0.45033630\n",
      "Iteration 293, loss = 0.44962020\n",
      "Iteration 294, loss = 0.44899706\n",
      "Iteration 295, loss = 0.44842828\n",
      "Iteration 296, loss = 0.44774590\n",
      "Iteration 297, loss = 0.44709575\n",
      "Iteration 298, loss = 0.44648343\n",
      "Iteration 299, loss = 0.44595804\n",
      "Iteration 300, loss = 0.44568324\n",
      "Iteration 301, loss = 0.44537437\n",
      "Iteration 302, loss = 0.44478454\n",
      "Iteration 303, loss = 0.44418162\n",
      "Iteration 304, loss = 0.44345990\n",
      "Iteration 305, loss = 0.44280829\n",
      "Iteration 306, loss = 0.44225316\n",
      "Iteration 307, loss = 0.44179130\n",
      "Iteration 308, loss = 0.44128017\n",
      "Iteration 309, loss = 0.44079582\n",
      "Iteration 310, loss = 0.44033332\n",
      "Iteration 311, loss = 0.43990973\n",
      "Iteration 312, loss = 0.43945613\n",
      "Iteration 313, loss = 0.43909134\n",
      "Iteration 314, loss = 0.43888474\n",
      "Iteration 315, loss = 0.43829117\n",
      "Iteration 316, loss = 0.43780006\n",
      "Iteration 317, loss = 0.43731656\n",
      "Iteration 318, loss = 0.43712401\n",
      "Iteration 319, loss = 0.43681036\n",
      "Iteration 320, loss = 0.43660828\n",
      "Iteration 321, loss = 0.43612937\n",
      "Iteration 322, loss = 0.43554499\n",
      "Iteration 323, loss = 0.43512966\n",
      "Iteration 324, loss = 0.43485992\n",
      "Iteration 325, loss = 0.43452100\n",
      "Iteration 326, loss = 0.43417623\n",
      "Iteration 327, loss = 0.43404235\n",
      "Iteration 328, loss = 0.43371822\n",
      "Iteration 329, loss = 0.43340217\n",
      "Iteration 330, loss = 0.43303245\n",
      "Iteration 331, loss = 0.43268361\n",
      "Iteration 332, loss = 0.43238222\n",
      "Iteration 333, loss = 0.43192398\n",
      "Iteration 334, loss = 0.43153537\n",
      "Iteration 335, loss = 0.43120663\n",
      "Iteration 336, loss = 0.43091504\n",
      "Iteration 337, loss = 0.43051168\n",
      "Iteration 338, loss = 0.43021890\n",
      "Iteration 339, loss = 0.42982582\n",
      "Iteration 340, loss = 0.42953166\n",
      "Iteration 341, loss = 0.42910020\n",
      "Iteration 342, loss = 0.42913668\n",
      "Iteration 343, loss = 0.42877997\n",
      "Iteration 344, loss = 0.42846936\n",
      "Iteration 345, loss = 0.42798747\n",
      "Iteration 346, loss = 0.42765442\n",
      "Iteration 347, loss = 0.42741506\n",
      "Iteration 348, loss = 0.42761972\n",
      "Iteration 349, loss = 0.42768698\n",
      "Iteration 350, loss = 0.42691315\n",
      "Iteration 351, loss = 0.42620714\n",
      "Iteration 352, loss = 0.42586586\n",
      "Iteration 353, loss = 0.42567708\n",
      "Iteration 354, loss = 0.42538972\n",
      "Iteration 355, loss = 0.42512869\n",
      "Iteration 356, loss = 0.42485783\n",
      "Iteration 357, loss = 0.42455020\n",
      "Iteration 358, loss = 0.42447727\n",
      "Iteration 359, loss = 0.42412732\n",
      "Iteration 360, loss = 0.42375003\n",
      "Iteration 361, loss = 0.42340607\n",
      "Iteration 362, loss = 0.42321088\n",
      "Iteration 363, loss = 0.42289077\n",
      "Iteration 364, loss = 0.42264661\n",
      "Iteration 365, loss = 0.42241750\n",
      "Iteration 366, loss = 0.42208617\n",
      "Iteration 367, loss = 0.42175010\n",
      "Iteration 368, loss = 0.42149319\n",
      "Iteration 369, loss = 0.42140349\n",
      "Iteration 370, loss = 0.42117944\n",
      "Iteration 371, loss = 0.42091840\n",
      "Iteration 372, loss = 0.42067337\n",
      "Iteration 373, loss = 0.42051174\n",
      "Iteration 374, loss = 0.42022973\n",
      "Iteration 375, loss = 0.42007129\n",
      "Iteration 376, loss = 0.41977331\n",
      "Iteration 377, loss = 0.41947115\n",
      "Iteration 378, loss = 0.41921685\n",
      "Iteration 379, loss = 0.41906766\n",
      "Iteration 380, loss = 0.41877056\n",
      "Iteration 381, loss = 0.41846786\n",
      "Iteration 382, loss = 0.41819027\n",
      "Iteration 383, loss = 0.41819522\n",
      "Iteration 384, loss = 0.41827458\n",
      "Iteration 385, loss = 0.41823907\n",
      "Iteration 386, loss = 0.41800776\n",
      "Iteration 387, loss = 0.41776957\n",
      "Iteration 388, loss = 0.41735143\n",
      "Iteration 389, loss = 0.41677744\n",
      "Iteration 390, loss = 0.41645706\n",
      "Iteration 391, loss = 0.41620489\n",
      "Iteration 392, loss = 0.41632222\n",
      "Iteration 393, loss = 0.41607978\n",
      "Iteration 394, loss = 0.41593010\n",
      "Iteration 395, loss = 0.41581815\n",
      "Iteration 396, loss = 0.41585118\n",
      "Iteration 397, loss = 0.41569096\n",
      "Iteration 398, loss = 0.41531052\n",
      "Iteration 399, loss = 0.41485956\n",
      "Iteration 400, loss = 0.41464908\n",
      "Iteration 401, loss = 0.41447798\n",
      "Iteration 402, loss = 0.41405390\n",
      "Iteration 403, loss = 0.41388338\n",
      "Iteration 404, loss = 0.41390487\n",
      "Iteration 405, loss = 0.41385943\n",
      "Iteration 406, loss = 0.41370289\n",
      "Iteration 407, loss = 0.41335075\n",
      "Iteration 408, loss = 0.41307450\n",
      "Iteration 409, loss = 0.41276306\n",
      "Iteration 410, loss = 0.41251641\n",
      "Iteration 411, loss = 0.41241718\n",
      "Iteration 412, loss = 0.41246533\n",
      "Iteration 413, loss = 0.41299776\n",
      "Iteration 414, loss = 0.41280915\n",
      "Iteration 415, loss = 0.41243971\n",
      "Iteration 416, loss = 0.41196914\n",
      "Iteration 417, loss = 0.41138878\n",
      "Iteration 418, loss = 0.41094674\n",
      "Iteration 419, loss = 0.41082346\n",
      "Iteration 420, loss = 0.41056984\n",
      "Iteration 421, loss = 0.41036149\n",
      "Iteration 422, loss = 0.41019455\n",
      "Iteration 423, loss = 0.40994174\n",
      "Iteration 424, loss = 0.40983302\n",
      "Iteration 425, loss = 0.40974273\n",
      "Iteration 426, loss = 0.40944776\n",
      "Iteration 427, loss = 0.40920671\n",
      "Iteration 428, loss = 0.40887251\n",
      "Iteration 429, loss = 0.40879525\n",
      "Iteration 430, loss = 0.40898606\n",
      "Iteration 431, loss = 0.40903256\n",
      "Iteration 432, loss = 0.40869907\n",
      "Iteration 433, loss = 0.40842293\n",
      "Iteration 434, loss = 0.40812476\n",
      "Iteration 435, loss = 0.40763381\n",
      "Iteration 436, loss = 0.40728618\n",
      "Iteration 437, loss = 0.40712626\n",
      "Iteration 438, loss = 0.40703198\n",
      "Iteration 439, loss = 0.40686786\n",
      "Iteration 440, loss = 0.40658061\n",
      "Iteration 441, loss = 0.40641096\n",
      "Iteration 442, loss = 0.40617114\n",
      "Iteration 443, loss = 0.40648795\n",
      "Iteration 444, loss = 0.40646911\n",
      "Iteration 445, loss = 0.40580906\n",
      "Iteration 446, loss = 0.40544346\n",
      "Iteration 447, loss = 0.40531328\n",
      "Iteration 448, loss = 0.40518301\n",
      "Iteration 449, loss = 0.40494724\n",
      "Iteration 450, loss = 0.40467494\n",
      "Iteration 451, loss = 0.40446568\n",
      "Iteration 452, loss = 0.40436589\n",
      "Iteration 453, loss = 0.40407904\n",
      "Iteration 454, loss = 0.40385596\n",
      "Iteration 455, loss = 0.40413373\n",
      "Iteration 456, loss = 0.40399008\n",
      "Iteration 457, loss = 0.40357053\n",
      "Iteration 458, loss = 0.40327910\n",
      "Iteration 459, loss = 0.40302419\n",
      "Iteration 460, loss = 0.40295858\n",
      "Iteration 461, loss = 0.40288398\n",
      "Iteration 462, loss = 0.40304884\n",
      "Iteration 463, loss = 0.40293262\n",
      "Iteration 464, loss = 0.40279335\n",
      "Iteration 465, loss = 0.40207263\n",
      "Iteration 466, loss = 0.40179908\n",
      "Iteration 467, loss = 0.40196870\n",
      "Iteration 468, loss = 0.40174424\n",
      "Iteration 469, loss = 0.40140448\n",
      "Iteration 470, loss = 0.40125673\n",
      "Iteration 471, loss = 0.40110238\n",
      "Iteration 472, loss = 0.40090840\n",
      "Iteration 473, loss = 0.40111923\n",
      "Iteration 474, loss = 0.40065847\n",
      "Iteration 475, loss = 0.40047745\n",
      "Iteration 476, loss = 0.40059683\n",
      "Iteration 477, loss = 0.40027201\n",
      "Iteration 478, loss = 0.40018089\n",
      "Iteration 479, loss = 0.40010507\n",
      "Iteration 480, loss = 0.39978025\n",
      "Iteration 481, loss = 0.39965827\n",
      "Iteration 482, loss = 0.39968279\n",
      "Iteration 483, loss = 0.39946101\n",
      "Iteration 484, loss = 0.39941787\n",
      "Iteration 485, loss = 0.39884951\n",
      "Iteration 486, loss = 0.39904912\n",
      "Iteration 487, loss = 0.39883718\n",
      "Iteration 488, loss = 0.39872097\n",
      "Iteration 489, loss = 0.39857881\n",
      "Iteration 490, loss = 0.39832019\n",
      "Iteration 491, loss = 0.39807024\n",
      "Iteration 492, loss = 0.39789394\n",
      "Iteration 493, loss = 0.39779524\n",
      "Iteration 494, loss = 0.39757319\n",
      "Iteration 495, loss = 0.39745773\n",
      "Iteration 496, loss = 0.39733501\n",
      "Iteration 497, loss = 0.39699910\n",
      "Iteration 498, loss = 0.39720399\n",
      "Iteration 499, loss = 0.39730082\n",
      "Iteration 500, loss = 0.39733095\n",
      "Iteration 501, loss = 0.39717087\n",
      "Iteration 502, loss = 0.39679233\n",
      "Iteration 503, loss = 0.39660228\n",
      "Iteration 504, loss = 0.39634079\n",
      "Iteration 505, loss = 0.39607905\n",
      "Iteration 506, loss = 0.39592280\n",
      "Iteration 507, loss = 0.39594442\n",
      "Iteration 508, loss = 0.39588032\n",
      "Iteration 509, loss = 0.39552383\n",
      "Iteration 510, loss = 0.39553794\n",
      "Iteration 511, loss = 0.39535847\n",
      "Iteration 512, loss = 0.39515417\n",
      "Iteration 513, loss = 0.39497295\n",
      "Iteration 514, loss = 0.39485218\n",
      "Iteration 515, loss = 0.39476218\n",
      "Iteration 516, loss = 0.39488941\n",
      "Iteration 517, loss = 0.39430359\n",
      "Iteration 518, loss = 0.39430602\n",
      "Iteration 519, loss = 0.39426416\n",
      "Iteration 520, loss = 0.39411016\n",
      "Iteration 521, loss = 0.39390850\n",
      "Iteration 522, loss = 0.39374345\n",
      "Iteration 523, loss = 0.39358060\n",
      "Iteration 524, loss = 0.39360633\n",
      "Iteration 525, loss = 0.39369140\n",
      "Iteration 526, loss = 0.39349559\n",
      "Iteration 527, loss = 0.39329986\n",
      "Iteration 528, loss = 0.39297085\n",
      "Iteration 529, loss = 0.39303846\n",
      "Iteration 530, loss = 0.39300940\n",
      "Iteration 531, loss = 0.39345191\n",
      "Iteration 532, loss = 0.39373402\n",
      "Iteration 533, loss = 0.39359536\n",
      "Iteration 534, loss = 0.39321230\n",
      "Iteration 535, loss = 0.39235448\n",
      "Iteration 536, loss = 0.39164302\n",
      "Iteration 537, loss = 0.39161786\n",
      "Iteration 538, loss = 0.39144584\n",
      "Iteration 539, loss = 0.39121658\n",
      "Iteration 540, loss = 0.39123658\n",
      "Iteration 541, loss = 0.39114448\n",
      "Iteration 542, loss = 0.39097479\n",
      "Iteration 543, loss = 0.39082427\n",
      "Iteration 544, loss = 0.39069806\n",
      "Iteration 545, loss = 0.39047017\n",
      "Iteration 546, loss = 0.39038589\n",
      "Iteration 547, loss = 0.39015463\n",
      "Iteration 548, loss = 0.39066982\n",
      "Iteration 549, loss = 0.39146693\n",
      "Iteration 550, loss = 0.39119645\n",
      "Iteration 551, loss = 0.39073230\n",
      "Iteration 552, loss = 0.39009567\n",
      "Iteration 553, loss = 0.38952402\n",
      "Iteration 554, loss = 0.38920763\n",
      "Iteration 555, loss = 0.38914221\n",
      "Iteration 556, loss = 0.38909984\n",
      "Iteration 557, loss = 0.38901622\n",
      "Iteration 558, loss = 0.38896557\n",
      "Iteration 559, loss = 0.38878671\n",
      "Iteration 560, loss = 0.38856342\n",
      "Iteration 561, loss = 0.38866608\n",
      "Iteration 562, loss = 0.38853545\n",
      "Iteration 563, loss = 0.38837553\n",
      "Iteration 564, loss = 0.38818057\n",
      "Iteration 565, loss = 0.38812918\n",
      "Iteration 566, loss = 0.38800577\n",
      "Iteration 567, loss = 0.38797462\n",
      "Iteration 568, loss = 0.38773983\n",
      "Iteration 569, loss = 0.38775131\n",
      "Iteration 570, loss = 0.38787634\n",
      "Iteration 571, loss = 0.38765283\n",
      "Iteration 572, loss = 0.38732791\n",
      "Iteration 573, loss = 0.38711138\n",
      "Iteration 574, loss = 0.38709934\n",
      "Iteration 575, loss = 0.38684723\n",
      "Iteration 576, loss = 0.38671677\n",
      "Iteration 577, loss = 0.38658590\n",
      "Iteration 578, loss = 0.38665356\n",
      "Iteration 579, loss = 0.38652820\n",
      "Iteration 580, loss = 0.38631407\n",
      "Iteration 581, loss = 0.38628598\n",
      "Iteration 582, loss = 0.38619554\n",
      "Iteration 583, loss = 0.38614029\n",
      "Iteration 584, loss = 0.38614361\n",
      "Iteration 585, loss = 0.38589399\n",
      "Iteration 586, loss = 0.38573112\n",
      "Iteration 587, loss = 0.38580443\n",
      "Iteration 588, loss = 0.38568489\n",
      "Iteration 589, loss = 0.38581640\n",
      "Iteration 590, loss = 0.38583969\n",
      "Iteration 591, loss = 0.38551717\n",
      "Iteration 592, loss = 0.38502768\n",
      "Iteration 593, loss = 0.38488735\n",
      "Iteration 594, loss = 0.38477736\n",
      "Iteration 595, loss = 0.38466700\n",
      "Iteration 596, loss = 0.38469883\n",
      "Iteration 597, loss = 0.38447004\n",
      "Iteration 598, loss = 0.38425341\n",
      "Iteration 599, loss = 0.38410815\n",
      "Iteration 600, loss = 0.38396729\n",
      "Iteration 601, loss = 0.38381286\n",
      "Iteration 602, loss = 0.38374424\n",
      "Iteration 603, loss = 0.38377753\n",
      "Iteration 604, loss = 0.38359620\n",
      "Iteration 605, loss = 0.38332911\n",
      "Iteration 606, loss = 0.38328937\n",
      "Iteration 607, loss = 0.38323003\n",
      "Iteration 608, loss = 0.38292518\n",
      "Iteration 609, loss = 0.38235574\n",
      "Iteration 610, loss = 0.38254097\n",
      "Iteration 611, loss = 0.38222325\n",
      "Iteration 612, loss = 0.38207387\n",
      "Iteration 613, loss = 0.38194355\n",
      "Iteration 614, loss = 0.38161766\n",
      "Iteration 615, loss = 0.38120733\n",
      "Iteration 616, loss = 0.38135501\n",
      "Iteration 617, loss = 0.38166987\n",
      "Iteration 618, loss = 0.38167232\n",
      "Iteration 619, loss = 0.38137906\n",
      "Iteration 620, loss = 0.38079974\n",
      "Iteration 621, loss = 0.38040933\n",
      "Iteration 622, loss = 0.38016028\n",
      "Iteration 623, loss = 0.38016953\n",
      "Iteration 624, loss = 0.37970864\n",
      "Iteration 625, loss = 0.37935460\n",
      "Iteration 626, loss = 0.37899156\n",
      "Iteration 627, loss = 0.37864008\n",
      "Iteration 628, loss = 0.37840610\n",
      "Iteration 629, loss = 0.37808636\n",
      "Iteration 630, loss = 0.37789814\n",
      "Iteration 631, loss = 0.37762405\n",
      "Iteration 632, loss = 0.37751322\n",
      "Iteration 633, loss = 0.37702865\n",
      "Iteration 634, loss = 0.37675926\n",
      "Iteration 635, loss = 0.37683061\n",
      "Iteration 636, loss = 0.37665382\n",
      "Iteration 637, loss = 0.37635492\n",
      "Iteration 638, loss = 0.37601299\n",
      "Iteration 639, loss = 0.37554908\n",
      "Iteration 640, loss = 0.37536743\n",
      "Iteration 641, loss = 0.37528137\n",
      "Iteration 642, loss = 0.37502721\n",
      "Iteration 643, loss = 0.37477493\n",
      "Iteration 644, loss = 0.37461754\n",
      "Iteration 645, loss = 0.37451086\n",
      "Iteration 646, loss = 0.37438094\n",
      "Iteration 647, loss = 0.37407316\n",
      "Iteration 648, loss = 0.37374441\n",
      "Iteration 649, loss = 0.37333286\n",
      "Iteration 650, loss = 0.37305177\n",
      "Iteration 651, loss = 0.37286132\n",
      "Iteration 652, loss = 0.37270901\n",
      "Iteration 653, loss = 0.37228122\n",
      "Iteration 654, loss = 0.37215770\n",
      "Iteration 655, loss = 0.37206705\n",
      "Iteration 656, loss = 0.37211625\n",
      "Iteration 657, loss = 0.37240432\n",
      "Iteration 658, loss = 0.37242554\n",
      "Iteration 659, loss = 0.37193491\n",
      "Iteration 660, loss = 0.37122175\n",
      "Iteration 661, loss = 0.37050627\n",
      "Iteration 662, loss = 0.37032906\n",
      "Iteration 663, loss = 0.37004092\n",
      "Iteration 664, loss = 0.36978326\n",
      "Iteration 665, loss = 0.36952175\n",
      "Iteration 666, loss = 0.36921150\n",
      "Iteration 667, loss = 0.36922382\n",
      "Iteration 668, loss = 0.36877553\n",
      "Iteration 669, loss = 0.36854784\n",
      "Iteration 670, loss = 0.36828116\n",
      "Iteration 671, loss = 0.36809220\n",
      "Iteration 672, loss = 0.36787439\n",
      "Iteration 673, loss = 0.36750755\n",
      "Iteration 674, loss = 0.36729964\n",
      "Iteration 675, loss = 0.36707546\n",
      "Iteration 676, loss = 0.36695418\n",
      "Iteration 677, loss = 0.36677121\n",
      "Iteration 678, loss = 0.36655485\n",
      "Iteration 679, loss = 0.36635294\n",
      "Iteration 680, loss = 0.36592992\n",
      "Iteration 681, loss = 0.36575757\n",
      "Iteration 682, loss = 0.36571012\n",
      "Iteration 683, loss = 0.36550368\n",
      "Iteration 684, loss = 0.36526002\n",
      "Iteration 685, loss = 0.36519839\n",
      "Iteration 686, loss = 0.36507781\n",
      "Iteration 687, loss = 0.36558525\n",
      "Iteration 688, loss = 0.36566207\n",
      "Iteration 689, loss = 0.36563260\n",
      "Iteration 690, loss = 0.36509440\n",
      "Iteration 691, loss = 0.36446810\n",
      "Iteration 692, loss = 0.36428827\n",
      "Iteration 693, loss = 0.36419812\n",
      "Iteration 694, loss = 0.36403287\n",
      "Iteration 695, loss = 0.36370817\n",
      "Iteration 696, loss = 0.36361137\n",
      "Iteration 697, loss = 0.36340078\n",
      "Iteration 698, loss = 0.36344277\n",
      "Iteration 699, loss = 0.36318632\n",
      "Iteration 700, loss = 0.36307072\n",
      "Iteration 701, loss = 0.36298232\n",
      "Iteration 702, loss = 0.36313708\n",
      "Iteration 703, loss = 0.36343505\n",
      "Iteration 704, loss = 0.36341863\n",
      "Iteration 705, loss = 0.36301211\n",
      "Iteration 706, loss = 0.36261196\n",
      "Iteration 707, loss = 0.36227636\n",
      "Iteration 708, loss = 0.36216850\n",
      "Iteration 709, loss = 0.36185722\n",
      "Iteration 710, loss = 0.36172571\n",
      "Iteration 711, loss = 0.36189389\n",
      "Iteration 712, loss = 0.36201767\n",
      "Iteration 713, loss = 0.36204724\n",
      "Iteration 714, loss = 0.36167371\n",
      "Iteration 715, loss = 0.36130688\n",
      "Iteration 716, loss = 0.36117423\n",
      "Iteration 717, loss = 0.36100219\n",
      "Iteration 718, loss = 0.36094741\n",
      "Iteration 719, loss = 0.36110941\n",
      "Iteration 720, loss = 0.36077021\n",
      "Iteration 721, loss = 0.36065765\n",
      "Iteration 722, loss = 0.36065293\n",
      "Iteration 723, loss = 0.36021871\n",
      "Iteration 724, loss = 0.36030947\n",
      "Iteration 725, loss = 0.36008206\n",
      "Iteration 726, loss = 0.36000500\n",
      "Iteration 727, loss = 0.35994081\n",
      "Iteration 728, loss = 0.35985131\n",
      "Iteration 729, loss = 0.35977930\n",
      "Iteration 730, loss = 0.35978007\n",
      "Iteration 731, loss = 0.35940476\n",
      "Iteration 732, loss = 0.35928506\n",
      "Iteration 733, loss = 0.35923452\n",
      "Iteration 734, loss = 0.35942332\n",
      "Iteration 735, loss = 0.35916783\n",
      "Iteration 736, loss = 0.35900008\n",
      "Iteration 737, loss = 0.35930642\n",
      "Iteration 738, loss = 0.35911702\n",
      "Iteration 739, loss = 0.35880814\n",
      "Iteration 740, loss = 0.35853672\n",
      "Iteration 741, loss = 0.35844475\n",
      "Iteration 742, loss = 0.35908520\n",
      "Iteration 743, loss = 0.35909341\n",
      "Iteration 744, loss = 0.35887186\n",
      "Iteration 745, loss = 0.35807534\n",
      "Iteration 746, loss = 0.35816819\n",
      "Iteration 747, loss = 0.35903825\n",
      "Iteration 748, loss = 0.35951098\n",
      "Iteration 749, loss = 0.35863075\n",
      "Iteration 750, loss = 0.35793724\n",
      "Iteration 751, loss = 0.35740192\n",
      "Iteration 752, loss = 0.35747919\n",
      "Iteration 753, loss = 0.35772581\n",
      "Iteration 754, loss = 0.35778844\n",
      "Iteration 755, loss = 0.35777336\n",
      "Iteration 756, loss = 0.35749236\n",
      "Iteration 757, loss = 0.35746728\n",
      "Iteration 758, loss = 0.35704614\n",
      "Iteration 759, loss = 0.35701324\n",
      "Iteration 760, loss = 0.35673832\n",
      "Iteration 761, loss = 0.35673088\n",
      "Iteration 762, loss = 0.35662131\n",
      "Iteration 763, loss = 0.35666086\n",
      "Iteration 764, loss = 0.35641917\n",
      "Iteration 765, loss = 0.35633137\n",
      "Iteration 766, loss = 0.35631212\n",
      "Iteration 767, loss = 0.35616022\n",
      "Iteration 768, loss = 0.35629306\n",
      "Iteration 769, loss = 0.35623053\n",
      "Iteration 770, loss = 0.35623764\n",
      "Iteration 771, loss = 0.35626500\n",
      "Iteration 772, loss = 0.35599509\n",
      "Iteration 773, loss = 0.35575509\n",
      "Iteration 774, loss = 0.35533386\n",
      "Iteration 775, loss = 0.35542483\n",
      "Iteration 776, loss = 0.35584224\n",
      "Iteration 777, loss = 0.35544765\n",
      "Iteration 778, loss = 0.35508542\n",
      "Iteration 779, loss = 0.35519515\n",
      "Iteration 780, loss = 0.35472276\n",
      "Iteration 781, loss = 0.35471636\n",
      "Iteration 782, loss = 0.35489622\n",
      "Iteration 783, loss = 0.35546508\n",
      "Iteration 784, loss = 0.35555545\n",
      "Iteration 785, loss = 0.35510188\n",
      "Iteration 786, loss = 0.35447058\n",
      "Iteration 787, loss = 0.35421294\n",
      "Iteration 788, loss = 0.35411758\n",
      "Iteration 789, loss = 0.35413768\n",
      "Iteration 790, loss = 0.35400366\n",
      "Iteration 791, loss = 0.35394861\n",
      "Iteration 792, loss = 0.35395942\n",
      "Iteration 793, loss = 0.35375924\n",
      "Iteration 794, loss = 0.35382099\n",
      "Iteration 795, loss = 0.35394009\n",
      "Iteration 796, loss = 0.35395946\n",
      "Iteration 797, loss = 0.35366822\n",
      "Iteration 798, loss = 0.35362976\n",
      "Iteration 799, loss = 0.35345294\n",
      "Iteration 800, loss = 0.35326542\n"
     ]
    },
    {
     "name": "stderr",
     "output_type": "stream",
     "text": [
      "/home/jean/git/ml/venv/lib/python3.10/site-packages/sklearn/neural_network/_multilayer_perceptron.py:686: ConvergenceWarning: Stochastic Optimizer: Maximum iterations (800) reached and the optimization hasn't converged yet.\n",
      "  warnings.warn(\n"
     ]
    },
    {
     "data": {
      "text/plain": "MLPClassifier(hidden_layer_sizes=(10, 10, 10), max_iter=800, random_state=3,\n              solver='sgd', verbose=True)",
      "text/html": "<style>#sk-container-id-1 {color: black;background-color: white;}#sk-container-id-1 pre{padding: 0;}#sk-container-id-1 div.sk-toggleable {background-color: white;}#sk-container-id-1 label.sk-toggleable__label {cursor: pointer;display: block;width: 100%;margin-bottom: 0;padding: 0.3em;box-sizing: border-box;text-align: center;}#sk-container-id-1 label.sk-toggleable__label-arrow:before {content: \"▸\";float: left;margin-right: 0.25em;color: #696969;}#sk-container-id-1 label.sk-toggleable__label-arrow:hover:before {color: black;}#sk-container-id-1 div.sk-estimator:hover label.sk-toggleable__label-arrow:before {color: black;}#sk-container-id-1 div.sk-toggleable__content {max-height: 0;max-width: 0;overflow: hidden;text-align: left;background-color: #f0f8ff;}#sk-container-id-1 div.sk-toggleable__content pre {margin: 0.2em;color: black;border-radius: 0.25em;background-color: #f0f8ff;}#sk-container-id-1 input.sk-toggleable__control:checked~div.sk-toggleable__content {max-height: 200px;max-width: 100%;overflow: auto;}#sk-container-id-1 input.sk-toggleable__control:checked~label.sk-toggleable__label-arrow:before {content: \"▾\";}#sk-container-id-1 div.sk-estimator input.sk-toggleable__control:checked~label.sk-toggleable__label {background-color: #d4ebff;}#sk-container-id-1 div.sk-label input.sk-toggleable__control:checked~label.sk-toggleable__label {background-color: #d4ebff;}#sk-container-id-1 input.sk-hidden--visually {border: 0;clip: rect(1px 1px 1px 1px);clip: rect(1px, 1px, 1px, 1px);height: 1px;margin: -1px;overflow: hidden;padding: 0;position: absolute;width: 1px;}#sk-container-id-1 div.sk-estimator {font-family: monospace;background-color: #f0f8ff;border: 1px dotted black;border-radius: 0.25em;box-sizing: border-box;margin-bottom: 0.5em;}#sk-container-id-1 div.sk-estimator:hover {background-color: #d4ebff;}#sk-container-id-1 div.sk-parallel-item::after {content: \"\";width: 100%;border-bottom: 1px solid gray;flex-grow: 1;}#sk-container-id-1 div.sk-label:hover label.sk-toggleable__label {background-color: #d4ebff;}#sk-container-id-1 div.sk-serial::before {content: \"\";position: absolute;border-left: 1px solid gray;box-sizing: border-box;top: 0;bottom: 0;left: 50%;z-index: 0;}#sk-container-id-1 div.sk-serial {display: flex;flex-direction: column;align-items: center;background-color: white;padding-right: 0.2em;padding-left: 0.2em;position: relative;}#sk-container-id-1 div.sk-item {position: relative;z-index: 1;}#sk-container-id-1 div.sk-parallel {display: flex;align-items: stretch;justify-content: center;background-color: white;position: relative;}#sk-container-id-1 div.sk-item::before, #sk-container-id-1 div.sk-parallel-item::before {content: \"\";position: absolute;border-left: 1px solid gray;box-sizing: border-box;top: 0;bottom: 0;left: 50%;z-index: -1;}#sk-container-id-1 div.sk-parallel-item {display: flex;flex-direction: column;z-index: 1;position: relative;background-color: white;}#sk-container-id-1 div.sk-parallel-item:first-child::after {align-self: flex-end;width: 50%;}#sk-container-id-1 div.sk-parallel-item:last-child::after {align-self: flex-start;width: 50%;}#sk-container-id-1 div.sk-parallel-item:only-child::after {width: 0;}#sk-container-id-1 div.sk-dashed-wrapped {border: 1px dashed gray;margin: 0 0.4em 0.5em 0.4em;box-sizing: border-box;padding-bottom: 0.4em;background-color: white;}#sk-container-id-1 div.sk-label label {font-family: monospace;font-weight: bold;display: inline-block;line-height: 1.2em;}#sk-container-id-1 div.sk-label-container {text-align: center;}#sk-container-id-1 div.sk-container {/* jupyter's `normalize.less` sets `[hidden] { display: none; }` but bootstrap.min.css set `[hidden] { display: none !important; }` so we also need the `!important` here to be able to override the default hidden behavior on the sphinx rendered scikit-learn.org. See: https://github.com/scikit-learn/scikit-learn/issues/21755 */display: inline-block !important;position: relative;}#sk-container-id-1 div.sk-text-repr-fallback {display: none;}</style><div id=\"sk-container-id-1\" class=\"sk-top-container\"><div class=\"sk-text-repr-fallback\"><pre>MLPClassifier(hidden_layer_sizes=(10, 10, 10), max_iter=800, random_state=3,\n              solver=&#x27;sgd&#x27;, verbose=True)</pre><b>In a Jupyter environment, please rerun this cell to show the HTML representation or trust the notebook. <br />On GitHub, the HTML representation is unable to render, please try loading this page with nbviewer.org.</b></div><div class=\"sk-container\" hidden><div class=\"sk-item\"><div class=\"sk-estimator sk-toggleable\"><input class=\"sk-toggleable__control sk-hidden--visually\" id=\"sk-estimator-id-1\" type=\"checkbox\" checked><label for=\"sk-estimator-id-1\" class=\"sk-toggleable__label sk-toggleable__label-arrow\">MLPClassifier</label><div class=\"sk-toggleable__content\"><pre>MLPClassifier(hidden_layer_sizes=(10, 10, 10), max_iter=800, random_state=3,\n              solver=&#x27;sgd&#x27;, verbose=True)</pre></div></div></div></div></div>"
     },
     "execution_count": 83,
     "metadata": {},
     "output_type": "execute_result"
    }
   ],
   "source": [
    "rna.fit(x_train_oversampled, y_train_oversampled)"
   ],
   "metadata": {
    "collapsed": false,
    "ExecuteTime": {
     "end_time": "2023-06-20T16:33:02.696505443Z",
     "start_time": "2023-06-20T16:32:53.845090458Z"
    }
   }
  },
  {
   "cell_type": "code",
   "execution_count": 86,
   "outputs": [],
   "source": [
    "previsoes = rna.predict(X_test)"
   ],
   "metadata": {
    "collapsed": false,
    "ExecuteTime": {
     "end_time": "2023-06-20T16:33:45.638322851Z",
     "start_time": "2023-06-20T16:33:45.579438070Z"
    }
   }
  },
  {
   "cell_type": "code",
   "execution_count": 87,
   "outputs": [
    {
     "data": {
      "text/plain": "array([0, 0, 0, 0, 1, 1, 0, 0, 0, 1, 1, 0, 1, 1, 0, 0, 0, 0, 0, 0, 0, 0,\n       0, 0, 0, 0, 1, 0, 0, 1, 1, 1, 0, 0, 0, 0, 0, 0, 0, 0, 0, 0, 0, 0,\n       0, 0, 0, 0, 0, 0, 0, 1, 1, 0, 0, 0, 0, 0, 0, 1, 1, 0, 1, 0, 1, 0,\n       0, 1, 1, 1, 0, 0, 0, 0, 0, 0, 1, 0, 1, 0, 1, 0, 0, 1, 1, 0, 0, 1,\n       0, 0, 0, 0, 1, 1, 0, 1, 1, 0, 0, 0, 1, 1, 0, 0, 0, 0, 0, 1, 0, 0,\n       0, 0, 1, 1, 0, 0, 0, 1, 1, 0, 1, 0, 0, 0, 0, 0, 1, 0, 0, 1, 0, 0,\n       1, 1, 0, 1, 1, 0, 1, 0, 1, 0, 1, 0, 0, 0, 0, 0, 0, 0, 0, 1, 1, 1,\n       0, 1, 0, 0, 0, 0, 1, 0, 1, 1, 0, 0, 0, 0, 0, 0, 0, 0, 0, 1, 1, 1,\n       0, 0, 1, 1, 0, 1, 0, 0, 0, 0, 1, 0, 0, 0, 1, 0, 1, 0, 1, 0, 1, 0,\n       1, 1, 0, 1, 0, 0, 0, 0, 0, 0, 0, 0, 0, 1, 1, 0, 1, 0, 0, 0, 0, 0,\n       1, 0, 1, 0, 1, 1, 1, 0, 1, 0, 1, 0, 0, 0, 1, 0, 0, 1, 0, 0, 0, 0,\n       1, 0, 1, 1, 0, 0, 0, 0, 0, 1, 0, 0, 0, 1, 1, 0, 0, 0, 1, 0, 1, 0,\n       1, 0, 0, 0])"
     },
     "execution_count": 87,
     "metadata": {},
     "output_type": "execute_result"
    }
   ],
   "source": [
    "previsoes\n"
   ],
   "metadata": {
    "collapsed": false,
    "ExecuteTime": {
     "end_time": "2023-06-20T16:33:52.577978025Z",
     "start_time": "2023-06-20T16:33:52.570579502Z"
    }
   }
  },
  {
   "cell_type": "code",
   "execution_count": 90,
   "outputs": [
    {
     "name": "stdout",
     "output_type": "stream",
     "text": [
      "Acurácia: 76.87%\n"
     ]
    }
   ],
   "source": [
    "print(\"Acurácia: %.2f%%\" % (accuracy_score(y_test, previsoes) * 100.0))"
   ],
   "metadata": {
    "collapsed": false,
    "ExecuteTime": {
     "end_time": "2023-06-20T16:34:22.027568561Z",
     "start_time": "2023-06-20T16:34:22.022406224Z"
    }
   }
  },
  {
   "cell_type": "code",
   "execution_count": 92,
   "outputs": [
    {
     "data": {
      "text/plain": "array([[137,  19],\n       [ 43,  69]])"
     },
     "execution_count": 92,
     "metadata": {},
     "output_type": "execute_result"
    }
   ],
   "source": [
    "confusion_matrix(y_test, previsoes)"
   ],
   "metadata": {
    "collapsed": false,
    "ExecuteTime": {
     "end_time": "2023-06-20T16:34:34.610254157Z",
     "start_time": "2023-06-20T16:34:34.604100014Z"
    }
   }
  },
  {
   "cell_type": "code",
   "execution_count": 94,
   "outputs": [
    {
     "name": "stdout",
     "output_type": "stream",
     "text": [
      "              precision    recall  f1-score   support\n",
      "\n",
      "           0       0.76      0.88      0.82       156\n",
      "           1       0.78      0.62      0.69       112\n",
      "\n",
      "    accuracy                           0.77       268\n",
      "   macro avg       0.77      0.75      0.75       268\n",
      "weighted avg       0.77      0.77      0.76       268\n",
      "\n"
     ]
    }
   ],
   "source": [
    "print(classification_report(y_test, previsoes))"
   ],
   "metadata": {
    "collapsed": false,
    "ExecuteTime": {
     "end_time": "2023-06-20T16:34:47.072208148Z",
     "start_time": "2023-06-20T16:34:47.002678242Z"
    }
   }
  },
  {
   "cell_type": "code",
   "execution_count": 102,
   "outputs": [
    {
     "data": {
      "text/plain": "array([0, 0, 0, 0, 1, 1, 0, 0, 0, 1, 1, 0, 1, 1, 0, 0, 0, 0, 0, 0, 0, 0,\n       0, 0, 0, 0, 1, 0, 0, 1, 1, 1, 0, 0, 0, 0, 0, 0, 0, 0, 0, 0, 0, 0,\n       0, 0, 0, 0, 0, 0, 0, 1, 1, 0, 0, 0, 0, 0, 0, 1, 1, 0, 1, 0, 1, 0,\n       0, 1, 1, 1, 0, 0, 0, 0, 0, 0, 1, 0, 1, 0, 1, 0, 0, 1, 1, 0, 0, 1,\n       0, 0, 0, 0, 1, 1, 0, 1, 1, 0, 0, 0, 1, 1, 0, 0, 0, 0, 0, 1, 0, 0,\n       0, 0, 1, 1, 0, 0, 0, 1, 1, 0, 1, 0, 0, 0, 0, 0, 1, 0, 0, 1, 0, 0,\n       1, 1, 0, 1, 1, 0, 1, 0, 1, 0, 1, 0, 0, 0, 0, 0, 0, 0, 0, 1, 1, 1,\n       0, 1, 0, 0, 0, 0, 1, 0, 1, 1, 0, 0, 0, 0, 0, 0, 0, 0, 0, 1, 1, 1,\n       0, 0, 1, 1, 0, 1, 0, 0, 0, 0, 1, 0, 0, 0, 1, 0, 1, 0, 1, 0, 1, 0,\n       1, 1, 0, 1, 0, 0, 0, 0, 0, 0, 0, 0, 0, 1, 1, 0, 1, 0, 0, 0, 0, 0,\n       1, 0, 1, 0, 1, 1, 1, 0, 1, 0, 1, 0, 0, 0, 1, 0, 0, 1, 0, 0, 0, 0,\n       1, 0, 1, 1, 0, 0, 0, 0, 0, 1, 0, 0, 0, 1, 1, 0, 0, 0, 1, 0, 1, 0,\n       1, 0, 0, 0])"
     },
     "execution_count": 102,
     "metadata": {},
     "output_type": "execute_result"
    }
   ],
   "source": [
    "previsoes_treino = rna.predict(X_test)\n",
    "previsoes_treino"
   ],
   "metadata": {
    "collapsed": false,
    "ExecuteTime": {
     "end_time": "2023-06-20T16:37:17.157715643Z",
     "start_time": "2023-06-20T16:37:17.095582004Z"
    }
   }
  },
  {
   "cell_type": "code",
   "execution_count": 104,
   "outputs": [
    {
     "ename": "ValueError",
     "evalue": "Found input variables with inconsistent numbers of samples: [623, 268]",
     "output_type": "error",
     "traceback": [
      "\u001B[0;31m---------------------------------------------------------------------------\u001B[0m",
      "\u001B[0;31mValueError\u001B[0m                                Traceback (most recent call last)",
      "Cell \u001B[0;32mIn[104], line 1\u001B[0m\n\u001B[0;32m----> 1\u001B[0m \u001B[43maccuracy_score\u001B[49m\u001B[43m(\u001B[49m\u001B[43my_train_oversampled\u001B[49m\u001B[43m,\u001B[49m\u001B[43mprevisoes_treino\u001B[49m\u001B[43m)\u001B[49m\n",
      "File \u001B[0;32m~/git/ml/venv/lib/python3.10/site-packages/sklearn/utils/_param_validation.py:192\u001B[0m, in \u001B[0;36mvalidate_params.<locals>.decorator.<locals>.wrapper\u001B[0;34m(*args, **kwargs)\u001B[0m\n\u001B[1;32m    187\u001B[0m validate_parameter_constraints(\n\u001B[1;32m    188\u001B[0m     parameter_constraints, params, caller_name\u001B[38;5;241m=\u001B[39mfunc\u001B[38;5;241m.\u001B[39m\u001B[38;5;18m__qualname__\u001B[39m\n\u001B[1;32m    189\u001B[0m )\n\u001B[1;32m    191\u001B[0m \u001B[38;5;28;01mtry\u001B[39;00m:\n\u001B[0;32m--> 192\u001B[0m     \u001B[38;5;28;01mreturn\u001B[39;00m \u001B[43mfunc\u001B[49m\u001B[43m(\u001B[49m\u001B[38;5;241;43m*\u001B[39;49m\u001B[43margs\u001B[49m\u001B[43m,\u001B[49m\u001B[43m \u001B[49m\u001B[38;5;241;43m*\u001B[39;49m\u001B[38;5;241;43m*\u001B[39;49m\u001B[43mkwargs\u001B[49m\u001B[43m)\u001B[49m\n\u001B[1;32m    193\u001B[0m \u001B[38;5;28;01mexcept\u001B[39;00m InvalidParameterError \u001B[38;5;28;01mas\u001B[39;00m e:\n\u001B[1;32m    194\u001B[0m     \u001B[38;5;66;03m# When the function is just a wrapper around an estimator, we allow\u001B[39;00m\n\u001B[1;32m    195\u001B[0m     \u001B[38;5;66;03m# the function to delegate validation to the estimator, but we replace\u001B[39;00m\n\u001B[1;32m    196\u001B[0m     \u001B[38;5;66;03m# the name of the estimator by the name of the function in the error\u001B[39;00m\n\u001B[1;32m    197\u001B[0m     \u001B[38;5;66;03m# message to avoid confusion.\u001B[39;00m\n\u001B[1;32m    198\u001B[0m     msg \u001B[38;5;241m=\u001B[39m re\u001B[38;5;241m.\u001B[39msub(\n\u001B[1;32m    199\u001B[0m         \u001B[38;5;124mr\u001B[39m\u001B[38;5;124m\"\u001B[39m\u001B[38;5;124mparameter of \u001B[39m\u001B[38;5;124m\\\u001B[39m\u001B[38;5;124mw+ must be\u001B[39m\u001B[38;5;124m\"\u001B[39m,\n\u001B[1;32m    200\u001B[0m         \u001B[38;5;124mf\u001B[39m\u001B[38;5;124m\"\u001B[39m\u001B[38;5;124mparameter of \u001B[39m\u001B[38;5;132;01m{\u001B[39;00mfunc\u001B[38;5;241m.\u001B[39m\u001B[38;5;18m__qualname__\u001B[39m\u001B[38;5;132;01m}\u001B[39;00m\u001B[38;5;124m must be\u001B[39m\u001B[38;5;124m\"\u001B[39m,\n\u001B[1;32m    201\u001B[0m         \u001B[38;5;28mstr\u001B[39m(e),\n\u001B[1;32m    202\u001B[0m     )\n",
      "File \u001B[0;32m~/git/ml/venv/lib/python3.10/site-packages/sklearn/metrics/_classification.py:221\u001B[0m, in \u001B[0;36maccuracy_score\u001B[0;34m(y_true, y_pred, normalize, sample_weight)\u001B[0m\n\u001B[1;32m    155\u001B[0m \u001B[38;5;250m\u001B[39m\u001B[38;5;124;03m\"\"\"Accuracy classification score.\u001B[39;00m\n\u001B[1;32m    156\u001B[0m \n\u001B[1;32m    157\u001B[0m \u001B[38;5;124;03mIn multilabel classification, this function computes subset accuracy:\u001B[39;00m\n\u001B[0;32m   (...)\u001B[0m\n\u001B[1;32m    217\u001B[0m \u001B[38;5;124;03m0.5\u001B[39;00m\n\u001B[1;32m    218\u001B[0m \u001B[38;5;124;03m\"\"\"\u001B[39;00m\n\u001B[1;32m    220\u001B[0m \u001B[38;5;66;03m# Compute accuracy for each possible representation\u001B[39;00m\n\u001B[0;32m--> 221\u001B[0m y_type, y_true, y_pred \u001B[38;5;241m=\u001B[39m \u001B[43m_check_targets\u001B[49m\u001B[43m(\u001B[49m\u001B[43my_true\u001B[49m\u001B[43m,\u001B[49m\u001B[43m \u001B[49m\u001B[43my_pred\u001B[49m\u001B[43m)\u001B[49m\n\u001B[1;32m    222\u001B[0m check_consistent_length(y_true, y_pred, sample_weight)\n\u001B[1;32m    223\u001B[0m \u001B[38;5;28;01mif\u001B[39;00m y_type\u001B[38;5;241m.\u001B[39mstartswith(\u001B[38;5;124m\"\u001B[39m\u001B[38;5;124mmultilabel\u001B[39m\u001B[38;5;124m\"\u001B[39m):\n",
      "File \u001B[0;32m~/git/ml/venv/lib/python3.10/site-packages/sklearn/metrics/_classification.py:86\u001B[0m, in \u001B[0;36m_check_targets\u001B[0;34m(y_true, y_pred)\u001B[0m\n\u001B[1;32m     59\u001B[0m \u001B[38;5;28;01mdef\u001B[39;00m \u001B[38;5;21m_check_targets\u001B[39m(y_true, y_pred):\n\u001B[1;32m     60\u001B[0m \u001B[38;5;250m    \u001B[39m\u001B[38;5;124;03m\"\"\"Check that y_true and y_pred belong to the same classification task.\u001B[39;00m\n\u001B[1;32m     61\u001B[0m \n\u001B[1;32m     62\u001B[0m \u001B[38;5;124;03m    This converts multiclass or binary types to a common shape, and raises a\u001B[39;00m\n\u001B[0;32m   (...)\u001B[0m\n\u001B[1;32m     84\u001B[0m \u001B[38;5;124;03m    y_pred : array or indicator matrix\u001B[39;00m\n\u001B[1;32m     85\u001B[0m \u001B[38;5;124;03m    \"\"\"\u001B[39;00m\n\u001B[0;32m---> 86\u001B[0m     \u001B[43mcheck_consistent_length\u001B[49m\u001B[43m(\u001B[49m\u001B[43my_true\u001B[49m\u001B[43m,\u001B[49m\u001B[43m \u001B[49m\u001B[43my_pred\u001B[49m\u001B[43m)\u001B[49m\n\u001B[1;32m     87\u001B[0m     type_true \u001B[38;5;241m=\u001B[39m type_of_target(y_true, input_name\u001B[38;5;241m=\u001B[39m\u001B[38;5;124m\"\u001B[39m\u001B[38;5;124my_true\u001B[39m\u001B[38;5;124m\"\u001B[39m)\n\u001B[1;32m     88\u001B[0m     type_pred \u001B[38;5;241m=\u001B[39m type_of_target(y_pred, input_name\u001B[38;5;241m=\u001B[39m\u001B[38;5;124m\"\u001B[39m\u001B[38;5;124my_pred\u001B[39m\u001B[38;5;124m\"\u001B[39m)\n",
      "File \u001B[0;32m~/git/ml/venv/lib/python3.10/site-packages/sklearn/utils/validation.py:397\u001B[0m, in \u001B[0;36mcheck_consistent_length\u001B[0;34m(*arrays)\u001B[0m\n\u001B[1;32m    395\u001B[0m uniques \u001B[38;5;241m=\u001B[39m np\u001B[38;5;241m.\u001B[39munique(lengths)\n\u001B[1;32m    396\u001B[0m \u001B[38;5;28;01mif\u001B[39;00m \u001B[38;5;28mlen\u001B[39m(uniques) \u001B[38;5;241m>\u001B[39m \u001B[38;5;241m1\u001B[39m:\n\u001B[0;32m--> 397\u001B[0m     \u001B[38;5;28;01mraise\u001B[39;00m \u001B[38;5;167;01mValueError\u001B[39;00m(\n\u001B[1;32m    398\u001B[0m         \u001B[38;5;124m\"\u001B[39m\u001B[38;5;124mFound input variables with inconsistent numbers of samples: \u001B[39m\u001B[38;5;132;01m%r\u001B[39;00m\u001B[38;5;124m\"\u001B[39m\n\u001B[1;32m    399\u001B[0m         \u001B[38;5;241m%\u001B[39m [\u001B[38;5;28mint\u001B[39m(l) \u001B[38;5;28;01mfor\u001B[39;00m l \u001B[38;5;129;01min\u001B[39;00m lengths]\n\u001B[1;32m    400\u001B[0m     )\n",
      "\u001B[0;31mValueError\u001B[0m: Found input variables with inconsistent numbers of samples: [623, 268]"
     ]
    }
   ],
   "source": [
    "accuracy_score(y_train_oversampled,previsoes_treino)"
   ],
   "metadata": {
    "collapsed": false,
    "ExecuteTime": {
     "end_time": "2023-06-20T16:38:12.415754560Z",
     "start_time": "2023-06-20T16:38:12.335235744Z"
    }
   }
  }
 ],
 "metadata": {
  "colab": {
   "provenance": []
  },
  "kernelspec": {
   "name": "python3",
   "language": "python",
   "display_name": "Python 3 (ipykernel)"
  },
  "language_info": {
   "codemirror_mode": {
    "name": "ipython",
    "version": 3
   },
   "file_extension": ".py",
   "mimetype": "text/x-python",
   "name": "python",
   "nbconvert_exporter": "python",
   "pygments_lexer": "ipython3",
   "version": "3.10.4"
  },
  "papermill": {
   "default_parameters": {},
   "duration": 75.527883,
   "end_time": "2021-02-15T11:44:10.398430",
   "environment_variables": {},
   "exception": null,
   "input_path": "__notebook__.ipynb",
   "output_path": "__notebook__.ipynb",
   "parameters": {},
   "start_time": "2021-02-15T11:42:54.870547",
   "version": "2.2.2"
  }
 },
 "nbformat": 4,
 "nbformat_minor": 0
}
