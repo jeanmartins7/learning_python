{
 "cells": [
  {
   "cell_type": "code",
   "execution_count": 1,
   "metadata": {
    "id": "veUoqI_btyzI",
    "ExecuteTime": {
     "end_time": "2023-06-19T19:06:27.006189232Z",
     "start_time": "2023-06-19T19:06:26.963644998Z"
    }
   },
   "outputs": [],
   "source": [
    "### ------------------------------------------------------------------------\n",
    "### Trabalho Final  Inteligência Artificial\n",
    "### Adriano G e Jean M.\n",
    "### -------------------------------------------------------------------------"
   ]
  },
  {
   "cell_type": "code",
   "execution_count": 2,
   "outputs": [
    {
     "ename": "ModuleNotFoundError",
     "evalue": "No module named 'h1'",
     "output_type": "error",
     "traceback": [
      "\u001B[0;31m---------------------------------------------------------------------------\u001B[0m",
      "\u001B[0;31mModuleNotFoundError\u001B[0m                       Traceback (most recent call last)",
      "Cell \u001B[0;32mIn[2], line 1\u001B[0m\n\u001B[0;32m----> 1\u001B[0m \u001B[38;5;28;01mimport\u001B[39;00m \u001B[38;5;21;01mh1\u001B[39;00m \u001B[38;5;28;01mas\u001B[39;00m \u001B[38;5;21;01mh1\u001B[39;00m\n\u001B[1;32m      2\u001B[0m \u001B[38;5;28;01mimport\u001B[39;00m \u001B[38;5;21;01mnumpy\u001B[39;00m \u001B[38;5;28;01mas\u001B[39;00m \u001B[38;5;21;01mnp\u001B[39;00m\n\u001B[1;32m      3\u001B[0m \u001B[38;5;28;01mimport\u001B[39;00m \u001B[38;5;21;01mpandas\u001B[39;00m \u001B[38;5;28;01mas\u001B[39;00m \u001B[38;5;21;01mpd\u001B[39;00m\n",
      "\u001B[0;31mModuleNotFoundError\u001B[0m: No module named 'h1'"
     ]
    }
   ],
   "source": [
    "import h1 as h1\n",
    "import numpy as np\n",
    "import pandas as pd\n",
    "import matplotlib.pyplot as plt\n",
    "import seaborn as sns\n",
    "import statistics  as sts\n",
    "from sklearn.model_selection import train_test_split\n",
    "from sklearn.preprocessing import StandardScaler\n",
    "from sklearn.model_selection import cross_val_score\n",
    "from sklearn.svm import SVC\n",
    "from sklearn.ensemble import RandomForestClassifier\n",
    "from sklearn.metrics import accuracy_score\n",
    "from sklearn.metrics import confusion_matrix\n",
    "from sklearn.metrics import classification_report\n",
    "\n",
    "from sklearn.neighbors import KNeighborsClassifier\n",
    "from sklearn.model_selection import train_test_split\n",
    "from sklearn import metrics"
   ],
   "metadata": {
    "collapsed": false,
    "ExecuteTime": {
     "end_time": "2023-06-19T19:06:27.212405460Z",
     "start_time": "2023-06-19T19:06:27.007014892Z"
    }
   }
  },
  {
   "cell_type": "markdown",
   "source": [],
   "metadata": {
    "collapsed": false
   }
  },
  {
   "cell_type": "markdown",
   "source": [],
   "metadata": {
    "collapsed": false
   }
  },
  {
   "cell_type": "code",
   "execution_count": null,
   "metadata": {
    "colab": {
     "base_uri": "https://localhost:8080/",
     "height": 423
    },
    "id": "lh7ZNrdatyzI",
    "outputId": "be3941cc-0cf1-4c1f-ee26-7dd28df38683"
   },
   "outputs": [],
   "source": [
    "df=pd.read_csv('Titanic-Dataset.csv')\n",
    "df"
   ]
  },
  {
   "cell_type": "code",
   "execution_count": null,
   "metadata": {
    "colab": {
     "base_uri": "https://localhost:8080/"
    },
    "id": "MuDz6McLtyzJ",
    "outputId": "29c5b617-16bf-4e37-8091-d011b3fc5409"
   },
   "outputs": [],
   "source": [
    "df.info()"
   ]
  },
  {
   "cell_type": "code",
   "execution_count": null,
   "metadata": {
    "colab": {
     "base_uri": "https://localhost:8080/",
     "height": 300
    },
    "id": "DpoJkgpQtyzK",
    "outputId": "f0b9b12f-c857-470b-8db9-92d484a162bd"
   },
   "outputs": [],
   "source": [
    "df.describe()"
   ]
  },
  {
   "cell_type": "markdown",
   "metadata": {
    "id": "WC00H8hItyzK"
   },
   "source": [
    "## Resumo geral da base de dados"
   ]
  },
  {
   "cell_type": "code",
   "execution_count": null,
   "metadata": {
    "colab": {
     "base_uri": "https://localhost:8080/"
    },
    "id": "ZDzfcA6PtyzL",
    "outputId": "8737c87c-f1f8-406a-fca8-bef3bda7f5a8"
   },
   "outputs": [],
   "source": [
    "print (\"Linhas: \" , df.shape[0])\n",
    "print (\"Colunas: \" , df.shape[1])\n",
    "print (\"\\nAtributos : \\n\" , df.columns.tolist())\n",
    "print (\"\\nValores faltantes :  \", df.isnull().sum().values.sum())\n",
    "print (\"\\nValores únicos :  \\n\",df.nunique())"
   ]
  },
  {
   "cell_type": "markdown",
   "metadata": {
    "id": "QY3yTsWptyzL"
   },
   "source": [
    "## Pré-processamento"
   ]
  },
  {
   "cell_type": "markdown",
   "metadata": {
    "id": "_vkNCzAatyzL"
   },
   "source": [
    "### Remoção ID feature e verificação de dados faltantes"
   ]
  },
  {
   "cell_type": "code",
   "execution_count": null,
   "metadata": {
    "colab": {
     "base_uri": "https://localhost:8080/"
    },
    "id": "uNtgVs6etyzL",
    "outputId": "475773d1-7aa7-4265-b508-ff6b29eb6c92"
   },
   "outputs": [],
   "source": [
    "# Verifica a quantidade de dados faltrantes\n",
    "df.isna().sum()\n"
   ]
  },
  {
   "cell_type": "code",
   "execution_count": null,
   "metadata": {
    "id": "4AvVbnAutyzM"
   },
   "outputs": [],
   "source": [
    "### Substituição NAs Age pela mediana\n",
    "mediana = df['Age'].median()\n",
    "#preenche NAs\n",
    "df['Age'].fillna(mediana, inplace=True)"
   ]
  },
  {
   "cell_type": "code",
   "execution_count": null,
   "metadata": {
    "colab": {
     "base_uri": "https://localhost:8080/"
    },
    "id": "vAGSNisHtyzM",
    "outputId": "ef4b3c69-3242-4d69-ce60-e8ebbd8e1f32"
   },
   "outputs": [],
   "source": [
    "df.isna().sum()"
   ]
  },
  {
   "cell_type": "code",
   "execution_count": null,
   "outputs": [],
   "source": [
    "df['Embarked'].fillna('S', inplace=True)"
   ],
   "metadata": {
    "collapsed": false
   }
  },
  {
   "cell_type": "markdown",
   "source": [
    "### Carregar dados para previsao da Cabine com um treino de random forest"
   ],
   "metadata": {
    "collapsed": false
   }
  },
  {
   "cell_type": "code",
   "execution_count": null,
   "outputs": [],
   "source": [
    "### crio uma nova variavel com as colunas relevantes para previsao\n",
    "df_cabines = df[['Pclass','Sex','Age','Fare','Cabin','Embarked']]\n",
    "df_cabines\n"
   ],
   "metadata": {
    "collapsed": false
   }
  },
  {
   "cell_type": "code",
   "execution_count": null,
   "outputs": [],
   "source": [
    "### separo em cabines conhecidas e cabines desconhecidas\n",
    "df_conhecidas = df_cabines.dropna(subset=['Cabin'])\n",
    "df_desconhecidas = df_cabines[df_cabines['Cabin'].isna()]\n",
    "df_desconhecidas\n"
   ],
   "metadata": {
    "collapsed": false
   }
  },
  {
   "cell_type": "code",
   "execution_count": null,
   "outputs": [],
   "source": [
    "df_conhecidas"
   ],
   "metadata": {
    "collapsed": false
   }
  },
  {
   "cell_type": "code",
   "execution_count": null,
   "outputs": [],
   "source": [
    "### removendo a coluna cabin para separarmos atributos e rotulos\n",
    "### Separar os dados conhecidos em atributos e rótulos\n",
    "atributos_conhecidos = df_conhecidas.drop('Cabin', axis=1)\n",
    "cabines_conhecidas = df_conhecidas['Cabin']\n"
   ],
   "metadata": {
    "collapsed": false
   }
  },
  {
   "cell_type": "code",
   "execution_count": null,
   "outputs": [],
   "source": [
    "### convertendo para Dummy\n",
    "atributos_conhecidos = pd.get_dummies(atributos_conhecidos)\n",
    "cabines_conhecidas = pd.get_dummies(cabines_conhecidas)\n"
   ],
   "metadata": {
    "collapsed": false
   }
  },
  {
   "cell_type": "code",
   "execution_count": null,
   "outputs": [],
   "source": [
    "###treinar com o modelo random forest\n",
    "modelo = RandomForestClassifier()\n",
    "modelo.fit(atributos_conhecidos,cabines_conhecidas)"
   ],
   "metadata": {
    "collapsed": false
   }
  },
  {
   "cell_type": "code",
   "execution_count": null,
   "outputs": [],
   "source": [
    "###prever valores faltantes na coluna cabin\n",
    "atributos_desconhecidos = df_desconhecidas.drop('Cabin',axis=1)\n",
    "atributos_desconhecidos = pd.get_dummies(atributos_desconhecidos)\n",
    "prever_cabine = modelo.predict(atributos_desconhecidos)\n",
    "#prever_cabine = prever_cabine[:, 0]\n",
    "\n",
    "\n",
    "prever_cabine"
   ],
   "metadata": {
    "collapsed": false
   }
  },
  {
   "cell_type": "code",
   "execution_count": null,
   "outputs": [],
   "source": [
    "# Criar DataFrame com as previsões codificadas\n",
    "df_previsoes = pd.DataFrame(prever_cabine, columns=[f'Cabin_{i}' for i in range(len(modelo.classes_))])\n",
    "\n",
    "df_previsoes_revertidas = df_previsoes.idxmax(axis=1)\n",
    "\n",
    "df.loc[df['Cabin'].isna(), 'Cabin'] = df_previsoes_revertidas.values\n",
    "\n",
    "\n",
    "\n"
   ],
   "metadata": {
    "collapsed": false
   }
  },
  {
   "cell_type": "code",
   "execution_count": null,
   "outputs": [],
   "source": [
    "# Verifica a quantidade de dados faltrantes\n",
    "df.isna().sum()"
   ],
   "metadata": {
    "collapsed": false
   }
  },
  {
   "cell_type": "code",
   "execution_count": null,
   "outputs": [],
   "source": [
    "df"
   ],
   "metadata": {
    "collapsed": false
   }
  },
  {
   "cell_type": "markdown",
   "metadata": {
    "id": "aWVquZILtyzM"
   },
   "source": []
  },
  {
   "cell_type": "code",
   "execution_count": null,
   "outputs": [],
   "source": [
    "df=df.drop(columns='PassengerId',axis=1)\n",
    "df=df.drop(columns='Ticket',axis=1)\n",
    "df=df.drop(columns='Name',axis=1)\n",
    "df"
   ],
   "metadata": {
    "collapsed": false
   }
  },
  {
   "cell_type": "markdown",
   "source": [
    "Atributos com mais de 2 valores,\n"
   ],
   "metadata": {
    "collapsed": false
   }
  },
  {
   "cell_type": "code",
   "execution_count": null,
   "outputs": [],
   "source": [
    "df = pd.get_dummies(df)\n",
    "\n"
   ],
   "metadata": {
    "collapsed": false
   }
  },
  {
   "cell_type": "code",
   "execution_count": null,
   "outputs": [],
   "source": [
    "df.columns"
   ],
   "metadata": {
    "collapsed": false
   }
  },
  {
   "cell_type": "code",
   "source": [
    "std=StandardScaler()\n",
    "columns = ['Age','Fare']\n",
    "scaled = std.fit_transform(df[['Age','Fare']])\n",
    "scaled = pd.DataFrame(scaled,columns=columns)\n",
    "df=df.drop(columns=columns,axis=1)"
   ],
   "metadata": {
    "colab": {
     "base_uri": "https://localhost:8080/"
    },
    "id": "eZt5CznzJtq8",
    "outputId": "c630407b-0efa-4716-af18-09bd37684dc8"
   },
   "execution_count": null,
   "outputs": []
  },
  {
   "cell_type": "code",
   "execution_count": null,
   "metadata": {
    "id": "puzwFlBZtyzN"
   },
   "outputs": [],
   "source": [
    "df=df.merge(scaled, left_index=True, right_index=True, how = \"right\")\n",
    "df"
   ]
  },
  {
   "cell_type": "markdown",
   "metadata": {
    "id": "M7IdVmzityzN"
   },
   "source": []
  },
  {
   "cell_type": "code",
   "source": [
    "X = df.drop(['Survived'], axis=1).values\n",
    "y = df['Survived'].values"
   ],
   "metadata": {
    "colab": {
     "base_uri": "https://localhost:8080/"
    },
    "id": "Dj6I4qzWKSI2",
    "outputId": "8401a3ce-83da-4999-ae56-29d4bcff453b"
   },
   "execution_count": null,
   "outputs": []
  },
  {
   "cell_type": "code",
   "source": [
    "X_train, X_test, y_train, y_test = train_test_split(X, y, test_size=0.3)"
   ],
   "metadata": {
    "colab": {
     "base_uri": "https://localhost:8080/"
    },
    "id": "bYwDbAkdvhNs",
    "outputId": "febeb8f6-6c04-4272-f795-8297a8fdba3a"
   },
   "execution_count": null,
   "outputs": []
  },
  {
   "cell_type": "code",
   "execution_count": null,
   "metadata": {
    "id": "tRpYqhmatyzO"
   },
   "outputs": [],
   "source": [
    "#Aplica balanceamento nas classes\n",
    "from imblearn.over_sampling import SMOTE"
   ]
  },
  {
   "cell_type": "code",
   "execution_count": null,
   "metadata": {
    "colab": {
     "base_uri": "https://localhost:8080/"
    },
    "id": "qtLcrtW7tyzO",
    "outputId": "fe15823c-3d15-4b54-c6a8-a7b4bc08c75b"
   },
   "outputs": [],
   "source": [
    "sm = SMOTE()\n",
    "x_train_oversampled, y_train_oversampled = sm.fit_resample(X_train, y_train)"
   ]
  },
  {
   "cell_type": "code",
   "source": [
    "print(x_train_oversampled.shape)\n",
    "print(X_train.shape)"
   ],
   "metadata": {
    "colab": {
     "base_uri": "https://localhost:8080/",
     "height": 505
    },
    "id": "aBa0fD7awS4s",
    "outputId": "799cdf05-702a-40b6-a88c-cc6d21963d19"
   },
   "execution_count": null,
   "outputs": []
  },
  {
   "cell_type": "code",
   "execution_count": null,
   "outputs": [],
   "source": [
    "### KNN Classifier"
   ],
   "metadata": {
    "collapsed": false
   }
  },
  {
   "cell_type": "code",
   "execution_count": null,
   "outputs": [],
   "source": [
    "df.columns"
   ],
   "metadata": {
    "collapsed": false
   }
  },
  {
   "cell_type": "code",
   "execution_count": null,
   "outputs": [],
   "source": [
    "k = 5\n",
    "knn = KNeighborsClassifier(n_neighbors=k,metric = 'euclidean')\n",
    "knn.fit(X_train, y_train)\n",
    "y_pred = knn.predict(X_test)\n",
    "metrics.accuracy_score(y_test, y_pred)"
   ],
   "metadata": {
    "collapsed": false
   }
  },
  {
   "cell_type": "code",
   "execution_count": null,
   "outputs": [],
   "source": [
    "y_proba = knn.predict_proba(X_test)"
   ],
   "metadata": {
    "collapsed": false
   }
  },
  {
   "cell_type": "code",
   "execution_count": null,
   "outputs": [],
   "source": [
    "y_proba"
   ],
   "metadata": {
    "collapsed": false
   }
  },
  {
   "cell_type": "code",
   "execution_count": null,
   "outputs": [],
   "source": [
    "y_pred"
   ],
   "metadata": {
    "collapsed": false
   }
  },
  {
   "cell_type": "code",
   "execution_count": null,
   "outputs": [],
   "source": [
    "y_test"
   ],
   "metadata": {
    "collapsed": false
   }
  },
  {
   "cell_type": "code",
   "execution_count": null,
   "outputs": [],
   "source": [
    "# Teste para diferentes valores de k\n",
    "k_range = list(range(1,21))\n",
    "scores = []\n",
    "for k in k_range:\n",
    "    X_train, X_test, y_train, y_test = train_test_split(X, y, test_size=0.3, random_state=8)\n",
    "    knn = KNeighborsClassifier(n_neighbors=k,metric = 'euclidean')\n",
    "    knn.fit(X_train, y_train)\n",
    "    y_pred = knn.predict(X_test)\n",
    "    scores.append(metrics.accuracy_score(y_test, y_pred))\n",
    "\n",
    "plt.plot(k_range, scores)\n",
    "plt.xlabel('Value of k for KNN')\n",
    "plt.ylabel('Accuracy Score')\n",
    "plt.title('Accuracy Scores for Values of k of k-Nearest-Neighbors')\n",
    "plt.show()"
   ],
   "metadata": {
    "collapsed": false
   }
  },
  {
   "cell_type": "code",
   "execution_count": null,
   "outputs": [],
   "source": [
    "## Normalização dos dados\n",
    "\n",
    "X_train, X_test, y_train, y_test = train_test_split(X, y, test_size=0.3, random_state=8)\n",
    "print(X_train.shape)\n",
    "print(y_train.shape)\n",
    "print(X_test.shape)\n",
    "print(y_test.shape)"
   ],
   "metadata": {
    "collapsed": false
   }
  },
  {
   "cell_type": "code",
   "execution_count": null,
   "outputs": [],
   "source": [
    "X_train"
   ],
   "metadata": {
    "collapsed": false
   }
  },
  {
   "cell_type": "code",
   "execution_count": null,
   "outputs": [],
   "source": [
    "from sklearn.preprocessing import StandardScaler"
   ],
   "metadata": {
    "collapsed": false
   }
  },
  {
   "cell_type": "code",
   "execution_count": null,
   "outputs": [],
   "source": [
    "scaler = StandardScaler()\n",
    "scaler.fit(X_train)\n",
    "\n",
    "X_train = scaler.transform(X_train)\n",
    "X_test = scaler.transform(X_test)"
   ],
   "metadata": {
    "collapsed": false
   }
  },
  {
   "cell_type": "code",
   "execution_count": null,
   "outputs": [],
   "source": [
    "X_train"
   ],
   "metadata": {
    "collapsed": false
   }
  },
  {
   "cell_type": "code",
   "execution_count": null,
   "outputs": [],
   "source": [
    "# experimenting with different n values\n",
    "k_range = list(range(1,21))\n",
    "scores = []\n",
    "for k in k_range:\n",
    "    knn = KNeighborsClassifier(n_neighbors=k, metric = 'euclidean')\n",
    "    knn.fit(X_train, y_train)\n",
    "    y_pred = knn.predict(X_test)\n",
    "    scores.append(metrics.accuracy_score(y_test, y_pred))\n",
    "\n",
    "plt.plot(k_range, scores)\n",
    "plt.xlabel('Value of k for KNN')\n",
    "plt.ylabel('Accuracy Score')\n",
    "plt.title('Accuracy Scores for Values of k of k-Nearest-Neighbors')\n",
    "plt.show()"
   ],
   "metadata": {
    "collapsed": false
   }
  },
  {
   "cell_type": "markdown",
   "metadata": {
    "id": "KEC1nss4tyzO"
   },
   "source": [
    "<h1 style=\"font-family:Georgia;font-size:175%;text-align:left\">Random Forest Classifier</h1>"
   ]
  },
  {
   "cell_type": "code",
   "execution_count": null,
   "metadata": {
    "id": "3MmSuLnZtyzO"
   },
   "outputs": [],
   "source": [
    "forest = RandomForestClassifier(random_state=42)\n",
    "#==\n",
    "forest.fit(x_train_oversampled, y_train_oversampled)\n",
    "#==\n",
    "#Score\n",
    "#==\n",
    "forest_score = forest.score(x_train_oversampled, y_train_oversampled)\n",
    "forest_test = forest.score(X_test, y_test)\n",
    "#==\n",
    "#testing model\n",
    "#==\n",
    "y_pred = forest.predict(X_test)\n",
    "#==\n",
    "#evaluation\n",
    "#==\n",
    "cm = confusion_matrix(y_test,y_pred)\n",
    "print('Training Score',forest_score)\n",
    "print('Testing Score \\n',forest_test)\n",
    "print(cm)"
   ]
  },
  {
   "cell_type": "code",
   "execution_count": null,
   "metadata": {
    "colab": {
     "base_uri": "https://localhost:8080/",
     "height": 505
    },
    "id": "AO5eGWIFtyzP",
    "outputId": "d02be996-80db-47f4-c4e6-ab51ed6c5cde"
   },
   "outputs": [],
   "source": [
    "from sklearn.model_selection import GridSearchCV\n",
    "from sklearn.model_selection import RandomizedSearchCV"
   ]
  },
  {
   "cell_type": "markdown",
   "metadata": {
    "id": "D-Ck0L80tyzP"
   },
   "source": [
    "###################################################################################################################################################"
   ]
  },
  {
   "cell_type": "code",
   "execution_count": null,
   "outputs": [],
   "source": [
    "from sklearn.model_selection import GridSearchCV\n",
    "from sklearn.model_selection import RandomizedSearchCV"
   ],
   "metadata": {
    "collapsed": false
   }
  },
  {
   "cell_type": "code",
   "execution_count": null,
   "outputs": [],
   "source": [
    "from sklearn.model_selection import GridSearchCV\n",
    "from sklearn.model_selection import RandomizedSearchCV\n",
    "from sklearn.ensemble import RandomForestClassifier\n",
    "forest = RandomForestClassifier()\n",
    "# param_grid = {'criterion': ['gini', 'entropy', 'log_loss'],\n",
    "#               'max_features':['sqrt','log2'],\n",
    "#               'n_estimators': [10, 20, 30, 40, 50, 60, 70, 80, 100, 200, 300]}\n",
    "param_grid = {'criterion': ['gini', 'entropy', 'log_loss'],\n",
    "              'max_features':['sqrt','log2'],\n",
    "              'n_estimators': [10, 20, 30, 60]}\n",
    "#### Exemplo com GridSearchCV\n",
    "# - https://scikit-learn.org/stable/modules/generated/sklearn.model_selection.GridSearchCV.html\n",
    "g_search = GridSearchCV(estimator=forest, param_grid=param_grid,\n",
    "                        cv=10, return_train_score=True)\n",
    "sm = SMOTE()\n",
    "x_train_oversampled, y_train_oversampled = sm.fit_resample(X_train, y_train)\n",
    "print(np.unique(y_train_oversampled, return_counts=True))\n",
    "g_search.fit(x_train_oversampled, y_train_oversampled)\n",
    "print(g_search.best_params_)\n",
    "print(g_search.best_score_)"
   ],
   "metadata": {
    "collapsed": false
   }
  },
  {
   "cell_type": "markdown",
   "source": [
    "#### Exemplo com GridSearchCV\n",
    "- https://scikit-learn.org/stable/modules/generated/sklearn.model_selection.GridSearchCV.html"
   ],
   "metadata": {
    "collapsed": false
   }
  },
  {
   "cell_type": "code",
   "execution_count": null,
   "outputs": [],
   "source": [
    "g_search = GridSearchCV(estimator = forest, param_grid = param_grid,\n",
    "                        cv = 10, return_train_score=True)"
   ],
   "metadata": {
    "collapsed": false
   }
  },
  {
   "cell_type": "code",
   "execution_count": null,
   "outputs": [],
   "source": [
    "sm = SMOTE()\n",
    "x_train_oversampled, y_train_oversampled = sm.fit_resample(X_train, y_train)"
   ],
   "metadata": {
    "collapsed": false
   }
  },
  {
   "cell_type": "code",
   "execution_count": null,
   "outputs": [],
   "source": [
    "print(np.unique(y_train_oversampled, return_counts=True))"
   ],
   "metadata": {
    "collapsed": false
   }
  },
  {
   "cell_type": "code",
   "execution_count": null,
   "outputs": [],
   "source": [
    "g_search.fit(x_train_oversampled, y_train_oversampled);\n",
    "print(g_search.best_params_)"
   ],
   "metadata": {
    "collapsed": false
   }
  },
  {
   "cell_type": "code",
   "execution_count": null,
   "outputs": [],
   "source": [
    "print(g_search.best_score_)"
   ],
   "metadata": {
    "collapsed": false
   }
  },
  {
   "cell_type": "code",
   "execution_count": null,
   "outputs": [],
   "source": [],
   "metadata": {
    "collapsed": false
   }
  },
  {
   "cell_type": "code",
   "execution_count": null,
   "outputs": [],
   "source": [],
   "metadata": {
    "collapsed": false
   }
  },
  {
   "cell_type": "markdown",
   "source": [
    "#### Exemplo com RandomizedSearchCV\n",
    "- https://scikit-learn.org/stable/modules/generated/sklearn.model_selection.RandomizedSearchCV.html"
   ],
   "metadata": {
    "collapsed": false
   }
  },
  {
   "cell_type": "code",
   "execution_count": null,
   "outputs": [],
   "source": [
    "from sklearn.model_selection import RandomizedSearchCV\n",
    "from sklearn.cluster import KMeans"
   ],
   "metadata": {
    "collapsed": false
   }
  },
  {
   "cell_type": "code",
   "execution_count": null,
   "metadata": {
    "id": "MRfDfPh_tyzT"
   },
   "outputs": [],
   "source": [
    "r_search = RandomizedSearchCV(estimator = forest, param_distributions = param_grid,\n",
    "                        n_iter= 10, cv = 10, return_train_score=True)"
   ]
  },
  {
   "cell_type": "code",
   "execution_count": null,
   "metadata": {
    "id": "1gjCVKBmtyzT"
   },
   "outputs": [],
   "source": [
    "sm = SMOTE()\n",
    "x_train_oversampled, y_train_oversampled = sm.fit_resample(X_train, y_train)"
   ]
  },
  {
   "cell_type": "code",
   "execution_count": null,
   "metadata": {
    "id": "SPQZqsRhtyzT",
    "colab": {
     "base_uri": "https://localhost:8080/"
    },
    "outputId": "352832bd-cf4e-4b30-80d5-1a6ff22a2c87"
   },
   "outputs": [],
   "source": [
    "print(np.unique(y_train_oversampled, return_counts=True))"
   ]
  },
  {
   "cell_type": "code",
   "execution_count": null,
   "metadata": {
    "id": "YUN7TtCztyzU",
    "colab": {
     "base_uri": "https://localhost:8080/"
    },
    "outputId": "acb500a1-5180-4d8f-e844-efe94258fedf"
   },
   "outputs": [],
   "source": [
    "r_search.fit(x_train_oversampled, y_train_oversampled);\n",
    "print(r_search.best_params_)"
   ]
  },
  {
   "cell_type": "code",
   "execution_count": null,
   "metadata": {
    "id": "PJUyo8DWtyzU",
    "colab": {
     "base_uri": "https://localhost:8080/"
    },
    "outputId": "7592a4ca-c467-47ce-c4b2-5d9bc8e5f08d"
   },
   "outputs": [],
   "source": [
    "print(r_search.best_score_)"
   ]
  }
 ],
 "metadata": {
  "colab": {
   "provenance": []
  },
  "kernelspec": {
   "name": "python3",
   "language": "python",
   "display_name": "Python 3 (ipykernel)"
  },
  "language_info": {
   "codemirror_mode": {
    "name": "ipython",
    "version": 3
   },
   "file_extension": ".py",
   "mimetype": "text/x-python",
   "name": "python",
   "nbconvert_exporter": "python",
   "pygments_lexer": "ipython3",
   "version": "3.10.4"
  },
  "papermill": {
   "default_parameters": {},
   "duration": 75.527883,
   "end_time": "2021-02-15T11:44:10.398430",
   "environment_variables": {},
   "exception": null,
   "input_path": "__notebook__.ipynb",
   "output_path": "__notebook__.ipynb",
   "parameters": {},
   "start_time": "2021-02-15T11:42:54.870547",
   "version": "2.2.2"
  }
 },
 "nbformat": 4,
 "nbformat_minor": 0
}
